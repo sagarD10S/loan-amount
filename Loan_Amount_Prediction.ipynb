{
 "cells": [
  {
   "cell_type": "markdown",
   "metadata": {},
   "source": [
    "# Loan Amount Prediction"
   ]
  },
  {
   "cell_type": "markdown",
   "metadata": {},
   "source": [
    "###### In this project, we will be predicting the loan amount given to a particular client by a bank. "
   ]
  },
  {
   "cell_type": "markdown",
   "metadata": {},
   "source": [
    "### Importing necessary libraries"
   ]
  },
  {
   "cell_type": "code",
   "execution_count": 1,
   "metadata": {},
   "outputs": [],
   "source": [
    "import pandas as pd\n",
    "import numpy as np\n",
    "import matplotlib.pyplot as plt\n",
    "import seaborn as sns"
   ]
  },
  {
   "cell_type": "markdown",
   "metadata": {},
   "source": [
    "### Data"
   ]
  },
  {
   "cell_type": "markdown",
   "metadata": {},
   "source": [
    "###### Converting the csv file to a Pandas DataFrame"
   ]
  },
  {
   "cell_type": "code",
   "execution_count": 151,
   "metadata": {},
   "outputs": [
    {
     "data": {
      "text/html": [
       "<div>\n",
       "<style scoped>\n",
       "    .dataframe tbody tr th:only-of-type {\n",
       "        vertical-align: middle;\n",
       "    }\n",
       "\n",
       "    .dataframe tbody tr th {\n",
       "        vertical-align: top;\n",
       "    }\n",
       "\n",
       "    .dataframe thead th {\n",
       "        text-align: right;\n",
       "    }\n",
       "</style>\n",
       "<table border=\"1\" class=\"dataframe\">\n",
       "  <thead>\n",
       "    <tr style=\"text-align: right;\">\n",
       "      <th></th>\n",
       "      <th>Id</th>\n",
       "      <th>age</th>\n",
       "      <th>sex</th>\n",
       "      <th>social_class</th>\n",
       "      <th>primary_business</th>\n",
       "      <th>secondary_business</th>\n",
       "      <th>annual_income</th>\n",
       "      <th>monthly_expenses</th>\n",
       "      <th>old_dependents</th>\n",
       "      <th>young_dependents</th>\n",
       "      <th>home_ownership</th>\n",
       "      <th>occupants_count</th>\n",
       "      <th>house_area</th>\n",
       "      <th>sanitary_availability</th>\n",
       "      <th>water_availabity</th>\n",
       "      <th>loan_purpose</th>\n",
       "      <th>loan_tenure</th>\n",
       "      <th>loan_installments</th>\n",
       "      <th>loan_amount</th>\n",
       "    </tr>\n",
       "  </thead>\n",
       "  <tbody>\n",
       "    <tr>\n",
       "      <th>0</th>\n",
       "      <td>1</td>\n",
       "      <td>22</td>\n",
       "      <td>F</td>\n",
       "      <td>Mochi</td>\n",
       "      <td>Tailoring</td>\n",
       "      <td>Others</td>\n",
       "      <td>36000</td>\n",
       "      <td>5000.0</td>\n",
       "      <td>0</td>\n",
       "      <td>2</td>\n",
       "      <td>1.0</td>\n",
       "      <td>4</td>\n",
       "      <td>70</td>\n",
       "      <td>1.0</td>\n",
       "      <td>0.5</td>\n",
       "      <td>Apparels</td>\n",
       "      <td>12</td>\n",
       "      <td>12</td>\n",
       "      <td>5000</td>\n",
       "    </tr>\n",
       "    <tr>\n",
       "      <th>1</th>\n",
       "      <td>2</td>\n",
       "      <td>21</td>\n",
       "      <td>F</td>\n",
       "      <td>OBC</td>\n",
       "      <td>Tailoring</td>\n",
       "      <td>none</td>\n",
       "      <td>94000</td>\n",
       "      <td>3600.0</td>\n",
       "      <td>1</td>\n",
       "      <td>1</td>\n",
       "      <td>1.0</td>\n",
       "      <td>4</td>\n",
       "      <td>80</td>\n",
       "      <td>1.0</td>\n",
       "      <td>0.5</td>\n",
       "      <td>Apparels</td>\n",
       "      <td>12</td>\n",
       "      <td>50</td>\n",
       "      <td>7500</td>\n",
       "    </tr>\n",
       "    <tr>\n",
       "      <th>2</th>\n",
       "      <td>3</td>\n",
       "      <td>24</td>\n",
       "      <td>M</td>\n",
       "      <td>Nai</td>\n",
       "      <td>Beauty salon</td>\n",
       "      <td>Others</td>\n",
       "      <td>48000</td>\n",
       "      <td>4000.0</td>\n",
       "      <td>0</td>\n",
       "      <td>2</td>\n",
       "      <td>1.0</td>\n",
       "      <td>4</td>\n",
       "      <td>50</td>\n",
       "      <td>1.0</td>\n",
       "      <td>0.5</td>\n",
       "      <td>Beauty Salon</td>\n",
       "      <td>12</td>\n",
       "      <td>12</td>\n",
       "      <td>5000</td>\n",
       "    </tr>\n",
       "    <tr>\n",
       "      <th>3</th>\n",
       "      <td>4</td>\n",
       "      <td>26</td>\n",
       "      <td>F</td>\n",
       "      <td>OBC</td>\n",
       "      <td>Tailoring</td>\n",
       "      <td>none</td>\n",
       "      <td>7000</td>\n",
       "      <td>5000.0</td>\n",
       "      <td>0</td>\n",
       "      <td>2</td>\n",
       "      <td>1.0</td>\n",
       "      <td>5</td>\n",
       "      <td>50</td>\n",
       "      <td>1.0</td>\n",
       "      <td>0.5</td>\n",
       "      <td>Apparels</td>\n",
       "      <td>12</td>\n",
       "      <td>50</td>\n",
       "      <td>7500</td>\n",
       "    </tr>\n",
       "    <tr>\n",
       "      <th>4</th>\n",
       "      <td>5</td>\n",
       "      <td>23</td>\n",
       "      <td>F</td>\n",
       "      <td>OBC</td>\n",
       "      <td>General store</td>\n",
       "      <td>Agriculture</td>\n",
       "      <td>36000</td>\n",
       "      <td>3500.0</td>\n",
       "      <td>0</td>\n",
       "      <td>0</td>\n",
       "      <td>1.0</td>\n",
       "      <td>1</td>\n",
       "      <td>112</td>\n",
       "      <td>1.0</td>\n",
       "      <td>0.5</td>\n",
       "      <td>Retail Store</td>\n",
       "      <td>12</td>\n",
       "      <td>12</td>\n",
       "      <td>5000</td>\n",
       "    </tr>\n",
       "    <tr>\n",
       "      <th>5</th>\n",
       "      <td>6</td>\n",
       "      <td>23</td>\n",
       "      <td>F</td>\n",
       "      <td>OBC</td>\n",
       "      <td>General store</td>\n",
       "      <td>none</td>\n",
       "      <td>36000</td>\n",
       "      <td>3500.0</td>\n",
       "      <td>0</td>\n",
       "      <td>0</td>\n",
       "      <td>1.0</td>\n",
       "      <td>1</td>\n",
       "      <td>112</td>\n",
       "      <td>1.0</td>\n",
       "      <td>0.5</td>\n",
       "      <td>Retail Store</td>\n",
       "      <td>12</td>\n",
       "      <td>12</td>\n",
       "      <td>5000</td>\n",
       "    </tr>\n",
       "    <tr>\n",
       "      <th>6</th>\n",
       "      <td>7</td>\n",
       "      <td>22</td>\n",
       "      <td>F</td>\n",
       "      <td>Muchi</td>\n",
       "      <td>Tailoring</td>\n",
       "      <td>Others</td>\n",
       "      <td>36000</td>\n",
       "      <td>3000.0</td>\n",
       "      <td>0</td>\n",
       "      <td>1</td>\n",
       "      <td>1.0</td>\n",
       "      <td>3</td>\n",
       "      <td>60</td>\n",
       "      <td>1.0</td>\n",
       "      <td>0.5</td>\n",
       "      <td>Apparels</td>\n",
       "      <td>12</td>\n",
       "      <td>12</td>\n",
       "      <td>5000</td>\n",
       "    </tr>\n",
       "    <tr>\n",
       "      <th>7</th>\n",
       "      <td>8</td>\n",
       "      <td>28</td>\n",
       "      <td>F</td>\n",
       "      <td>OBC</td>\n",
       "      <td>Tailoring</td>\n",
       "      <td>none</td>\n",
       "      <td>7000</td>\n",
       "      <td>5000.0</td>\n",
       "      <td>0</td>\n",
       "      <td>2</td>\n",
       "      <td>1.0</td>\n",
       "      <td>5</td>\n",
       "      <td>40</td>\n",
       "      <td>1.0</td>\n",
       "      <td>0.5</td>\n",
       "      <td>Apparels</td>\n",
       "      <td>12</td>\n",
       "      <td>50</td>\n",
       "      <td>7500</td>\n",
       "    </tr>\n",
       "    <tr>\n",
       "      <th>8</th>\n",
       "      <td>9</td>\n",
       "      <td>38</td>\n",
       "      <td>F</td>\n",
       "      <td>Muchi</td>\n",
       "      <td>Puffed rice business</td>\n",
       "      <td>Others</td>\n",
       "      <td>36000</td>\n",
       "      <td>5000.0</td>\n",
       "      <td>0</td>\n",
       "      <td>2</td>\n",
       "      <td>1.0</td>\n",
       "      <td>5</td>\n",
       "      <td>50</td>\n",
       "      <td>1.0</td>\n",
       "      <td>0.5</td>\n",
       "      <td>Eateries</td>\n",
       "      <td>12</td>\n",
       "      <td>12</td>\n",
       "      <td>5000</td>\n",
       "    </tr>\n",
       "    <tr>\n",
       "      <th>9</th>\n",
       "      <td>10</td>\n",
       "      <td>25</td>\n",
       "      <td>F</td>\n",
       "      <td>Muchi</td>\n",
       "      <td>General store</td>\n",
       "      <td>Others</td>\n",
       "      <td>36000</td>\n",
       "      <td>5000.0</td>\n",
       "      <td>0</td>\n",
       "      <td>3</td>\n",
       "      <td>1.0</td>\n",
       "      <td>5</td>\n",
       "      <td>50</td>\n",
       "      <td>1.0</td>\n",
       "      <td>0.5</td>\n",
       "      <td>Retail Store</td>\n",
       "      <td>12</td>\n",
       "      <td>12</td>\n",
       "      <td>5000</td>\n",
       "    </tr>\n",
       "  </tbody>\n",
       "</table>\n",
       "</div>"
      ],
      "text/plain": [
       "   Id  age sex social_class      primary_business secondary_business  \\\n",
       "0   1   22   F        Mochi             Tailoring             Others   \n",
       "1   2   21   F          OBC             Tailoring               none   \n",
       "2   3   24   M          Nai          Beauty salon             Others   \n",
       "3   4   26   F          OBC             Tailoring               none   \n",
       "4   5   23   F          OBC         General store        Agriculture   \n",
       "5   6   23   F          OBC         General store               none   \n",
       "6   7   22   F        Muchi             Tailoring             Others   \n",
       "7   8   28   F          OBC             Tailoring               none   \n",
       "8   9   38   F        Muchi  Puffed rice business             Others   \n",
       "9  10   25   F        Muchi         General store             Others   \n",
       "\n",
       "   annual_income  monthly_expenses  old_dependents  young_dependents  \\\n",
       "0          36000            5000.0               0                 2   \n",
       "1          94000            3600.0               1                 1   \n",
       "2          48000            4000.0               0                 2   \n",
       "3           7000            5000.0               0                 2   \n",
       "4          36000            3500.0               0                 0   \n",
       "5          36000            3500.0               0                 0   \n",
       "6          36000            3000.0               0                 1   \n",
       "7           7000            5000.0               0                 2   \n",
       "8          36000            5000.0               0                 2   \n",
       "9          36000            5000.0               0                 3   \n",
       "\n",
       "   home_ownership  occupants_count  house_area  sanitary_availability  \\\n",
       "0             1.0                4          70                    1.0   \n",
       "1             1.0                4          80                    1.0   \n",
       "2             1.0                4          50                    1.0   \n",
       "3             1.0                5          50                    1.0   \n",
       "4             1.0                1         112                    1.0   \n",
       "5             1.0                1         112                    1.0   \n",
       "6             1.0                3          60                    1.0   \n",
       "7             1.0                5          40                    1.0   \n",
       "8             1.0                5          50                    1.0   \n",
       "9             1.0                5          50                    1.0   \n",
       "\n",
       "   water_availabity  loan_purpose  loan_tenure  loan_installments  loan_amount  \n",
       "0               0.5      Apparels           12                 12         5000  \n",
       "1               0.5      Apparels           12                 50         7500  \n",
       "2               0.5  Beauty Salon           12                 12         5000  \n",
       "3               0.5      Apparels           12                 50         7500  \n",
       "4               0.5  Retail Store           12                 12         5000  \n",
       "5               0.5  Retail Store           12                 12         5000  \n",
       "6               0.5      Apparels           12                 12         5000  \n",
       "7               0.5      Apparels           12                 50         7500  \n",
       "8               0.5      Eateries           12                 12         5000  \n",
       "9               0.5  Retail Store           12                 12         5000  "
      ]
     },
     "execution_count": 151,
     "metadata": {},
     "output_type": "execute_result"
    }
   ],
   "source": [
    "loan_data = pd.read_csv(\"/Users/sagar/Desktop/PC/VertexBlue/LoanAmountPrediction/DataAnalysisExercise/trainingData.csv\")\n",
    "loan_data.head(10)"
   ]
  },
  {
   "cell_type": "markdown",
   "metadata": {},
   "source": [
    "## EDA"
   ]
  },
  {
   "cell_type": "markdown",
   "metadata": {},
   "source": [
    "### Missing values"
   ]
  },
  {
   "cell_type": "code",
   "execution_count": 3,
   "metadata": {},
   "outputs": [
    {
     "data": {
      "text/plain": [
       "Id                          0\n",
       "age                         0\n",
       "sex                         0\n",
       "social_class             5255\n",
       "primary_business           26\n",
       "secondary_business       5241\n",
       "annual_income               0\n",
       "monthly_expenses          120\n",
       "old_dependents              0\n",
       "young_dependents            0\n",
       "home_ownership            379\n",
       "occupants_count             0\n",
       "house_area                  0\n",
       "sanitary_availability     208\n",
       "water_availabity         5253\n",
       "loan_purpose               26\n",
       "loan_tenure                 0\n",
       "loan_installments           0\n",
       "loan_amount                 0\n",
       "dtype: int64"
      ]
     },
     "execution_count": 3,
     "metadata": {},
     "output_type": "execute_result"
    }
   ],
   "source": [
    "loan_data.isnull().sum()"
   ]
  },
  {
   "cell_type": "code",
   "execution_count": 4,
   "metadata": {},
   "outputs": [
    {
     "data": {
      "text/plain": [
       "(40000, 19)"
      ]
     },
     "execution_count": 4,
     "metadata": {},
     "output_type": "execute_result"
    }
   ],
   "source": [
    "loan_data.shape"
   ]
  },
  {
   "cell_type": "code",
   "execution_count": 5,
   "metadata": {},
   "outputs": [
    {
     "data": {
      "text/plain": [
       "<AxesSubplot:>"
      ]
     },
     "execution_count": 5,
     "metadata": {},
     "output_type": "execute_result"
    },
    {
     "data": {
      "image/png": "[encoded data removed]",
      "text/plain": [
       "<Figure size 1440x1080 with 1 Axes>"
      ]
     },
     "metadata": {
      "needs_background": "light"
     },
     "output_type": "display_data"
    }
   ],
   "source": [
    "plt.figure(figsize=(20,15))\n",
    "sns.heatmap(loan_data.isnull(), yticklabels=False, cbar=False, cmap='magma')"
   ]
  },
  {
   "cell_type": "code",
   "execution_count": 152,
   "metadata": {},
   "outputs": [],
   "source": [
    "clean_data = loan_data"
   ]
  },
  {
   "cell_type": "markdown",
   "metadata": {},
   "source": [
    "### Filling the missing data"
   ]
  },
  {
   "cell_type": "code",
   "execution_count": 153,
   "metadata": {},
   "outputs": [
    {
     "data": {
      "text/plain": [
       "{'OBC': 10683,\n",
       " 'SC': 3136,\n",
       " 'ST': 2616,\n",
       " 'General': 2299,\n",
       " 'Muslim': 1743,\n",
       " 'S.C': 950,\n",
       " 'Minority': 892,\n",
       " 'Hindu': 869,\n",
       " 'GC': 807,\n",
       " 'Sechudle Caste': 769,\n",
       " 'G.C': 735,\n",
       " 'S.C.': 529,\n",
       " 'Sc': 432,\n",
       " 'GEN': 413,\n",
       " 'Obc': 399,\n",
       " 'MUSLIM': 375,\n",
       " 'NT': 373,\n",
       " 'BC': 337,\n",
       " 'General Caste': 290,\n",
       " 'Gen': 288,\n",
       " 'S.c': 244,\n",
       " 'VJNT': 229,\n",
       " 'GENERAL': 215,\n",
       " 'Mahar': 194,\n",
       " 'Open': 190,\n",
       " 'Lingahitha': 180,\n",
       " 'Christian': 174,\n",
       " 'Ezhava': 170,\n",
       " 'S.T.': 166,\n",
       " 'Schudle Cast': 160,\n",
       " 'sc': 154,\n",
       " 'Maratha': 153,\n",
       " 'S.T': 153,\n",
       " 'O.B.C': 107,\n",
       " 'GENL': 106,\n",
       " 'Kuruba': 96,\n",
       " 'O.B.C.': 90,\n",
       " 'obc': 87,\n",
       " 'Musilim': 86,\n",
       " 'Nayaka': 84,\n",
       " 'Bauddha': 84,\n",
       " 'MBC': 79,\n",
       " 'okkaliga': 78,\n",
       " 'OPEN': 76,\n",
       " 'MINORITY': 68,\n",
       " 'st': 58,\n",
       " 'Matang': 49,\n",
       " 'Genarel': 48,\n",
       " 's.c': 45,\n",
       " 'O B C': 44,\n",
       " 'Minority Comunity': 41,\n",
       " 'UJNT': 34,\n",
       " 'N.T.': 34,\n",
       " 'Mushlim': 32,\n",
       " 'Scheduled Caste': 31,\n",
       " 'Chambhar': 31,\n",
       " 'Okkaliga': 31,\n",
       " 'Mynority': 31,\n",
       " 'Nuniya': 30,\n",
       " 's.c.': 30,\n",
       " 'Mynirity': 30,\n",
       " 'Shetty': 29,\n",
       " 'S C': 28,\n",
       " 'BCE': 28,\n",
       " 'Schduled Cast': 27,\n",
       " 'Vishwakarma': 26,\n",
       " 'Genaral': 23,\n",
       " 'MM': 23,\n",
       " 'St': 22,\n",
       " 'Beda': 22,\n",
       " 'Lingayat': 22,\n",
       " 'Islam': 21,\n",
       " 'hindu': 21,\n",
       " 'Chamar': 20,\n",
       " 'Hindu_SC': 20,\n",
       " 'Kurmi': 20,\n",
       " 'Kanu': 19,\n",
       " 'OC': 18,\n",
       " 'Marathi': 17,\n",
       " 'Adiwashi': 17,\n",
       " 'Hindhu': 17,\n",
       " 'gen': 17,\n",
       " 'Sechudle Cast': 16,\n",
       " 'Gond': 16,\n",
       " 'Genl': 15,\n",
       " 'Minerity': 15,\n",
       " 'Dhangar': 14,\n",
       " 'Khan': 14,\n",
       " 'Madivala': 14,\n",
       " 'Nava-Baudha': 14,\n",
       " 'Madivala Shetty': 13,\n",
       " 'Kavara': 13,\n",
       " 'muslim': 13,\n",
       " 'Bauddh': 12,\n",
       " 'VJ': 12,\n",
       " 'Sechudle Tripe': 12,\n",
       " 'HINDU': 12,\n",
       " 'Telegushetty': 12,\n",
       " 'general': 12,\n",
       " 'Genral': 12,\n",
       " 'MC': 12,\n",
       " 'Mochi': 11,\n",
       " 'Sechudle caste': 11,\n",
       " 'Gen.': 11,\n",
       " 'Telagu': 11,\n",
       " 'Rajput': 11,\n",
       " 'Genrel': 11,\n",
       " 'Ganiga': 10,\n",
       " 'kevat': 10,\n",
       " 'Madari': 10,\n",
       " 'Bovi': 10,\n",
       " 'mionrity': 10,\n",
       " 'General caste': 10,\n",
       " 'Mali': 10,\n",
       " 'Traditional Weaving': 10,\n",
       " 'Teli': 10,\n",
       " 'Nayakkan': 10,\n",
       " 'BC-E': 9,\n",
       " 'Madrasi': 9,\n",
       " 'Cheruman': 9,\n",
       " 'Tamil': 9,\n",
       " 'balai': 9,\n",
       " 'Mang': 9,\n",
       " 'Tali': 8,\n",
       " 'Kushwaha': 8,\n",
       " 'maratha': 8,\n",
       " 'Buddha': 8,\n",
       " 'Baniya': 8,\n",
       " 'Parit': 8,\n",
       " 'Namadari': 8,\n",
       " 'Minerty': 8,\n",
       " 'Telugu Shetty': 8,\n",
       " 'SEBC': 7,\n",
       " 'Kanakkan': 7,\n",
       " 'Dholi': 7,\n",
       " 'Mynorety': 7,\n",
       " 'Chambar': 7,\n",
       " 'Muchi': 7,\n",
       " 'Sekh': 7,\n",
       " 'Dhobi': 7,\n",
       " 'Minorty': 7,\n",
       " 'Harijan_SC': 6,\n",
       " 'Vjnt': 6,\n",
       " 'Nair': 6,\n",
       " 'Scheduled tribe': 6,\n",
       " 'christian': 6,\n",
       " 'Baudhha': 6,\n",
       " 'THAKUR': 6,\n",
       " 'Malviya': 6,\n",
       " 'Balai': 6,\n",
       " 'BALAI': 6,\n",
       " 'Opan': 6,\n",
       " 'Mannan': 6,\n",
       " 'Achari': 6,\n",
       " 'Soliga': 5,\n",
       " 'Scedelt Cast': 5,\n",
       " 'Other Backward caste': 5,\n",
       " 'Harijan': 5,\n",
       " 'Nai': 5,\n",
       " 'Lohar': 5,\n",
       " 'Gounder': 5,\n",
       " 'Prasad': 5,\n",
       " 'Kaniyaru': 5,\n",
       " 'o': 5,\n",
       " 'minority': 5,\n",
       " 'Dhangar(Nomadic Tribes)': 5,\n",
       " 'Ediga Gwoda': 5,\n",
       " 'genral': 5,\n",
       " 'Dushad': 4,\n",
       " 'Hindu, Kuruba': 4,\n",
       " 'Lingayath': 4,\n",
       " 'Vishvakarma': 4,\n",
       " 'Mankar': 4,\n",
       " 'keer': 4,\n",
       " 'teli': 4,\n",
       " 'lingayat': 4,\n",
       " 'Yarava': 4,\n",
       " '0bc': 4,\n",
       " 'Shikh': 4,\n",
       " 'Viswakarma': 4,\n",
       " 'Mehatar': 4,\n",
       " 'Ganiga shetty': 4,\n",
       " 'Shettaru': 4,\n",
       " 'Chettiyar': 4,\n",
       " 'Jain': 4,\n",
       " 'Chabhar': 4,\n",
       " 'mahar': 4,\n",
       " 'Urs': 4,\n",
       " 'Sutar': 4,\n",
       " 'Panjabi': 4,\n",
       " 'Kalwar': 4,\n",
       " 'tanwar': 4,\n",
       " 'Ahir': 4,\n",
       " 'Chricshan': 4,\n",
       " 'Panika': 4,\n",
       " 'Kumbara shetty': 4,\n",
       " 'Hindu_OBC': 4,\n",
       " 'Thandan': 4,\n",
       " 'Uppar sheety': 3,\n",
       " 'BC-B': 3,\n",
       " 'Nepali': 3,\n",
       " 'Gondhali': 3,\n",
       " 'Kumhar': 3,\n",
       " 'Modaliyar': 3,\n",
       " 'Nt': 3,\n",
       " 'Kammara': 3,\n",
       " 'Sonar (OBC)': 3,\n",
       " 'Kumbhar': 3,\n",
       " 'Bramin': 3,\n",
       " 'Pilla': 3,\n",
       " 'Other': 3,\n",
       " 'Kol': 3,\n",
       " 'Gosavi': 3,\n",
       " 'S.E.B.C': 3,\n",
       " 'ezhava': 3,\n",
       " 'Telgu': 3,\n",
       " 'R C': 3,\n",
       " 'AC': 3,\n",
       " 'Scheduled Tribe': 3,\n",
       " 'Baiga': 3,\n",
       " 'patel': 3,\n",
       " '24 telugashetty': 3,\n",
       " 'Arya vyshya': 3,\n",
       " 'Gowda': 3,\n",
       " 'Linghaitha': 3,\n",
       " 'Kahar': 3,\n",
       " 'ST Gond': 3,\n",
       " 'Tribal': 3,\n",
       " 'Sechudled Caste': 3,\n",
       " 'Janral': 2,\n",
       " 'Musilm': 2,\n",
       " 'Kayshtha': 2,\n",
       " 'Mouchi': 2,\n",
       " 'Kuruba Gowda': 2,\n",
       " 'Vadar': 2,\n",
       " 'TRIBEL': 2,\n",
       " 'Rajaputh': 2,\n",
       " 'Sonar': 2,\n",
       " 'Bhangi': 2,\n",
       " 'Tamboli': 2,\n",
       " 'S': 2,\n",
       " 'Mahali': 2,\n",
       " 'Visawakarma': 2,\n",
       " 'Kunabee': 2,\n",
       " 'Pandit': 2,\n",
       " 'S. t.': 2,\n",
       " 'Toli': 2,\n",
       " 'Minority comunity': 2,\n",
       " 'Mahar(SC)': 2,\n",
       " 'Lingyatha': 2,\n",
       " 'Jain Kuruba': 2,\n",
       " 'Chetti': 2,\n",
       " 'Jangam': 2,\n",
       " 'O': 2,\n",
       " 'Nil': 2,\n",
       " 'UR': 2,\n",
       " 'Others': 2,\n",
       " 'Bhil': 2,\n",
       " 'Uppara': 2,\n",
       " 'A.C': 2,\n",
       " 'mali': 2,\n",
       " 'Savitha samaja': 2,\n",
       " 'gond': 2,\n",
       " 'Mulim': 2,\n",
       " 'Muslin': 2,\n",
       " 'Genarel Cast': 2,\n",
       " 'Kunabi': 2,\n",
       " 'kureshi': 2,\n",
       " 'Ediga': 2,\n",
       " 'Rajpoot': 2,\n",
       " 'Not available': 2,\n",
       " 'Beda Jangama': 2,\n",
       " 'Okkalige': 2,\n",
       " 'Bheel': 2,\n",
       " 'Gawali': 2,\n",
       " 'open': 2,\n",
       " 'GENERALH': 2,\n",
       " 'Bouri': 2,\n",
       " 'Madivala Shettru': 2,\n",
       " 'Marwari': 2,\n",
       " 'Pandaram': 2,\n",
       " 'Papad Making': 2,\n",
       " 'Pasi': 2,\n",
       " 'Chetty': 2,\n",
       " 'Pandey': 2,\n",
       " 'Hindu_Ezhava': 2,\n",
       " 'Agrawal': 2,\n",
       " 'Kusbaha': 2,\n",
       " 'Yadav': 2,\n",
       " 'Gound': 2,\n",
       " 'Menon': 2,\n",
       " 'Kannad': 2,\n",
       " 'Thakur': 2,\n",
       " '45': 2,\n",
       " 'sheetaru': 2,\n",
       " 'vjnt': 2,\n",
       " 'Baudh': 2,\n",
       " 'Upparshetty': 2,\n",
       " 'sdf': 2,\n",
       " 'Achar': 2,\n",
       " 'Kokani': 2,\n",
       " 'Banjari': 1,\n",
       " 'Mehattar': 1,\n",
       " 'ew': 1,\n",
       " 'kachi': 1,\n",
       " 'Punjabi': 1,\n",
       " 'Methar': 1,\n",
       " 'Balajiga': 1,\n",
       " 'Seth': 1,\n",
       " 'Ganigarashetty': 1,\n",
       " 'Arya vyshaya': 1,\n",
       " 'Ambiga': 1,\n",
       " 'Gorai': 1,\n",
       " 'pardeshi': 1,\n",
       " 'Vadavar': 1,\n",
       " 'Prajapati': 1,\n",
       " 'S.S': 1,\n",
       " 'OGC': 1,\n",
       " 'Katical': 1,\n",
       " 'Madivlar shetty': 1,\n",
       " 'Shiv Nagar Goli': 1,\n",
       " 'RAJPOOT': 1,\n",
       " 'Silawat': 1,\n",
       " 'Gowda shettru': 1,\n",
       " 'Khatik': 1,\n",
       " 'Gujrathi': 1,\n",
       " 'Golla': 1,\n",
       " 'Bauoddh': 1,\n",
       " 'G': 1,\n",
       " 'Vanjara': 1,\n",
       " 'Lodhi': 1,\n",
       " 'Bhaat': 1,\n",
       " 'Banajiga': 1,\n",
       " 'Ligayat': 1,\n",
       " 'Cathartic': 1,\n",
       " 'Geberal': 1,\n",
       " 'Devanga': 1,\n",
       " 'Kshatriya Marata': 1,\n",
       " 'dholi': 1,\n",
       " 'Khrichan': 1,\n",
       " 'Barber': 1,\n",
       " '27': 1,\n",
       " 'setu(marvadi)': 1,\n",
       " 'Jaiswal': 1,\n",
       " 'Korma': 1,\n",
       " 'G.S': 1,\n",
       " 'Mahadev Koli': 1,\n",
       " 'Boudh': 1,\n",
       " 'Gejjagara shetty': 1,\n",
       " 'Bhuiya': 1,\n",
       " 'Bhovi': 1,\n",
       " 'STC': 1,\n",
       " 'Kshtriya morla': 1,\n",
       " 'Madivalshetty': 1,\n",
       " 'Gen- BPL': 1,\n",
       " 'Dhankar': 1,\n",
       " 'Nadar': 1,\n",
       " 'Grn.': 1,\n",
       " 'SU': 1,\n",
       " 'Pardeshi': 1,\n",
       " 'Sheety': 1,\n",
       " 'Kasar- OBC': 1,\n",
       " 'Bhumiyaar': 1,\n",
       " 'banjaran': 1,\n",
       " 'Married': 1,\n",
       " 'Rai': 1,\n",
       " 'Vokaliga Gowda': 1,\n",
       " 'Pradhan': 1,\n",
       " 'Maniroty Comunity': 1,\n",
       " 'ONT': 1,\n",
       " 'Koli': 1,\n",
       " 'annn': 1,\n",
       " 'Maruthuvar': 1,\n",
       " 'Kewat': 1,\n",
       " 'Noli': 1,\n",
       " 'STSC': 1,\n",
       " 'B.C.': 1,\n",
       " 'Wadar': 1,\n",
       " 'Sunni': 1,\n",
       " 'Kamma -Telagu': 1,\n",
       " 'Tank': 1,\n",
       " 'dhandar': 1,\n",
       " 'Kamma': 1,\n",
       " 'Hindu, Waddar': 1,\n",
       " 'Teluga shetty': 1,\n",
       " 'Pulayan': 1,\n",
       " 'Sechudle Tribe': 1,\n",
       " 'MEENDA': 1,\n",
       " 'Brhaman': 1,\n",
       " 'malviya': 1,\n",
       " 'Budhhiest': 1,\n",
       " 'Ghisadi': 1,\n",
       " 'Ramoshi': 1,\n",
       " 'O P N': 1,\n",
       " 'Chambahr': 1,\n",
       " 'Bramhan': 1,\n",
       " 'kurbiya': 1,\n",
       " 'Dhangar(Nomadic Tribe)': 1,\n",
       " 'Kalal': 1,\n",
       " 'Settru': 1,\n",
       " 'Minirity': 1,\n",
       " 'Sali': 1,\n",
       " 'Nayar': 1,\n",
       " 'Christians': 1,\n",
       " 'Garg': 1,\n",
       " 'Braman': 1,\n",
       " 'bhill': 1,\n",
       " '9': 1,\n",
       " 'Valmiki': 1,\n",
       " 'Ravat': 1,\n",
       " 'thakur': 1,\n",
       " 'others': 1,\n",
       " 'MAHAR': 1,\n",
       " 'Kumbarshetty': 1,\n",
       " 'Hatkar': 1,\n",
       " 'Khushwaha': 1,\n",
       " 'Edigagowdas': 1,\n",
       " 'OBC`': 1,\n",
       " 'Bodhi': 1,\n",
       " 'Vaishnavi': 1,\n",
       " 'Carpenter': 1,\n",
       " 'kumbhar': 1,\n",
       " 'Bc': 1,\n",
       " 'TRIBAL': 1,\n",
       " 'Cristan': 1,\n",
       " 'Edigagowda': 1,\n",
       " 'Oraon': 1,\n",
       " 'Kuruba bowda': 1,\n",
       " 'Vanjari': 1,\n",
       " 'Shimpit': 1,\n",
       " 'Gowala': 1,\n",
       " 'Pashi': 1,\n",
       " 'okkalige': 1,\n",
       " 'Lamani': 1,\n",
       " 'Koramashetty': 1,\n",
       " 'Kevat': 1,\n",
       " 'SBC': 1,\n",
       " 'Goad': 1,\n",
       " 'Brahman': 1,\n",
       " 'Crichtion': 1,\n",
       " 'GN': 1,\n",
       " 'Kuravu': 1,\n",
       " 'Patel': 1,\n",
       " 'Naikan': 1,\n",
       " 'Telagu  Kamathi': 1,\n",
       " 'Meeda': 1,\n",
       " 'Gadariya': 1,\n",
       " 'Boyar': 1,\n",
       " 'Gayatri': 1,\n",
       " 'Ezhuva': 1,\n",
       " 'Shiv': 1,\n",
       " 'Goundar': 1,\n",
       " 'Kumhaar': 1,\n",
       " 'Dahiya': 1,\n",
       " 'oc': 1,\n",
       " 'Madar': 1,\n",
       " 'M': 1,\n",
       " '2nd': 1,\n",
       " '48000': 1,\n",
       " 'Chand': 1,\n",
       " 'Modi': 1,\n",
       " 'Chambhar-SC': 1,\n",
       " 'Dhangar(Nomadic tribes)': 1,\n",
       " 'Noniya': 1,\n",
       " 'GEN.': 1,\n",
       " 'chamar': 1,\n",
       " 'Nayadu': 1,\n",
       " 'Upara Settaru': 1,\n",
       " 'PunJabi': 1,\n",
       " 'parmar': 1,\n",
       " 'Padmshali': 1,\n",
       " 'Gejjagarashetty': 1,\n",
       " 'Broman': 1,\n",
       " 'Naath': 1,\n",
       " 'Jenu Kuruba': 1,\n",
       " 'Gten': 1,\n",
       " 'Mainolity': 1,\n",
       " 'Upparashetty': 1,\n",
       " 'Kuruhina shetty': 1,\n",
       " 'Bramina': 1,\n",
       " 'm': 1,\n",
       " 'Badgaiyan': 1,\n",
       " '42': 1,\n",
       " 'Yaruvas': 1,\n",
       " 'gadriya': 1,\n",
       " 'Barbour (Nai)': 1,\n",
       " 'Thigala': 1,\n",
       " 'Thelugasetty': 1,\n",
       " 'Behari': 1,\n",
       " 'Bairagi': 1,\n",
       " 'Mushar': 1,\n",
       " 'Nahavi': 1,\n",
       " 'Rajak': 1,\n",
       " 'Tiwari': 1,\n",
       " 'Kurubas': 1,\n",
       " '23': 1,\n",
       " 'Tribal Artisans': 1,\n",
       " 'Mannar': 1,\n",
       " 'Savitha janaga': 1,\n",
       " 'Arasu': 1,\n",
       " 'Nishad': 1,\n",
       " 'Genetal': 1,\n",
       " 'Gaud': 1,\n",
       " 'ST(Harijan)': 1,\n",
       " 'ABC': 1,\n",
       " 'Adi karnataka (sc)': 1,\n",
       " 'Christain': 1,\n",
       " 'Singh': 1,\n",
       " 'Lingayat  Vani': 1,\n",
       " '48': 1,\n",
       " 'Ganigashetty': 1,\n",
       " 'Schedule Caste': 1,\n",
       " 'BRAMAN': 1,\n",
       " 'Muslimm': 1,\n",
       " 'Nhavi': 1,\n",
       " 'V.J.N.T.': 1,\n",
       " 'Banjara': 1,\n",
       " 'Aachari': 1,\n",
       " 'Veerashyva': 1}"
      ]
     },
     "execution_count": 153,
     "metadata": {},
     "output_type": "execute_result"
    }
   ],
   "source": [
    "clean_data['social_class'].value_counts().to_dict()"
   ]
  },
  {
   "cell_type": "markdown",
   "metadata": {},
   "source": [
    "##### As 'social_class' is a categorical feature, we can only find out its mode i.e. 'OBC'. We will be using the mode to fill in all the null values in this feature."
   ]
  },
  {
   "cell_type": "code",
   "execution_count": 155,
   "metadata": {},
   "outputs": [
    {
     "data": {
      "text/plain": [
       "'OBC'"
      ]
     },
     "execution_count": 155,
     "metadata": {},
     "output_type": "execute_result"
    }
   ],
   "source": [
    "clean_data['social_class'].mode()[0]"
   ]
  },
  {
   "cell_type": "code",
   "execution_count": 156,
   "metadata": {},
   "outputs": [],
   "source": [
    "clean_data['social_class'].fillna(clean_data['social_class'].mode()[0], inplace=True) "
   ]
  },
  {
   "cell_type": "code",
   "execution_count": 157,
   "metadata": {},
   "outputs": [
    {
     "data": {
      "text/plain": [
       "{'OBC': 15938,\n",
       " 'SC': 3136,\n",
       " 'ST': 2616,\n",
       " 'General': 2299,\n",
       " 'Muslim': 1743,\n",
       " 'S.C': 950,\n",
       " 'Minority': 892,\n",
       " 'Hindu': 869,\n",
       " 'GC': 807,\n",
       " 'Sechudle Caste': 769,\n",
       " 'G.C': 735,\n",
       " 'S.C.': 529,\n",
       " 'Sc': 432,\n",
       " 'GEN': 413,\n",
       " 'Obc': 399,\n",
       " 'MUSLIM': 375,\n",
       " 'NT': 373,\n",
       " 'BC': 337,\n",
       " 'General Caste': 290,\n",
       " 'Gen': 288,\n",
       " 'S.c': 244,\n",
       " 'VJNT': 229,\n",
       " 'GENERAL': 215,\n",
       " 'Mahar': 194,\n",
       " 'Open': 190,\n",
       " 'Lingahitha': 180,\n",
       " 'Christian': 174,\n",
       " 'Ezhava': 170,\n",
       " 'S.T.': 166,\n",
       " 'Schudle Cast': 160,\n",
       " 'sc': 154,\n",
       " 'Maratha': 153,\n",
       " 'S.T': 153,\n",
       " 'O.B.C': 107,\n",
       " 'GENL': 106,\n",
       " 'Kuruba': 96,\n",
       " 'O.B.C.': 90,\n",
       " 'obc': 87,\n",
       " 'Musilim': 86,\n",
       " 'Nayaka': 84,\n",
       " 'Bauddha': 84,\n",
       " 'MBC': 79,\n",
       " 'okkaliga': 78,\n",
       " 'OPEN': 76,\n",
       " 'MINORITY': 68,\n",
       " 'st': 58,\n",
       " 'Matang': 49,\n",
       " 'Genarel': 48,\n",
       " 's.c': 45,\n",
       " 'O B C': 44,\n",
       " 'Minority Comunity': 41,\n",
       " 'UJNT': 34,\n",
       " 'N.T.': 34,\n",
       " 'Mushlim': 32,\n",
       " 'Scheduled Caste': 31,\n",
       " 'Chambhar': 31,\n",
       " 'Okkaliga': 31,\n",
       " 'Mynority': 31,\n",
       " 'Nuniya': 30,\n",
       " 's.c.': 30,\n",
       " 'Mynirity': 30,\n",
       " 'Shetty': 29,\n",
       " 'S C': 28,\n",
       " 'BCE': 28,\n",
       " 'Schduled Cast': 27,\n",
       " 'Vishwakarma': 26,\n",
       " 'Genaral': 23,\n",
       " 'MM': 23,\n",
       " 'St': 22,\n",
       " 'Beda': 22,\n",
       " 'Lingayat': 22,\n",
       " 'Islam': 21,\n",
       " 'hindu': 21,\n",
       " 'Chamar': 20,\n",
       " 'Hindu_SC': 20,\n",
       " 'Kurmi': 20,\n",
       " 'Kanu': 19,\n",
       " 'OC': 18,\n",
       " 'Marathi': 17,\n",
       " 'Adiwashi': 17,\n",
       " 'Hindhu': 17,\n",
       " 'gen': 17,\n",
       " 'Sechudle Cast': 16,\n",
       " 'Gond': 16,\n",
       " 'Genl': 15,\n",
       " 'Minerity': 15,\n",
       " 'Dhangar': 14,\n",
       " 'Khan': 14,\n",
       " 'Madivala': 14,\n",
       " 'Nava-Baudha': 14,\n",
       " 'Madivala Shetty': 13,\n",
       " 'Kavara': 13,\n",
       " 'muslim': 13,\n",
       " 'Bauddh': 12,\n",
       " 'VJ': 12,\n",
       " 'Sechudle Tripe': 12,\n",
       " 'HINDU': 12,\n",
       " 'Telegushetty': 12,\n",
       " 'general': 12,\n",
       " 'Genral': 12,\n",
       " 'MC': 12,\n",
       " 'Mochi': 11,\n",
       " 'Sechudle caste': 11,\n",
       " 'Gen.': 11,\n",
       " 'Telagu': 11,\n",
       " 'Rajput': 11,\n",
       " 'Genrel': 11,\n",
       " 'Ganiga': 10,\n",
       " 'kevat': 10,\n",
       " 'Madari': 10,\n",
       " 'Bovi': 10,\n",
       " 'mionrity': 10,\n",
       " 'General caste': 10,\n",
       " 'Mali': 10,\n",
       " 'Traditional Weaving': 10,\n",
       " 'Teli': 10,\n",
       " 'Nayakkan': 10,\n",
       " 'BC-E': 9,\n",
       " 'Madrasi': 9,\n",
       " 'Cheruman': 9,\n",
       " 'Tamil': 9,\n",
       " 'balai': 9,\n",
       " 'Mang': 9,\n",
       " 'Tali': 8,\n",
       " 'Kushwaha': 8,\n",
       " 'maratha': 8,\n",
       " 'Buddha': 8,\n",
       " 'Baniya': 8,\n",
       " 'Parit': 8,\n",
       " 'Namadari': 8,\n",
       " 'Minerty': 8,\n",
       " 'Telugu Shetty': 8,\n",
       " 'SEBC': 7,\n",
       " 'Kanakkan': 7,\n",
       " 'Dholi': 7,\n",
       " 'Mynorety': 7,\n",
       " 'Chambar': 7,\n",
       " 'Muchi': 7,\n",
       " 'Sekh': 7,\n",
       " 'Dhobi': 7,\n",
       " 'Minorty': 7,\n",
       " 'Harijan_SC': 6,\n",
       " 'Vjnt': 6,\n",
       " 'Nair': 6,\n",
       " 'Scheduled tribe': 6,\n",
       " 'christian': 6,\n",
       " 'Baudhha': 6,\n",
       " 'THAKUR': 6,\n",
       " 'Malviya': 6,\n",
       " 'Balai': 6,\n",
       " 'BALAI': 6,\n",
       " 'Opan': 6,\n",
       " 'Mannan': 6,\n",
       " 'Achari': 6,\n",
       " 'Soliga': 5,\n",
       " 'Scedelt Cast': 5,\n",
       " 'Other Backward caste': 5,\n",
       " 'Harijan': 5,\n",
       " 'Nai': 5,\n",
       " 'Lohar': 5,\n",
       " 'Gounder': 5,\n",
       " 'Prasad': 5,\n",
       " 'Kaniyaru': 5,\n",
       " 'o': 5,\n",
       " 'minority': 5,\n",
       " 'Dhangar(Nomadic Tribes)': 5,\n",
       " 'Ediga Gwoda': 5,\n",
       " 'genral': 5,\n",
       " 'Dushad': 4,\n",
       " 'Hindu, Kuruba': 4,\n",
       " 'Lingayath': 4,\n",
       " 'Vishvakarma': 4,\n",
       " 'Mankar': 4,\n",
       " 'keer': 4,\n",
       " 'teli': 4,\n",
       " 'lingayat': 4,\n",
       " 'Yarava': 4,\n",
       " '0bc': 4,\n",
       " 'Shikh': 4,\n",
       " 'Viswakarma': 4,\n",
       " 'Mehatar': 4,\n",
       " 'Ganiga shetty': 4,\n",
       " 'Shettaru': 4,\n",
       " 'Chettiyar': 4,\n",
       " 'Jain': 4,\n",
       " 'Chabhar': 4,\n",
       " 'mahar': 4,\n",
       " 'Urs': 4,\n",
       " 'Sutar': 4,\n",
       " 'Panjabi': 4,\n",
       " 'Kalwar': 4,\n",
       " 'tanwar': 4,\n",
       " 'Ahir': 4,\n",
       " 'Chricshan': 4,\n",
       " 'Panika': 4,\n",
       " 'Kumbara shetty': 4,\n",
       " 'Hindu_OBC': 4,\n",
       " 'Thandan': 4,\n",
       " 'Uppar sheety': 3,\n",
       " 'BC-B': 3,\n",
       " 'Nepali': 3,\n",
       " 'Gondhali': 3,\n",
       " 'Kumhar': 3,\n",
       " 'Modaliyar': 3,\n",
       " 'Nt': 3,\n",
       " 'Kammara': 3,\n",
       " 'Sonar (OBC)': 3,\n",
       " 'Kumbhar': 3,\n",
       " 'Bramin': 3,\n",
       " 'Pilla': 3,\n",
       " 'Other': 3,\n",
       " 'Kol': 3,\n",
       " 'Gosavi': 3,\n",
       " 'S.E.B.C': 3,\n",
       " 'ezhava': 3,\n",
       " 'Telgu': 3,\n",
       " 'R C': 3,\n",
       " 'AC': 3,\n",
       " 'Scheduled Tribe': 3,\n",
       " 'Baiga': 3,\n",
       " 'patel': 3,\n",
       " '24 telugashetty': 3,\n",
       " 'Arya vyshya': 3,\n",
       " 'Gowda': 3,\n",
       " 'Linghaitha': 3,\n",
       " 'Kahar': 3,\n",
       " 'ST Gond': 3,\n",
       " 'Tribal': 3,\n",
       " 'Sechudled Caste': 3,\n",
       " 'Janral': 2,\n",
       " 'Musilm': 2,\n",
       " 'Kayshtha': 2,\n",
       " 'Mouchi': 2,\n",
       " 'Kuruba Gowda': 2,\n",
       " 'Vadar': 2,\n",
       " 'TRIBEL': 2,\n",
       " 'Rajaputh': 2,\n",
       " 'Sonar': 2,\n",
       " 'Bhangi': 2,\n",
       " 'Tamboli': 2,\n",
       " 'S': 2,\n",
       " 'Mahali': 2,\n",
       " 'Visawakarma': 2,\n",
       " 'Kunabee': 2,\n",
       " 'Pandit': 2,\n",
       " 'S. t.': 2,\n",
       " 'Toli': 2,\n",
       " 'Minority comunity': 2,\n",
       " 'Mahar(SC)': 2,\n",
       " 'Lingyatha': 2,\n",
       " 'Jain Kuruba': 2,\n",
       " 'Chetti': 2,\n",
       " 'Jangam': 2,\n",
       " 'O': 2,\n",
       " 'Nil': 2,\n",
       " 'UR': 2,\n",
       " 'Others': 2,\n",
       " 'Bhil': 2,\n",
       " 'Uppara': 2,\n",
       " 'A.C': 2,\n",
       " 'mali': 2,\n",
       " 'Savitha samaja': 2,\n",
       " 'gond': 2,\n",
       " 'Mulim': 2,\n",
       " 'Muslin': 2,\n",
       " 'Genarel Cast': 2,\n",
       " 'Kunabi': 2,\n",
       " 'kureshi': 2,\n",
       " 'Ediga': 2,\n",
       " 'Rajpoot': 2,\n",
       " 'Not available': 2,\n",
       " 'Beda Jangama': 2,\n",
       " 'Okkalige': 2,\n",
       " 'Bheel': 2,\n",
       " 'Gawali': 2,\n",
       " 'open': 2,\n",
       " 'GENERALH': 2,\n",
       " 'Bouri': 2,\n",
       " 'Madivala Shettru': 2,\n",
       " 'Marwari': 2,\n",
       " 'Pandaram': 2,\n",
       " 'Papad Making': 2,\n",
       " 'Pasi': 2,\n",
       " 'Chetty': 2,\n",
       " 'Pandey': 2,\n",
       " 'Hindu_Ezhava': 2,\n",
       " 'Agrawal': 2,\n",
       " 'Kusbaha': 2,\n",
       " 'Yadav': 2,\n",
       " 'Gound': 2,\n",
       " 'Menon': 2,\n",
       " 'Kannad': 2,\n",
       " 'Thakur': 2,\n",
       " '45': 2,\n",
       " 'sheetaru': 2,\n",
       " 'vjnt': 2,\n",
       " 'Baudh': 2,\n",
       " 'Upparshetty': 2,\n",
       " 'sdf': 2,\n",
       " 'Achar': 2,\n",
       " 'Kokani': 2,\n",
       " 'Banjari': 1,\n",
       " 'Mehattar': 1,\n",
       " 'ew': 1,\n",
       " 'kachi': 1,\n",
       " 'Punjabi': 1,\n",
       " 'Methar': 1,\n",
       " 'Balajiga': 1,\n",
       " 'Seth': 1,\n",
       " 'Ganigarashetty': 1,\n",
       " 'Arya vyshaya': 1,\n",
       " 'Ambiga': 1,\n",
       " 'Gorai': 1,\n",
       " 'pardeshi': 1,\n",
       " 'Vadavar': 1,\n",
       " 'Prajapati': 1,\n",
       " 'S.S': 1,\n",
       " 'OGC': 1,\n",
       " 'Katical': 1,\n",
       " 'Madivlar shetty': 1,\n",
       " 'Shiv Nagar Goli': 1,\n",
       " 'RAJPOOT': 1,\n",
       " 'Silawat': 1,\n",
       " 'Gowda shettru': 1,\n",
       " 'Khatik': 1,\n",
       " 'Gujrathi': 1,\n",
       " 'Golla': 1,\n",
       " 'Bauoddh': 1,\n",
       " 'G': 1,\n",
       " 'Vanjara': 1,\n",
       " 'Lodhi': 1,\n",
       " 'Bhaat': 1,\n",
       " 'Banajiga': 1,\n",
       " 'Ligayat': 1,\n",
       " 'Cathartic': 1,\n",
       " 'Geberal': 1,\n",
       " 'Devanga': 1,\n",
       " 'Kshatriya Marata': 1,\n",
       " 'dholi': 1,\n",
       " 'Khrichan': 1,\n",
       " 'Barber': 1,\n",
       " '27': 1,\n",
       " 'setu(marvadi)': 1,\n",
       " 'Jaiswal': 1,\n",
       " 'Korma': 1,\n",
       " 'G.S': 1,\n",
       " 'Mahadev Koli': 1,\n",
       " 'Boudh': 1,\n",
       " 'Gejjagara shetty': 1,\n",
       " 'Bhuiya': 1,\n",
       " 'Bhovi': 1,\n",
       " 'STC': 1,\n",
       " 'Kshtriya morla': 1,\n",
       " 'Madivalshetty': 1,\n",
       " 'Gen- BPL': 1,\n",
       " 'Dhankar': 1,\n",
       " 'Nadar': 1,\n",
       " 'Grn.': 1,\n",
       " 'SU': 1,\n",
       " 'Pardeshi': 1,\n",
       " 'Sheety': 1,\n",
       " 'Kasar- OBC': 1,\n",
       " 'Bhumiyaar': 1,\n",
       " 'banjaran': 1,\n",
       " 'Married': 1,\n",
       " 'Rai': 1,\n",
       " 'Vokaliga Gowda': 1,\n",
       " 'Pradhan': 1,\n",
       " 'Maniroty Comunity': 1,\n",
       " 'ONT': 1,\n",
       " 'Koli': 1,\n",
       " 'annn': 1,\n",
       " 'Maruthuvar': 1,\n",
       " 'Kewat': 1,\n",
       " 'Noli': 1,\n",
       " 'STSC': 1,\n",
       " 'B.C.': 1,\n",
       " 'Wadar': 1,\n",
       " 'Sunni': 1,\n",
       " 'Kamma -Telagu': 1,\n",
       " 'Tank': 1,\n",
       " 'dhandar': 1,\n",
       " 'Kamma': 1,\n",
       " 'Hindu, Waddar': 1,\n",
       " 'Teluga shetty': 1,\n",
       " 'Pulayan': 1,\n",
       " 'Sechudle Tribe': 1,\n",
       " 'MEENDA': 1,\n",
       " 'Brhaman': 1,\n",
       " 'malviya': 1,\n",
       " 'Budhhiest': 1,\n",
       " 'Ghisadi': 1,\n",
       " 'Ramoshi': 1,\n",
       " 'O P N': 1,\n",
       " 'Chambahr': 1,\n",
       " 'Bramhan': 1,\n",
       " 'kurbiya': 1,\n",
       " 'Dhangar(Nomadic Tribe)': 1,\n",
       " 'Kalal': 1,\n",
       " 'Settru': 1,\n",
       " 'Minirity': 1,\n",
       " 'Sali': 1,\n",
       " 'Nayar': 1,\n",
       " 'Christians': 1,\n",
       " 'Garg': 1,\n",
       " 'Braman': 1,\n",
       " 'bhill': 1,\n",
       " '9': 1,\n",
       " 'Valmiki': 1,\n",
       " 'Ravat': 1,\n",
       " 'thakur': 1,\n",
       " 'others': 1,\n",
       " 'MAHAR': 1,\n",
       " 'Kumbarshetty': 1,\n",
       " 'Hatkar': 1,\n",
       " 'Khushwaha': 1,\n",
       " 'Edigagowdas': 1,\n",
       " 'OBC`': 1,\n",
       " 'Bodhi': 1,\n",
       " 'Vaishnavi': 1,\n",
       " 'Carpenter': 1,\n",
       " 'kumbhar': 1,\n",
       " 'Bc': 1,\n",
       " 'TRIBAL': 1,\n",
       " 'Cristan': 1,\n",
       " 'Edigagowda': 1,\n",
       " 'Oraon': 1,\n",
       " 'Kuruba bowda': 1,\n",
       " 'Vanjari': 1,\n",
       " 'Shimpit': 1,\n",
       " 'Gowala': 1,\n",
       " 'Pashi': 1,\n",
       " 'okkalige': 1,\n",
       " 'Lamani': 1,\n",
       " 'Koramashetty': 1,\n",
       " 'Kevat': 1,\n",
       " 'SBC': 1,\n",
       " 'Goad': 1,\n",
       " 'Brahman': 1,\n",
       " 'Crichtion': 1,\n",
       " 'GN': 1,\n",
       " 'Kuravu': 1,\n",
       " 'Patel': 1,\n",
       " 'Naikan': 1,\n",
       " 'Telagu  Kamathi': 1,\n",
       " 'Meeda': 1,\n",
       " 'Gadariya': 1,\n",
       " 'Boyar': 1,\n",
       " 'Gayatri': 1,\n",
       " 'Ezhuva': 1,\n",
       " 'Shiv': 1,\n",
       " 'Goundar': 1,\n",
       " 'Kumhaar': 1,\n",
       " 'Dahiya': 1,\n",
       " 'oc': 1,\n",
       " 'Madar': 1,\n",
       " 'M': 1,\n",
       " '2nd': 1,\n",
       " '48000': 1,\n",
       " 'Chand': 1,\n",
       " 'Modi': 1,\n",
       " 'Chambhar-SC': 1,\n",
       " 'Dhangar(Nomadic tribes)': 1,\n",
       " 'Noniya': 1,\n",
       " 'GEN.': 1,\n",
       " 'chamar': 1,\n",
       " 'Nayadu': 1,\n",
       " 'Upara Settaru': 1,\n",
       " 'PunJabi': 1,\n",
       " 'parmar': 1,\n",
       " 'Padmshali': 1,\n",
       " 'Gejjagarashetty': 1,\n",
       " 'Broman': 1,\n",
       " 'Naath': 1,\n",
       " 'Jenu Kuruba': 1,\n",
       " 'Gten': 1,\n",
       " 'Mainolity': 1,\n",
       " 'Upparashetty': 1,\n",
       " 'Kuruhina shetty': 1,\n",
       " 'Bramina': 1,\n",
       " 'm': 1,\n",
       " 'Badgaiyan': 1,\n",
       " '42': 1,\n",
       " 'Yaruvas': 1,\n",
       " 'gadriya': 1,\n",
       " 'Barbour (Nai)': 1,\n",
       " 'Thigala': 1,\n",
       " 'Thelugasetty': 1,\n",
       " 'Behari': 1,\n",
       " 'Bairagi': 1,\n",
       " 'Mushar': 1,\n",
       " 'Nahavi': 1,\n",
       " 'Rajak': 1,\n",
       " 'Tiwari': 1,\n",
       " 'Kurubas': 1,\n",
       " '23': 1,\n",
       " 'Tribal Artisans': 1,\n",
       " 'Mannar': 1,\n",
       " 'Savitha janaga': 1,\n",
       " 'Arasu': 1,\n",
       " 'Nishad': 1,\n",
       " 'Genetal': 1,\n",
       " 'Gaud': 1,\n",
       " 'ST(Harijan)': 1,\n",
       " 'ABC': 1,\n",
       " 'Adi karnataka (sc)': 1,\n",
       " 'Christain': 1,\n",
       " 'Singh': 1,\n",
       " 'Lingayat  Vani': 1,\n",
       " '48': 1,\n",
       " 'Ganigashetty': 1,\n",
       " 'Schedule Caste': 1,\n",
       " 'BRAMAN': 1,\n",
       " 'Muslimm': 1,\n",
       " 'Nhavi': 1,\n",
       " 'V.J.N.T.': 1,\n",
       " 'Banjara': 1,\n",
       " 'Aachari': 1,\n",
       " 'Veerashyva': 1}"
      ]
     },
     "execution_count": 157,
     "metadata": {},
     "output_type": "execute_result"
    }
   ],
   "source": [
    "clean_data['social_class'].value_counts().to_dict()"
   ]
  },
  {
   "cell_type": "markdown",
   "metadata": {},
   "source": [
    "##### The mode of 'social_class' i.e. 'OBC' went up from 10683 to 15938 which suggests that the missing values have all been successfully filled. "
   ]
  },
  {
   "cell_type": "markdown",
   "metadata": {},
   "source": [
    "#### -------------------------"
   ]
  },
  {
   "cell_type": "markdown",
   "metadata": {},
   "source": [
    "##### Checking the central tendancies for the feature 'monthly_expenses'"
   ]
  },
  {
   "cell_type": "markdown",
   "metadata": {},
   "source": [
    "###### 1. Mode"
   ]
  },
  {
   "cell_type": "code",
   "execution_count": 11,
   "metadata": {},
   "outputs": [
    {
     "data": {
      "text/plain": [
       "0    3000.0\n",
       "dtype: float64"
      ]
     },
     "execution_count": 11,
     "metadata": {},
     "output_type": "execute_result"
    }
   ],
   "source": [
    "clean_data.monthly_expenses.mode()"
   ]
  },
  {
   "cell_type": "markdown",
   "metadata": {},
   "source": [
    "###### 2. Median"
   ]
  },
  {
   "cell_type": "code",
   "execution_count": 12,
   "metadata": {},
   "outputs": [
    {
     "data": {
      "text/plain": [
       "3500.0"
      ]
     },
     "execution_count": 12,
     "metadata": {},
     "output_type": "execute_result"
    }
   ],
   "source": [
    "clean_data.monthly_expenses.median()"
   ]
  },
  {
   "cell_type": "markdown",
   "metadata": {},
   "source": [
    "###### 3. Mean"
   ]
  },
  {
   "cell_type": "code",
   "execution_count": 13,
   "metadata": {},
   "outputs": [
    {
     "data": {
      "text/plain": [
       "3810.8754012036106"
      ]
     },
     "execution_count": 13,
     "metadata": {},
     "output_type": "execute_result"
    }
   ],
   "source": [
    "clean_data.monthly_expenses.mean()"
   ]
  },
  {
   "cell_type": "markdown",
   "metadata": {},
   "source": [
    "##### As this is a numerical feature, we can use any one of the central tendancies to fill in the missing data."
   ]
  },
  {
   "cell_type": "code",
   "execution_count": 14,
   "metadata": {},
   "outputs": [],
   "source": [
    "clean_data['monthly_expenses'].fillna(clean_data['monthly_expenses'].median(), inplace=True) "
   ]
  },
  {
   "cell_type": "markdown",
   "metadata": {},
   "source": [
    "### "
   ]
  },
  {
   "cell_type": "markdown",
   "metadata": {},
   "source": [
    "##### Checking the central tendancies for the feature 'home_ownership'"
   ]
  },
  {
   "cell_type": "code",
   "execution_count": 15,
   "metadata": {},
   "outputs": [
    {
     "data": {
      "text/plain": [
       "1.0"
      ]
     },
     "execution_count": 15,
     "metadata": {},
     "output_type": "execute_result"
    }
   ],
   "source": [
    "clean_data.home_ownership.mode()[0]"
   ]
  },
  {
   "cell_type": "code",
   "execution_count": 16,
   "metadata": {},
   "outputs": [
    {
     "data": {
      "text/plain": [
       "1.0"
      ]
     },
     "execution_count": 16,
     "metadata": {},
     "output_type": "execute_result"
    }
   ],
   "source": [
    "clean_data.home_ownership.median()"
   ]
  },
  {
   "cell_type": "code",
   "execution_count": 17,
   "metadata": {},
   "outputs": [
    {
     "data": {
      "text/plain": [
       "0.9724893364629869"
      ]
     },
     "execution_count": 17,
     "metadata": {},
     "output_type": "execute_result"
    }
   ],
   "source": [
    "clean_data.home_ownership.mean()"
   ]
  },
  {
   "cell_type": "markdown",
   "metadata": {},
   "source": [
    "##### As all the tendancies are almost the same, we can use any."
   ]
  },
  {
   "cell_type": "code",
   "execution_count": 18,
   "metadata": {},
   "outputs": [],
   "source": [
    "clean_data['home_ownership'].fillna(clean_data['home_ownership'].mode()[0], inplace=True) "
   ]
  },
  {
   "cell_type": "markdown",
   "metadata": {},
   "source": [
    "##### Checking the central tendancies for 'sanitary_availability' and 'water_availability'"
   ]
  },
  {
   "cell_type": "markdown",
   "metadata": {},
   "source": [
    "###### 1. Mode"
   ]
  },
  {
   "cell_type": "code",
   "execution_count": 19,
   "metadata": {},
   "outputs": [
    {
     "name": "stdout",
     "output_type": "stream",
     "text": [
      "Sanitation:  1.0 \n",
      "Water:  1.0\n"
     ]
    }
   ],
   "source": [
    "print(\"Sanitation: \",clean_data.sanitary_availability.mode()[0], \"\\n\"\"Water: \",clean_data.water_availabity.mode()[0])"
   ]
  },
  {
   "cell_type": "markdown",
   "metadata": {},
   "source": [
    "###### 2. Median"
   ]
  },
  {
   "cell_type": "code",
   "execution_count": 20,
   "metadata": {},
   "outputs": [
    {
     "name": "stdout",
     "output_type": "stream",
     "text": [
      "Sanitation:  1.0 \n",
      "Water:  1.0\n"
     ]
    }
   ],
   "source": [
    "print(\"Sanitation: \",clean_data.sanitary_availability.median(), \"\\n\"\"Water: \",clean_data.water_availabity.median())"
   ]
  },
  {
   "cell_type": "markdown",
   "metadata": {},
   "source": [
    "###### 3. Mean"
   ]
  },
  {
   "cell_type": "code",
   "execution_count": 21,
   "metadata": {},
   "outputs": [
    {
     "name": "stdout",
     "output_type": "stream",
     "text": [
      "Sanitation:  0.6863691194209891 \n",
      "Water:  0.7532161049874809\n"
     ]
    }
   ],
   "source": [
    "print(\"Sanitation: \",clean_data.sanitary_availability.mean(), \"\\n\"\"Water: \",clean_data.water_availabity.mean())"
   ]
  },
  {
   "cell_type": "code",
   "execution_count": 22,
   "metadata": {},
   "outputs": [],
   "source": [
    "clean_data['sanitary_availability'].fillna(clean_data['sanitary_availability'].mode()[0], inplace=True) \n",
    "clean_data['water_availabity'].fillna(clean_data['water_availabity'].mode()[0], inplace=True) "
   ]
  },
  {
   "cell_type": "code",
   "execution_count": 23,
   "metadata": {},
   "outputs": [
    {
     "data": {
      "text/plain": [
       "<AxesSubplot:>"
      ]
     },
     "execution_count": 23,
     "metadata": {},
     "output_type": "execute_result"
    },
    {
     "data": {
      "image/png": "[encoded data removed]",
      "text/plain": [
       "<Figure size 1440x1080 with 1 Axes>"
      ]
     },
     "metadata": {
      "needs_background": "light"
     },
     "output_type": "display_data"
    }
   ],
   "source": [
    "plt.figure(figsize=(20,15))\n",
    "sns.heatmap(loan_data.isnull(), yticklabels=False, cbar=False, cmap='magma')"
   ]
  },
  {
   "cell_type": "code",
   "execution_count": 24,
   "metadata": {},
   "outputs": [
    {
     "data": {
      "text/plain": [
       "Id                          0\n",
       "age                         0\n",
       "sex                         0\n",
       "social_class                0\n",
       "primary_business           26\n",
       "secondary_business       5241\n",
       "annual_income               0\n",
       "monthly_expenses            0\n",
       "old_dependents              0\n",
       "young_dependents            0\n",
       "home_ownership              0\n",
       "occupants_count             0\n",
       "house_area                  0\n",
       "sanitary_availability       0\n",
       "water_availabity            0\n",
       "loan_purpose               26\n",
       "loan_tenure                 0\n",
       "loan_installments           0\n",
       "loan_amount                 0\n",
       "dtype: int64"
      ]
     },
     "execution_count": 24,
     "metadata": {},
     "output_type": "execute_result"
    }
   ],
   "source": [
    "clean_data.isnull().sum()"
   ]
  },
  {
   "cell_type": "markdown",
   "metadata": {},
   "source": [
    "#### We will be giving special attention to the fetaure 'secondary_business'. We might be able to save time by dropping the entire column."
   ]
  },
  {
   "cell_type": "code",
   "execution_count": 25,
   "metadata": {},
   "outputs": [
    {
     "data": {
      "text/plain": [
       "(40000,)"
      ]
     },
     "execution_count": 25,
     "metadata": {},
     "output_type": "execute_result"
    }
   ],
   "source": [
    "clean_data.secondary_business.shape"
   ]
  },
  {
   "cell_type": "code",
   "execution_count": 26,
   "metadata": {},
   "outputs": [
    {
     "data": {
      "text/plain": [
       "5241"
      ]
     },
     "execution_count": 26,
     "metadata": {},
     "output_type": "execute_result"
    }
   ],
   "source": [
    "clean_data.secondary_business.isnull().sum()"
   ]
  },
  {
   "cell_type": "code",
   "execution_count": 27,
   "metadata": {},
   "outputs": [
    {
     "data": {
      "text/plain": [
       "array(['Others', 'none', 'Agriculture', 'Daily wage labourer',\n",
       "       'Livestock rearing', nan], dtype=object)"
      ]
     },
     "execution_count": 27,
     "metadata": {},
     "output_type": "execute_result"
    }
   ],
   "source": [
    "clean_data.secondary_business.unique()"
   ]
  },
  {
   "cell_type": "code",
   "execution_count": 28,
   "metadata": {},
   "outputs": [
    {
     "data": {
      "text/plain": [
       "(27366, 19)"
      ]
     },
     "execution_count": 28,
     "metadata": {},
     "output_type": "execute_result"
    }
   ],
   "source": [
    "none_secondary_business = clean_data[clean_data['secondary_business'] == 'none']\n",
    "none_secondary_business.shape"
   ]
  },
  {
   "cell_type": "markdown",
   "metadata": {},
   "source": [
    "#### From the above data we can see that out of 40K rows, 32787 are either classified as 'none' or are missing. It is therefore safe to drop this coulumn.\n",
    "    We are not choosing to fill the missing values in this case because we would have to fill in a lot of values.   It could possibly affect the data and therefore the model itself."
   ]
  },
  {
   "cell_type": "markdown",
   "metadata": {},
   "source": [
    "    Dropping the features: 'Id', 'secondary_business'"
   ]
  },
  {
   "cell_type": "code",
   "execution_count": 29,
   "metadata": {},
   "outputs": [],
   "source": [
    "drop_columns = ['Id', 'secondary_business']\n",
    "clean_data.drop(drop_columns, axis=1, inplace=True)"
   ]
  },
  {
   "cell_type": "code",
   "execution_count": 30,
   "metadata": {},
   "outputs": [
    {
     "data": {
      "text/plain": [
       "age                       0\n",
       "sex                       0\n",
       "social_class              0\n",
       "primary_business         26\n",
       "annual_income             0\n",
       "monthly_expenses          0\n",
       "old_dependents            0\n",
       "young_dependents          0\n",
       "home_ownership            0\n",
       "occupants_count           0\n",
       "house_area                0\n",
       "sanitary_availability     0\n",
       "water_availabity          0\n",
       "loan_purpose             26\n",
       "loan_tenure               0\n",
       "loan_installments         0\n",
       "loan_amount               0\n",
       "dtype: int64"
      ]
     },
     "execution_count": 30,
     "metadata": {},
     "output_type": "execute_result"
    }
   ],
   "source": [
    "clean_data.isnull().sum()"
   ]
  },
  {
   "cell_type": "markdown",
   "metadata": {},
   "source": [
    "###### Checking if the 26 missing values in the remaining 2 features are the same rows or not."
   ]
  },
  {
   "cell_type": "code",
   "execution_count": 31,
   "metadata": {},
   "outputs": [
    {
     "data": {
      "text/plain": [
       "26"
      ]
     },
     "execution_count": 31,
     "metadata": {},
     "output_type": "execute_result"
    }
   ],
   "source": [
    "len(clean_data[(clean_data.primary_business.isna()) | (clean_data.loan_purpose.isna())])"
   ]
  },
  {
   "cell_type": "code",
   "execution_count": 32,
   "metadata": {},
   "outputs": [
    {
     "data": {
      "text/plain": [
       "26"
      ]
     },
     "execution_count": 32,
     "metadata": {},
     "output_type": "execute_result"
    }
   ],
   "source": [
    "len(clean_data[(clean_data.primary_business.isna()) & (clean_data.loan_purpose.isna())])"
   ]
  },
  {
   "cell_type": "code",
   "execution_count": 33,
   "metadata": {},
   "outputs": [
    {
     "data": {
      "text/html": [
       "<div>\n",
       "<style scoped>\n",
       "    .dataframe tbody tr th:only-of-type {\n",
       "        vertical-align: middle;\n",
       "    }\n",
       "\n",
       "    .dataframe tbody tr th {\n",
       "        vertical-align: top;\n",
       "    }\n",
       "\n",
       "    .dataframe thead th {\n",
       "        text-align: right;\n",
       "    }\n",
       "</style>\n",
       "<table border=\"1\" class=\"dataframe\">\n",
       "  <thead>\n",
       "    <tr style=\"text-align: right;\">\n",
       "      <th></th>\n",
       "      <th>age</th>\n",
       "      <th>sex</th>\n",
       "      <th>social_class</th>\n",
       "      <th>primary_business</th>\n",
       "      <th>annual_income</th>\n",
       "      <th>monthly_expenses</th>\n",
       "      <th>old_dependents</th>\n",
       "      <th>young_dependents</th>\n",
       "      <th>home_ownership</th>\n",
       "      <th>occupants_count</th>\n",
       "      <th>house_area</th>\n",
       "      <th>sanitary_availability</th>\n",
       "      <th>water_availabity</th>\n",
       "      <th>loan_purpose</th>\n",
       "      <th>loan_tenure</th>\n",
       "      <th>loan_installments</th>\n",
       "      <th>loan_amount</th>\n",
       "    </tr>\n",
       "  </thead>\n",
       "  <tbody>\n",
       "    <tr>\n",
       "      <th>5804</th>\n",
       "      <td>34</td>\n",
       "      <td>M</td>\n",
       "      <td>General</td>\n",
       "      <td>NaN</td>\n",
       "      <td>42000</td>\n",
       "      <td>3200.0</td>\n",
       "      <td>0</td>\n",
       "      <td>3</td>\n",
       "      <td>1.0</td>\n",
       "      <td>5</td>\n",
       "      <td>180</td>\n",
       "      <td>1.0</td>\n",
       "      <td>0.5</td>\n",
       "      <td>NaN</td>\n",
       "      <td>12</td>\n",
       "      <td>50</td>\n",
       "      <td>5000</td>\n",
       "    </tr>\n",
       "    <tr>\n",
       "      <th>6031</th>\n",
       "      <td>42</td>\n",
       "      <td>F</td>\n",
       "      <td>Muslim</td>\n",
       "      <td>NaN</td>\n",
       "      <td>8000</td>\n",
       "      <td>8000.0</td>\n",
       "      <td>0</td>\n",
       "      <td>0</td>\n",
       "      <td>1.0</td>\n",
       "      <td>2</td>\n",
       "      <td>240</td>\n",
       "      <td>1.0</td>\n",
       "      <td>0.5</td>\n",
       "      <td>NaN</td>\n",
       "      <td>12</td>\n",
       "      <td>12</td>\n",
       "      <td>7000</td>\n",
       "    </tr>\n",
       "    <tr>\n",
       "      <th>6121</th>\n",
       "      <td>44</td>\n",
       "      <td>F</td>\n",
       "      <td>GC</td>\n",
       "      <td>NaN</td>\n",
       "      <td>12000</td>\n",
       "      <td>5400.0</td>\n",
       "      <td>0</td>\n",
       "      <td>2</td>\n",
       "      <td>1.0</td>\n",
       "      <td>4</td>\n",
       "      <td>350</td>\n",
       "      <td>1.0</td>\n",
       "      <td>0.5</td>\n",
       "      <td>NaN</td>\n",
       "      <td>12</td>\n",
       "      <td>50</td>\n",
       "      <td>8000</td>\n",
       "    </tr>\n",
       "    <tr>\n",
       "      <th>6125</th>\n",
       "      <td>34</td>\n",
       "      <td>M</td>\n",
       "      <td>Muslim</td>\n",
       "      <td>NaN</td>\n",
       "      <td>54000</td>\n",
       "      <td>3500.0</td>\n",
       "      <td>1</td>\n",
       "      <td>2</td>\n",
       "      <td>1.0</td>\n",
       "      <td>6</td>\n",
       "      <td>1100</td>\n",
       "      <td>1.0</td>\n",
       "      <td>0.5</td>\n",
       "      <td>NaN</td>\n",
       "      <td>12</td>\n",
       "      <td>12</td>\n",
       "      <td>5000</td>\n",
       "    </tr>\n",
       "    <tr>\n",
       "      <th>6300</th>\n",
       "      <td>26</td>\n",
       "      <td>F</td>\n",
       "      <td>GC</td>\n",
       "      <td>NaN</td>\n",
       "      <td>9600</td>\n",
       "      <td>4000.0</td>\n",
       "      <td>0</td>\n",
       "      <td>2</td>\n",
       "      <td>1.0</td>\n",
       "      <td>4</td>\n",
       "      <td>350</td>\n",
       "      <td>1.0</td>\n",
       "      <td>0.5</td>\n",
       "      <td>NaN</td>\n",
       "      <td>12</td>\n",
       "      <td>50</td>\n",
       "      <td>5000</td>\n",
       "    </tr>\n",
       "    <tr>\n",
       "      <th>6462</th>\n",
       "      <td>28</td>\n",
       "      <td>F</td>\n",
       "      <td>OBC</td>\n",
       "      <td>NaN</td>\n",
       "      <td>24000</td>\n",
       "      <td>2500.0</td>\n",
       "      <td>0</td>\n",
       "      <td>1</td>\n",
       "      <td>1.0</td>\n",
       "      <td>2</td>\n",
       "      <td>600</td>\n",
       "      <td>1.0</td>\n",
       "      <td>0.5</td>\n",
       "      <td>NaN</td>\n",
       "      <td>12</td>\n",
       "      <td>12</td>\n",
       "      <td>10000</td>\n",
       "    </tr>\n",
       "    <tr>\n",
       "      <th>6554</th>\n",
       "      <td>27</td>\n",
       "      <td>F</td>\n",
       "      <td>Hindu</td>\n",
       "      <td>NaN</td>\n",
       "      <td>23000</td>\n",
       "      <td>4000.0</td>\n",
       "      <td>0</td>\n",
       "      <td>2</td>\n",
       "      <td>0.0</td>\n",
       "      <td>5</td>\n",
       "      <td>300</td>\n",
       "      <td>1.0</td>\n",
       "      <td>0.5</td>\n",
       "      <td>NaN</td>\n",
       "      <td>12</td>\n",
       "      <td>12</td>\n",
       "      <td>5000</td>\n",
       "    </tr>\n",
       "    <tr>\n",
       "      <th>7031</th>\n",
       "      <td>30</td>\n",
       "      <td>F</td>\n",
       "      <td>GC</td>\n",
       "      <td>NaN</td>\n",
       "      <td>9600</td>\n",
       "      <td>3700.0</td>\n",
       "      <td>0</td>\n",
       "      <td>2</td>\n",
       "      <td>1.0</td>\n",
       "      <td>4</td>\n",
       "      <td>250</td>\n",
       "      <td>1.0</td>\n",
       "      <td>0.5</td>\n",
       "      <td>NaN</td>\n",
       "      <td>12</td>\n",
       "      <td>50</td>\n",
       "      <td>5000</td>\n",
       "    </tr>\n",
       "    <tr>\n",
       "      <th>7412</th>\n",
       "      <td>32</td>\n",
       "      <td>F</td>\n",
       "      <td>GC</td>\n",
       "      <td>NaN</td>\n",
       "      <td>12000</td>\n",
       "      <td>4200.0</td>\n",
       "      <td>0</td>\n",
       "      <td>2</td>\n",
       "      <td>1.0</td>\n",
       "      <td>4</td>\n",
       "      <td>350</td>\n",
       "      <td>1.0</td>\n",
       "      <td>0.5</td>\n",
       "      <td>NaN</td>\n",
       "      <td>12</td>\n",
       "      <td>50</td>\n",
       "      <td>5000</td>\n",
       "    </tr>\n",
       "    <tr>\n",
       "      <th>7441</th>\n",
       "      <td>33</td>\n",
       "      <td>F</td>\n",
       "      <td>Muslim</td>\n",
       "      <td>NaN</td>\n",
       "      <td>50000</td>\n",
       "      <td>3200.0</td>\n",
       "      <td>0</td>\n",
       "      <td>4</td>\n",
       "      <td>1.0</td>\n",
       "      <td>6</td>\n",
       "      <td>600</td>\n",
       "      <td>1.0</td>\n",
       "      <td>0.5</td>\n",
       "      <td>NaN</td>\n",
       "      <td>12</td>\n",
       "      <td>12</td>\n",
       "      <td>5000</td>\n",
       "    </tr>\n",
       "    <tr>\n",
       "      <th>12893</th>\n",
       "      <td>36</td>\n",
       "      <td>F</td>\n",
       "      <td>gen</td>\n",
       "      <td>NaN</td>\n",
       "      <td>80000</td>\n",
       "      <td>4500.0</td>\n",
       "      <td>0</td>\n",
       "      <td>2</td>\n",
       "      <td>1.0</td>\n",
       "      <td>1</td>\n",
       "      <td>750</td>\n",
       "      <td>1.0</td>\n",
       "      <td>1.0</td>\n",
       "      <td>NaN</td>\n",
       "      <td>12</td>\n",
       "      <td>12</td>\n",
       "      <td>7000</td>\n",
       "    </tr>\n",
       "    <tr>\n",
       "      <th>12930</th>\n",
       "      <td>20</td>\n",
       "      <td>F</td>\n",
       "      <td>General</td>\n",
       "      <td>NaN</td>\n",
       "      <td>90000</td>\n",
       "      <td>1000.0</td>\n",
       "      <td>0</td>\n",
       "      <td>0</td>\n",
       "      <td>0.0</td>\n",
       "      <td>2</td>\n",
       "      <td>470</td>\n",
       "      <td>1.0</td>\n",
       "      <td>1.0</td>\n",
       "      <td>NaN</td>\n",
       "      <td>12</td>\n",
       "      <td>12</td>\n",
       "      <td>7000</td>\n",
       "    </tr>\n",
       "    <tr>\n",
       "      <th>13796</th>\n",
       "      <td>54</td>\n",
       "      <td>F</td>\n",
       "      <td>GC</td>\n",
       "      <td>NaN</td>\n",
       "      <td>24000</td>\n",
       "      <td>2000.0</td>\n",
       "      <td>0</td>\n",
       "      <td>0</td>\n",
       "      <td>1.0</td>\n",
       "      <td>1</td>\n",
       "      <td>300</td>\n",
       "      <td>1.0</td>\n",
       "      <td>0.5</td>\n",
       "      <td>NaN</td>\n",
       "      <td>12</td>\n",
       "      <td>50</td>\n",
       "      <td>5000</td>\n",
       "    </tr>\n",
       "    <tr>\n",
       "      <th>13811</th>\n",
       "      <td>26</td>\n",
       "      <td>F</td>\n",
       "      <td>General</td>\n",
       "      <td>NaN</td>\n",
       "      <td>12000</td>\n",
       "      <td>4000.0</td>\n",
       "      <td>0</td>\n",
       "      <td>2</td>\n",
       "      <td>1.0</td>\n",
       "      <td>4</td>\n",
       "      <td>300</td>\n",
       "      <td>1.0</td>\n",
       "      <td>0.5</td>\n",
       "      <td>NaN</td>\n",
       "      <td>12</td>\n",
       "      <td>50</td>\n",
       "      <td>5000</td>\n",
       "    </tr>\n",
       "    <tr>\n",
       "      <th>13988</th>\n",
       "      <td>46</td>\n",
       "      <td>F</td>\n",
       "      <td>SC</td>\n",
       "      <td>NaN</td>\n",
       "      <td>14400</td>\n",
       "      <td>3700.0</td>\n",
       "      <td>0</td>\n",
       "      <td>1</td>\n",
       "      <td>1.0</td>\n",
       "      <td>3</td>\n",
       "      <td>300</td>\n",
       "      <td>1.0</td>\n",
       "      <td>0.5</td>\n",
       "      <td>NaN</td>\n",
       "      <td>12</td>\n",
       "      <td>50</td>\n",
       "      <td>10000</td>\n",
       "    </tr>\n",
       "    <tr>\n",
       "      <th>14270</th>\n",
       "      <td>29</td>\n",
       "      <td>F</td>\n",
       "      <td>SC</td>\n",
       "      <td>NaN</td>\n",
       "      <td>12000</td>\n",
       "      <td>4300.0</td>\n",
       "      <td>0</td>\n",
       "      <td>2</td>\n",
       "      <td>1.0</td>\n",
       "      <td>4</td>\n",
       "      <td>400</td>\n",
       "      <td>1.0</td>\n",
       "      <td>0.5</td>\n",
       "      <td>NaN</td>\n",
       "      <td>12</td>\n",
       "      <td>50</td>\n",
       "      <td>8000</td>\n",
       "    </tr>\n",
       "    <tr>\n",
       "      <th>15088</th>\n",
       "      <td>49</td>\n",
       "      <td>F</td>\n",
       "      <td>Muslim</td>\n",
       "      <td>NaN</td>\n",
       "      <td>18000</td>\n",
       "      <td>3500.0</td>\n",
       "      <td>0</td>\n",
       "      <td>2</td>\n",
       "      <td>1.0</td>\n",
       "      <td>4</td>\n",
       "      <td>750</td>\n",
       "      <td>1.0</td>\n",
       "      <td>1.0</td>\n",
       "      <td>NaN</td>\n",
       "      <td>12</td>\n",
       "      <td>12</td>\n",
       "      <td>5000</td>\n",
       "    </tr>\n",
       "    <tr>\n",
       "      <th>15093</th>\n",
       "      <td>40</td>\n",
       "      <td>F</td>\n",
       "      <td>OBC</td>\n",
       "      <td>NaN</td>\n",
       "      <td>48000</td>\n",
       "      <td>3000.0</td>\n",
       "      <td>0</td>\n",
       "      <td>3</td>\n",
       "      <td>1.0</td>\n",
       "      <td>2</td>\n",
       "      <td>400</td>\n",
       "      <td>0.0</td>\n",
       "      <td>0.5</td>\n",
       "      <td>NaN</td>\n",
       "      <td>12</td>\n",
       "      <td>12</td>\n",
       "      <td>5000</td>\n",
       "    </tr>\n",
       "    <tr>\n",
       "      <th>15288</th>\n",
       "      <td>30</td>\n",
       "      <td>F</td>\n",
       "      <td>General</td>\n",
       "      <td>NaN</td>\n",
       "      <td>42000</td>\n",
       "      <td>3000.0</td>\n",
       "      <td>0</td>\n",
       "      <td>3</td>\n",
       "      <td>1.0</td>\n",
       "      <td>2</td>\n",
       "      <td>400</td>\n",
       "      <td>1.0</td>\n",
       "      <td>1.0</td>\n",
       "      <td>NaN</td>\n",
       "      <td>12</td>\n",
       "      <td>12</td>\n",
       "      <td>12000</td>\n",
       "    </tr>\n",
       "    <tr>\n",
       "      <th>15348</th>\n",
       "      <td>24</td>\n",
       "      <td>F</td>\n",
       "      <td>GC</td>\n",
       "      <td>NaN</td>\n",
       "      <td>9600</td>\n",
       "      <td>4000.0</td>\n",
       "      <td>0</td>\n",
       "      <td>1</td>\n",
       "      <td>1.0</td>\n",
       "      <td>3</td>\n",
       "      <td>350</td>\n",
       "      <td>1.0</td>\n",
       "      <td>0.5</td>\n",
       "      <td>NaN</td>\n",
       "      <td>12</td>\n",
       "      <td>50</td>\n",
       "      <td>7000</td>\n",
       "    </tr>\n",
       "    <tr>\n",
       "      <th>28443</th>\n",
       "      <td>30</td>\n",
       "      <td>F</td>\n",
       "      <td>S.C</td>\n",
       "      <td>NaN</td>\n",
       "      <td>59200</td>\n",
       "      <td>3800.0</td>\n",
       "      <td>0</td>\n",
       "      <td>2</td>\n",
       "      <td>1.0</td>\n",
       "      <td>4</td>\n",
       "      <td>230</td>\n",
       "      <td>1.0</td>\n",
       "      <td>0.5</td>\n",
       "      <td>NaN</td>\n",
       "      <td>12</td>\n",
       "      <td>50</td>\n",
       "      <td>12000</td>\n",
       "    </tr>\n",
       "    <tr>\n",
       "      <th>29562</th>\n",
       "      <td>29</td>\n",
       "      <td>F</td>\n",
       "      <td>SC</td>\n",
       "      <td>NaN</td>\n",
       "      <td>54000</td>\n",
       "      <td>4000.0</td>\n",
       "      <td>0</td>\n",
       "      <td>2</td>\n",
       "      <td>1.0</td>\n",
       "      <td>4</td>\n",
       "      <td>800</td>\n",
       "      <td>1.0</td>\n",
       "      <td>1.0</td>\n",
       "      <td>NaN</td>\n",
       "      <td>12</td>\n",
       "      <td>12</td>\n",
       "      <td>5000</td>\n",
       "    </tr>\n",
       "    <tr>\n",
       "      <th>30489</th>\n",
       "      <td>57</td>\n",
       "      <td>F</td>\n",
       "      <td>OBC</td>\n",
       "      <td>NaN</td>\n",
       "      <td>48000</td>\n",
       "      <td>3000.0</td>\n",
       "      <td>1</td>\n",
       "      <td>0</td>\n",
       "      <td>1.0</td>\n",
       "      <td>4</td>\n",
       "      <td>850</td>\n",
       "      <td>0.0</td>\n",
       "      <td>0.5</td>\n",
       "      <td>NaN</td>\n",
       "      <td>12</td>\n",
       "      <td>12</td>\n",
       "      <td>12000</td>\n",
       "    </tr>\n",
       "    <tr>\n",
       "      <th>31587</th>\n",
       "      <td>38</td>\n",
       "      <td>F</td>\n",
       "      <td>OBC</td>\n",
       "      <td>NaN</td>\n",
       "      <td>36000</td>\n",
       "      <td>1500.0</td>\n",
       "      <td>0</td>\n",
       "      <td>3</td>\n",
       "      <td>1.0</td>\n",
       "      <td>1</td>\n",
       "      <td>450</td>\n",
       "      <td>1.0</td>\n",
       "      <td>1.0</td>\n",
       "      <td>NaN</td>\n",
       "      <td>12</td>\n",
       "      <td>50</td>\n",
       "      <td>10000</td>\n",
       "    </tr>\n",
       "    <tr>\n",
       "      <th>31624</th>\n",
       "      <td>28</td>\n",
       "      <td>F</td>\n",
       "      <td>GENERAL</td>\n",
       "      <td>NaN</td>\n",
       "      <td>48000</td>\n",
       "      <td>3500.0</td>\n",
       "      <td>0</td>\n",
       "      <td>2</td>\n",
       "      <td>1.0</td>\n",
       "      <td>1</td>\n",
       "      <td>800</td>\n",
       "      <td>1.0</td>\n",
       "      <td>1.0</td>\n",
       "      <td>NaN</td>\n",
       "      <td>12</td>\n",
       "      <td>12</td>\n",
       "      <td>8000</td>\n",
       "    </tr>\n",
       "    <tr>\n",
       "      <th>33434</th>\n",
       "      <td>47</td>\n",
       "      <td>F</td>\n",
       "      <td>OBC</td>\n",
       "      <td>NaN</td>\n",
       "      <td>90000</td>\n",
       "      <td>4000.0</td>\n",
       "      <td>0</td>\n",
       "      <td>0</td>\n",
       "      <td>1.0</td>\n",
       "      <td>2</td>\n",
       "      <td>500</td>\n",
       "      <td>1.0</td>\n",
       "      <td>1.0</td>\n",
       "      <td>NaN</td>\n",
       "      <td>12</td>\n",
       "      <td>12</td>\n",
       "      <td>15000</td>\n",
       "    </tr>\n",
       "  </tbody>\n",
       "</table>\n",
       "</div>"
      ],
      "text/plain": [
       "       age sex social_class primary_business  annual_income  monthly_expenses  \\\n",
       "5804    34   M      General              NaN          42000            3200.0   \n",
       "6031    42   F       Muslim              NaN           8000            8000.0   \n",
       "6121    44   F           GC              NaN          12000            5400.0   \n",
       "6125    34   M       Muslim              NaN          54000            3500.0   \n",
       "6300    26   F           GC              NaN           9600            4000.0   \n",
       "6462    28   F          OBC              NaN          24000            2500.0   \n",
       "6554    27   F        Hindu              NaN          23000            4000.0   \n",
       "7031    30   F           GC              NaN           9600            3700.0   \n",
       "7412    32   F           GC              NaN          12000            4200.0   \n",
       "7441    33   F       Muslim              NaN          50000            3200.0   \n",
       "12893   36   F          gen              NaN          80000            4500.0   \n",
       "12930   20   F      General              NaN          90000            1000.0   \n",
       "13796   54   F           GC              NaN          24000            2000.0   \n",
       "13811   26   F      General              NaN          12000            4000.0   \n",
       "13988   46   F           SC              NaN          14400            3700.0   \n",
       "14270   29   F           SC              NaN          12000            4300.0   \n",
       "15088   49   F       Muslim              NaN          18000            3500.0   \n",
       "15093   40   F          OBC              NaN          48000            3000.0   \n",
       "15288   30   F      General              NaN          42000            3000.0   \n",
       "15348   24   F           GC              NaN           9600            4000.0   \n",
       "28443   30   F          S.C              NaN          59200            3800.0   \n",
       "29562   29   F           SC              NaN          54000            4000.0   \n",
       "30489   57   F          OBC              NaN          48000            3000.0   \n",
       "31587   38   F          OBC              NaN          36000            1500.0   \n",
       "31624   28   F      GENERAL              NaN          48000            3500.0   \n",
       "33434   47   F          OBC              NaN          90000            4000.0   \n",
       "\n",
       "       old_dependents  young_dependents  home_ownership  occupants_count  \\\n",
       "5804                0                 3             1.0                5   \n",
       "6031                0                 0             1.0                2   \n",
       "6121                0                 2             1.0                4   \n",
       "6125                1                 2             1.0                6   \n",
       "6300                0                 2             1.0                4   \n",
       "6462                0                 1             1.0                2   \n",
       "6554                0                 2             0.0                5   \n",
       "7031                0                 2             1.0                4   \n",
       "7412                0                 2             1.0                4   \n",
       "7441                0                 4             1.0                6   \n",
       "12893               0                 2             1.0                1   \n",
       "12930               0                 0             0.0                2   \n",
       "13796               0                 0             1.0                1   \n",
       "13811               0                 2             1.0                4   \n",
       "13988               0                 1             1.0                3   \n",
       "14270               0                 2             1.0                4   \n",
       "15088               0                 2             1.0                4   \n",
       "15093               0                 3             1.0                2   \n",
       "15288               0                 3             1.0                2   \n",
       "15348               0                 1             1.0                3   \n",
       "28443               0                 2             1.0                4   \n",
       "29562               0                 2             1.0                4   \n",
       "30489               1                 0             1.0                4   \n",
       "31587               0                 3             1.0                1   \n",
       "31624               0                 2             1.0                1   \n",
       "33434               0                 0             1.0                2   \n",
       "\n",
       "       house_area  sanitary_availability  water_availabity loan_purpose  \\\n",
       "5804          180                    1.0               0.5          NaN   \n",
       "6031          240                    1.0               0.5          NaN   \n",
       "6121          350                    1.0               0.5          NaN   \n",
       "6125         1100                    1.0               0.5          NaN   \n",
       "6300          350                    1.0               0.5          NaN   \n",
       "6462          600                    1.0               0.5          NaN   \n",
       "6554          300                    1.0               0.5          NaN   \n",
       "7031          250                    1.0               0.5          NaN   \n",
       "7412          350                    1.0               0.5          NaN   \n",
       "7441          600                    1.0               0.5          NaN   \n",
       "12893         750                    1.0               1.0          NaN   \n",
       "12930         470                    1.0               1.0          NaN   \n",
       "13796         300                    1.0               0.5          NaN   \n",
       "13811         300                    1.0               0.5          NaN   \n",
       "13988         300                    1.0               0.5          NaN   \n",
       "14270         400                    1.0               0.5          NaN   \n",
       "15088         750                    1.0               1.0          NaN   \n",
       "15093         400                    0.0               0.5          NaN   \n",
       "15288         400                    1.0               1.0          NaN   \n",
       "15348         350                    1.0               0.5          NaN   \n",
       "28443         230                    1.0               0.5          NaN   \n",
       "29562         800                    1.0               1.0          NaN   \n",
       "30489         850                    0.0               0.5          NaN   \n",
       "31587         450                    1.0               1.0          NaN   \n",
       "31624         800                    1.0               1.0          NaN   \n",
       "33434         500                    1.0               1.0          NaN   \n",
       "\n",
       "       loan_tenure  loan_installments  loan_amount  \n",
       "5804            12                 50         5000  \n",
       "6031            12                 12         7000  \n",
       "6121            12                 50         8000  \n",
       "6125            12                 12         5000  \n",
       "6300            12                 50         5000  \n",
       "6462            12                 12        10000  \n",
       "6554            12                 12         5000  \n",
       "7031            12                 50         5000  \n",
       "7412            12                 50         5000  \n",
       "7441            12                 12         5000  \n",
       "12893           12                 12         7000  \n",
       "12930           12                 12         7000  \n",
       "13796           12                 50         5000  \n",
       "13811           12                 50         5000  \n",
       "13988           12                 50        10000  \n",
       "14270           12                 50         8000  \n",
       "15088           12                 12         5000  \n",
       "15093           12                 12         5000  \n",
       "15288           12                 12        12000  \n",
       "15348           12                 50         7000  \n",
       "28443           12                 50        12000  \n",
       "29562           12                 12         5000  \n",
       "30489           12                 12        12000  \n",
       "31587           12                 50        10000  \n",
       "31624           12                 12         8000  \n",
       "33434           12                 12        15000  "
      ]
     },
     "execution_count": 33,
     "metadata": {},
     "output_type": "execute_result"
    }
   ],
   "source": [
    "clean_data[(clean_data.primary_business.isna()) | (clean_data.loan_purpose.isna())]"
   ]
  },
  {
   "cell_type": "markdown",
   "metadata": {},
   "source": [
    "###### Dropping the null values."
   ]
  },
  {
   "cell_type": "code",
   "execution_count": 34,
   "metadata": {},
   "outputs": [],
   "source": [
    "clean_data.dropna(inplace=True)"
   ]
  },
  {
   "cell_type": "code",
   "execution_count": 35,
   "metadata": {},
   "outputs": [
    {
     "data": {
      "text/plain": [
       "age                      0\n",
       "sex                      0\n",
       "social_class             0\n",
       "primary_business         0\n",
       "annual_income            0\n",
       "monthly_expenses         0\n",
       "old_dependents           0\n",
       "young_dependents         0\n",
       "home_ownership           0\n",
       "occupants_count          0\n",
       "house_area               0\n",
       "sanitary_availability    0\n",
       "water_availabity         0\n",
       "loan_purpose             0\n",
       "loan_tenure              0\n",
       "loan_installments        0\n",
       "loan_amount              0\n",
       "dtype: int64"
      ]
     },
     "execution_count": 35,
     "metadata": {},
     "output_type": "execute_result"
    }
   ],
   "source": [
    "clean_data.isnull().sum()"
   ]
  },
  {
   "cell_type": "markdown",
   "metadata": {},
   "source": [
    "###### The data cleaning process is complete"
   ]
  },
  {
   "cell_type": "markdown",
   "metadata": {},
   "source": [
    "### ---------------------------------"
   ]
  },
  {
   "cell_type": "markdown",
   "metadata": {},
   "source": [
    "### Data Encoding"
   ]
  },
  {
   "cell_type": "markdown",
   "metadata": {},
   "source": [
    "#### Finding the number of unique categories for each feature"
   ]
  },
  {
   "cell_type": "code",
   "execution_count": 38,
   "metadata": {},
   "outputs": [
    {
     "data": {
      "text/plain": [
       "age                       62\n",
       "sex                        3\n",
       "social_class             519\n",
       "primary_business         441\n",
       "annual_income            359\n",
       "monthly_expenses         260\n",
       "old_dependents             4\n",
       "young_dependents           8\n",
       "home_ownership             2\n",
       "occupants_count           23\n",
       "house_area               391\n",
       "sanitary_availability      3\n",
       "water_availabity           4\n",
       "loan_purpose              37\n",
       "loan_tenure               11\n",
       "loan_installments         21\n",
       "loan_amount              115\n",
       "dtype: int64"
      ]
     },
     "execution_count": 38,
     "metadata": {},
     "output_type": "execute_result"
    }
   ],
   "source": [
    "clean_data.nunique()"
   ]
  },
  {
   "cell_type": "markdown",
   "metadata": {},
   "source": [
    "#### "
   ]
  },
  {
   "cell_type": "markdown",
   "metadata": {},
   "source": [
    "### Count Frequency Data Encoding"
   ]
  },
  {
   "cell_type": "markdown",
   "metadata": {},
   "source": [
    "    In frquency encoding, the number of times a category of a feature is occuring is calculated and that category itself is replaced by that number. "
   ]
  },
  {
   "cell_type": "markdown",
   "metadata": {},
   "source": [
    "##### Using this particular encoding technique in all the features with high cardinality.\n",
    "    1. Social Class\n",
    "    2. Primary Business\n",
    "    3. Loan Purpose"
   ]
  },
  {
   "cell_type": "code",
   "execution_count": 63,
   "metadata": {},
   "outputs": [
    {
     "name": "stdout",
     "output_type": "stream",
     "text": [
      "Social Class: 519 \n",
      "Primary Business: 441 \n",
      "Loan Purpose: 37\n"
     ]
    }
   ],
   "source": [
    "print(\"Social Class:\",clean_data.social_class.nunique(),\"\\n\"\"Primary Business:\", clean_data.primary_business.nunique(),\"\\n\" \"Loan Purpose:\", clean_data.loan_purpose.nunique())"
   ]
  },
  {
   "cell_type": "code",
   "execution_count": 176,
   "metadata": {},
   "outputs": [
    {
     "data": {
      "text/plain": [
       "{'OBC': 15938,\n",
       " 'SC': 3136,\n",
       " 'ST': 2616,\n",
       " 'General': 2299,\n",
       " 'Muslim': 1743,\n",
       " 'S.C': 950,\n",
       " 'Minority': 892,\n",
       " 'Hindu': 869,\n",
       " 'GC': 807,\n",
       " 'Sechudle Caste': 769,\n",
       " 'G.C': 735,\n",
       " 'S.C.': 529,\n",
       " 'Sc': 432,\n",
       " 'GEN': 413,\n",
       " 'Obc': 399,\n",
       " 'MUSLIM': 375,\n",
       " 'NT': 373,\n",
       " 'BC': 337,\n",
       " 'General Caste': 290,\n",
       " 'Gen': 288,\n",
       " 'S.c': 244,\n",
       " 'VJNT': 229,\n",
       " 'GENERAL': 215,\n",
       " 'Mahar': 194,\n",
       " 'Open': 190,\n",
       " 'Lingahitha': 180,\n",
       " 'Christian': 174,\n",
       " 'Ezhava': 170,\n",
       " 'S.T.': 166,\n",
       " 'Schudle Cast': 160,\n",
       " 'sc': 154,\n",
       " 'Maratha': 153,\n",
       " 'S.T': 153,\n",
       " 'O.B.C': 107,\n",
       " 'GENL': 106,\n",
       " 'Kuruba': 96,\n",
       " 'O.B.C.': 90,\n",
       " 'obc': 87,\n",
       " 'Musilim': 86,\n",
       " 'Nayaka': 84,\n",
       " 'Bauddha': 84,\n",
       " 'MBC': 79,\n",
       " 'okkaliga': 78,\n",
       " 'OPEN': 76,\n",
       " 'MINORITY': 68,\n",
       " 'st': 58,\n",
       " 'Matang': 49,\n",
       " 'Genarel': 48,\n",
       " 's.c': 45,\n",
       " 'O B C': 44,\n",
       " 'Minority Comunity': 41,\n",
       " 'UJNT': 34,\n",
       " 'N.T.': 34,\n",
       " 'Mushlim': 32,\n",
       " 'Scheduled Caste': 31,\n",
       " 'Chambhar': 31,\n",
       " 'Okkaliga': 31,\n",
       " 'Mynority': 31,\n",
       " 'Nuniya': 30,\n",
       " 's.c.': 30,\n",
       " 'Mynirity': 30,\n",
       " 'Shetty': 29,\n",
       " 'S C': 28,\n",
       " 'BCE': 28,\n",
       " 'Schduled Cast': 27,\n",
       " 'Vishwakarma': 26,\n",
       " 'Genaral': 23,\n",
       " 'MM': 23,\n",
       " 'St': 22,\n",
       " 'Beda': 22,\n",
       " 'Lingayat': 22,\n",
       " 'Islam': 21,\n",
       " 'hindu': 21,\n",
       " 'Chamar': 20,\n",
       " 'Hindu_SC': 20,\n",
       " 'Kurmi': 20,\n",
       " 'Kanu': 19,\n",
       " 'OC': 18,\n",
       " 'Marathi': 17,\n",
       " 'Adiwashi': 17,\n",
       " 'Hindhu': 17,\n",
       " 'gen': 17,\n",
       " 'Sechudle Cast': 16,\n",
       " 'Gond': 16,\n",
       " 'Genl': 15,\n",
       " 'Minerity': 15,\n",
       " 'Dhangar': 14,\n",
       " 'Khan': 14,\n",
       " 'Madivala': 14,\n",
       " 'Nava-Baudha': 14,\n",
       " 'Madivala Shetty': 13,\n",
       " 'Kavara': 13,\n",
       " 'muslim': 13,\n",
       " 'Bauddh': 12,\n",
       " 'VJ': 12,\n",
       " 'Sechudle Tripe': 12,\n",
       " 'HINDU': 12,\n",
       " 'Telegushetty': 12,\n",
       " 'general': 12,\n",
       " 'Genral': 12,\n",
       " 'MC': 12,\n",
       " 'Mochi': 11,\n",
       " 'Sechudle caste': 11,\n",
       " 'Gen.': 11,\n",
       " 'Telagu': 11,\n",
       " 'Rajput': 11,\n",
       " 'Genrel': 11,\n",
       " 'Ganiga': 10,\n",
       " 'kevat': 10,\n",
       " 'Madari': 10,\n",
       " 'Bovi': 10,\n",
       " 'mionrity': 10,\n",
       " 'General caste': 10,\n",
       " 'Mali': 10,\n",
       " 'Traditional Weaving': 10,\n",
       " 'Teli': 10,\n",
       " 'Nayakkan': 10,\n",
       " 'BC-E': 9,\n",
       " 'Madrasi': 9,\n",
       " 'Cheruman': 9,\n",
       " 'Tamil': 9,\n",
       " 'balai': 9,\n",
       " 'Mang': 9,\n",
       " 'Tali': 8,\n",
       " 'Kushwaha': 8,\n",
       " 'maratha': 8,\n",
       " 'Buddha': 8,\n",
       " 'Baniya': 8,\n",
       " 'Parit': 8,\n",
       " 'Namadari': 8,\n",
       " 'Minerty': 8,\n",
       " 'Telugu Shetty': 8,\n",
       " 'SEBC': 7,\n",
       " 'Kanakkan': 7,\n",
       " 'Dholi': 7,\n",
       " 'Mynorety': 7,\n",
       " 'Chambar': 7,\n",
       " 'Muchi': 7,\n",
       " 'Sekh': 7,\n",
       " 'Dhobi': 7,\n",
       " 'Minorty': 7,\n",
       " 'Harijan_SC': 6,\n",
       " 'Vjnt': 6,\n",
       " 'Nair': 6,\n",
       " 'Scheduled tribe': 6,\n",
       " 'christian': 6,\n",
       " 'Baudhha': 6,\n",
       " 'THAKUR': 6,\n",
       " 'Malviya': 6,\n",
       " 'Balai': 6,\n",
       " 'BALAI': 6,\n",
       " 'Opan': 6,\n",
       " 'Mannan': 6,\n",
       " 'Achari': 6,\n",
       " 'Soliga': 5,\n",
       " 'Scedelt Cast': 5,\n",
       " 'Other Backward caste': 5,\n",
       " 'Harijan': 5,\n",
       " 'Nai': 5,\n",
       " 'Lohar': 5,\n",
       " 'Gounder': 5,\n",
       " 'Prasad': 5,\n",
       " 'Kaniyaru': 5,\n",
       " 'o': 5,\n",
       " 'minority': 5,\n",
       " 'Dhangar(Nomadic Tribes)': 5,\n",
       " 'Ediga Gwoda': 5,\n",
       " 'genral': 5,\n",
       " 'Dushad': 4,\n",
       " 'Hindu, Kuruba': 4,\n",
       " 'Lingayath': 4,\n",
       " 'Vishvakarma': 4,\n",
       " 'Mankar': 4,\n",
       " 'keer': 4,\n",
       " 'teli': 4,\n",
       " 'lingayat': 4,\n",
       " 'Yarava': 4,\n",
       " '0bc': 4,\n",
       " 'Shikh': 4,\n",
       " 'Viswakarma': 4,\n",
       " 'Mehatar': 4,\n",
       " 'Ganiga shetty': 4,\n",
       " 'Shettaru': 4,\n",
       " 'Chettiyar': 4,\n",
       " 'Jain': 4,\n",
       " 'Chabhar': 4,\n",
       " 'mahar': 4,\n",
       " 'Urs': 4,\n",
       " 'Sutar': 4,\n",
       " 'Panjabi': 4,\n",
       " 'Kalwar': 4,\n",
       " 'tanwar': 4,\n",
       " 'Ahir': 4,\n",
       " 'Chricshan': 4,\n",
       " 'Panika': 4,\n",
       " 'Kumbara shetty': 4,\n",
       " 'Hindu_OBC': 4,\n",
       " 'Thandan': 4,\n",
       " 'Uppar sheety': 3,\n",
       " 'BC-B': 3,\n",
       " 'Nepali': 3,\n",
       " 'Gondhali': 3,\n",
       " 'Kumhar': 3,\n",
       " 'Modaliyar': 3,\n",
       " 'Nt': 3,\n",
       " 'Kammara': 3,\n",
       " 'Sonar (OBC)': 3,\n",
       " 'Kumbhar': 3,\n",
       " 'Bramin': 3,\n",
       " 'Pilla': 3,\n",
       " 'Other': 3,\n",
       " 'Kol': 3,\n",
       " 'Gosavi': 3,\n",
       " 'S.E.B.C': 3,\n",
       " 'ezhava': 3,\n",
       " 'Telgu': 3,\n",
       " 'R C': 3,\n",
       " 'AC': 3,\n",
       " 'Scheduled Tribe': 3,\n",
       " 'Baiga': 3,\n",
       " 'patel': 3,\n",
       " '24 telugashetty': 3,\n",
       " 'Arya vyshya': 3,\n",
       " 'Gowda': 3,\n",
       " 'Linghaitha': 3,\n",
       " 'Kahar': 3,\n",
       " 'ST Gond': 3,\n",
       " 'Tribal': 3,\n",
       " 'Sechudled Caste': 3,\n",
       " 'Janral': 2,\n",
       " 'Musilm': 2,\n",
       " 'Kayshtha': 2,\n",
       " 'Mouchi': 2,\n",
       " 'Kuruba Gowda': 2,\n",
       " 'Vadar': 2,\n",
       " 'TRIBEL': 2,\n",
       " 'Rajaputh': 2,\n",
       " 'Sonar': 2,\n",
       " 'Bhangi': 2,\n",
       " 'Tamboli': 2,\n",
       " 'S': 2,\n",
       " 'Mahali': 2,\n",
       " 'Visawakarma': 2,\n",
       " 'Kunabee': 2,\n",
       " 'Pandit': 2,\n",
       " 'S. t.': 2,\n",
       " 'Toli': 2,\n",
       " 'Minority comunity': 2,\n",
       " 'Mahar(SC)': 2,\n",
       " 'Lingyatha': 2,\n",
       " 'Jain Kuruba': 2,\n",
       " 'Chetti': 2,\n",
       " 'Jangam': 2,\n",
       " 'O': 2,\n",
       " 'Nil': 2,\n",
       " 'UR': 2,\n",
       " 'Others': 2,\n",
       " 'Bhil': 2,\n",
       " 'Uppara': 2,\n",
       " 'A.C': 2,\n",
       " 'mali': 2,\n",
       " 'Savitha samaja': 2,\n",
       " 'gond': 2,\n",
       " 'Mulim': 2,\n",
       " 'Muslin': 2,\n",
       " 'Genarel Cast': 2,\n",
       " 'Kunabi': 2,\n",
       " 'kureshi': 2,\n",
       " 'Ediga': 2,\n",
       " 'Rajpoot': 2,\n",
       " 'Not available': 2,\n",
       " 'Beda Jangama': 2,\n",
       " 'Okkalige': 2,\n",
       " 'Bheel': 2,\n",
       " 'Gawali': 2,\n",
       " 'open': 2,\n",
       " 'GENERALH': 2,\n",
       " 'Bouri': 2,\n",
       " 'Madivala Shettru': 2,\n",
       " 'Marwari': 2,\n",
       " 'Pandaram': 2,\n",
       " 'Papad Making': 2,\n",
       " 'Pasi': 2,\n",
       " 'Chetty': 2,\n",
       " 'Pandey': 2,\n",
       " 'Hindu_Ezhava': 2,\n",
       " 'Agrawal': 2,\n",
       " 'Kusbaha': 2,\n",
       " 'Yadav': 2,\n",
       " 'Gound': 2,\n",
       " 'Menon': 2,\n",
       " 'Kannad': 2,\n",
       " 'Thakur': 2,\n",
       " '45': 2,\n",
       " 'sheetaru': 2,\n",
       " 'vjnt': 2,\n",
       " 'Baudh': 2,\n",
       " 'Upparshetty': 2,\n",
       " 'sdf': 2,\n",
       " 'Achar': 2,\n",
       " 'Kokani': 2,\n",
       " 'Banjari': 1,\n",
       " 'Mehattar': 1,\n",
       " 'ew': 1,\n",
       " 'kachi': 1,\n",
       " 'Punjabi': 1,\n",
       " 'Methar': 1,\n",
       " 'Balajiga': 1,\n",
       " 'Seth': 1,\n",
       " 'Ganigarashetty': 1,\n",
       " 'Arya vyshaya': 1,\n",
       " 'Ambiga': 1,\n",
       " 'Gorai': 1,\n",
       " 'pardeshi': 1,\n",
       " 'Vadavar': 1,\n",
       " 'Prajapati': 1,\n",
       " 'S.S': 1,\n",
       " 'OGC': 1,\n",
       " 'Katical': 1,\n",
       " 'Madivlar shetty': 1,\n",
       " 'Shiv Nagar Goli': 1,\n",
       " 'RAJPOOT': 1,\n",
       " 'Silawat': 1,\n",
       " 'Gowda shettru': 1,\n",
       " 'Khatik': 1,\n",
       " 'Gujrathi': 1,\n",
       " 'Golla': 1,\n",
       " 'Bauoddh': 1,\n",
       " 'G': 1,\n",
       " 'Vanjara': 1,\n",
       " 'Lodhi': 1,\n",
       " 'Bhaat': 1,\n",
       " 'Banajiga': 1,\n",
       " 'Ligayat': 1,\n",
       " 'Cathartic': 1,\n",
       " 'Geberal': 1,\n",
       " 'Devanga': 1,\n",
       " 'Kshatriya Marata': 1,\n",
       " 'dholi': 1,\n",
       " 'Khrichan': 1,\n",
       " 'Barber': 1,\n",
       " '27': 1,\n",
       " 'setu(marvadi)': 1,\n",
       " 'Jaiswal': 1,\n",
       " 'Korma': 1,\n",
       " 'G.S': 1,\n",
       " 'Mahadev Koli': 1,\n",
       " 'Boudh': 1,\n",
       " 'Gejjagara shetty': 1,\n",
       " 'Bhuiya': 1,\n",
       " 'Bhovi': 1,\n",
       " 'STC': 1,\n",
       " 'Kshtriya morla': 1,\n",
       " 'Madivalshetty': 1,\n",
       " 'Gen- BPL': 1,\n",
       " 'Dhankar': 1,\n",
       " 'Nadar': 1,\n",
       " 'Grn.': 1,\n",
       " 'SU': 1,\n",
       " 'Pardeshi': 1,\n",
       " 'Sheety': 1,\n",
       " 'Kasar- OBC': 1,\n",
       " 'Bhumiyaar': 1,\n",
       " 'banjaran': 1,\n",
       " 'Married': 1,\n",
       " 'Rai': 1,\n",
       " 'Vokaliga Gowda': 1,\n",
       " 'Pradhan': 1,\n",
       " 'Maniroty Comunity': 1,\n",
       " 'ONT': 1,\n",
       " 'Koli': 1,\n",
       " 'annn': 1,\n",
       " 'Maruthuvar': 1,\n",
       " 'Kewat': 1,\n",
       " 'Noli': 1,\n",
       " 'STSC': 1,\n",
       " 'B.C.': 1,\n",
       " 'Wadar': 1,\n",
       " 'Sunni': 1,\n",
       " 'Kamma -Telagu': 1,\n",
       " 'Tank': 1,\n",
       " 'dhandar': 1,\n",
       " 'Kamma': 1,\n",
       " 'Hindu, Waddar': 1,\n",
       " 'Teluga shetty': 1,\n",
       " 'Pulayan': 1,\n",
       " 'Sechudle Tribe': 1,\n",
       " 'MEENDA': 1,\n",
       " 'Brhaman': 1,\n",
       " 'malviya': 1,\n",
       " 'Budhhiest': 1,\n",
       " 'Ghisadi': 1,\n",
       " 'Ramoshi': 1,\n",
       " 'O P N': 1,\n",
       " 'Chambahr': 1,\n",
       " 'Bramhan': 1,\n",
       " 'kurbiya': 1,\n",
       " 'Dhangar(Nomadic Tribe)': 1,\n",
       " 'Kalal': 1,\n",
       " 'Settru': 1,\n",
       " 'Minirity': 1,\n",
       " 'Sali': 1,\n",
       " 'Nayar': 1,\n",
       " 'Christians': 1,\n",
       " 'Garg': 1,\n",
       " 'Braman': 1,\n",
       " 'bhill': 1,\n",
       " '9': 1,\n",
       " 'Valmiki': 1,\n",
       " 'Ravat': 1,\n",
       " 'thakur': 1,\n",
       " 'others': 1,\n",
       " 'MAHAR': 1,\n",
       " 'Kumbarshetty': 1,\n",
       " 'Hatkar': 1,\n",
       " 'Khushwaha': 1,\n",
       " 'Edigagowdas': 1,\n",
       " 'OBC`': 1,\n",
       " 'Bodhi': 1,\n",
       " 'Vaishnavi': 1,\n",
       " 'Carpenter': 1,\n",
       " 'kumbhar': 1,\n",
       " 'Bc': 1,\n",
       " 'TRIBAL': 1,\n",
       " 'Cristan': 1,\n",
       " 'Edigagowda': 1,\n",
       " 'Oraon': 1,\n",
       " 'Kuruba bowda': 1,\n",
       " 'Vanjari': 1,\n",
       " 'Shimpit': 1,\n",
       " 'Gowala': 1,\n",
       " 'Pashi': 1,\n",
       " 'okkalige': 1,\n",
       " 'Lamani': 1,\n",
       " 'Koramashetty': 1,\n",
       " 'Kevat': 1,\n",
       " 'SBC': 1,\n",
       " 'Goad': 1,\n",
       " 'Brahman': 1,\n",
       " 'Crichtion': 1,\n",
       " 'GN': 1,\n",
       " 'Kuravu': 1,\n",
       " 'Patel': 1,\n",
       " 'Naikan': 1,\n",
       " 'Telagu  Kamathi': 1,\n",
       " 'Meeda': 1,\n",
       " 'Gadariya': 1,\n",
       " 'Boyar': 1,\n",
       " 'Gayatri': 1,\n",
       " 'Ezhuva': 1,\n",
       " 'Shiv': 1,\n",
       " 'Goundar': 1,\n",
       " 'Kumhaar': 1,\n",
       " 'Dahiya': 1,\n",
       " 'oc': 1,\n",
       " 'Madar': 1,\n",
       " 'M': 1,\n",
       " '2nd': 1,\n",
       " '48000': 1,\n",
       " 'Chand': 1,\n",
       " 'Modi': 1,\n",
       " 'Chambhar-SC': 1,\n",
       " 'Dhangar(Nomadic tribes)': 1,\n",
       " 'Noniya': 1,\n",
       " 'GEN.': 1,\n",
       " 'chamar': 1,\n",
       " 'Nayadu': 1,\n",
       " 'Upara Settaru': 1,\n",
       " 'PunJabi': 1,\n",
       " 'parmar': 1,\n",
       " 'Padmshali': 1,\n",
       " 'Gejjagarashetty': 1,\n",
       " 'Broman': 1,\n",
       " 'Naath': 1,\n",
       " 'Jenu Kuruba': 1,\n",
       " 'Gten': 1,\n",
       " 'Mainolity': 1,\n",
       " 'Upparashetty': 1,\n",
       " 'Kuruhina shetty': 1,\n",
       " 'Bramina': 1,\n",
       " 'm': 1,\n",
       " 'Badgaiyan': 1,\n",
       " '42': 1,\n",
       " 'Yaruvas': 1,\n",
       " 'gadriya': 1,\n",
       " 'Barbour (Nai)': 1,\n",
       " 'Thigala': 1,\n",
       " 'Thelugasetty': 1,\n",
       " 'Behari': 1,\n",
       " 'Bairagi': 1,\n",
       " 'Mushar': 1,\n",
       " 'Nahavi': 1,\n",
       " 'Rajak': 1,\n",
       " 'Tiwari': 1,\n",
       " 'Kurubas': 1,\n",
       " '23': 1,\n",
       " 'Tribal Artisans': 1,\n",
       " 'Mannar': 1,\n",
       " 'Savitha janaga': 1,\n",
       " 'Arasu': 1,\n",
       " 'Nishad': 1,\n",
       " 'Genetal': 1,\n",
       " 'Gaud': 1,\n",
       " 'ST(Harijan)': 1,\n",
       " 'ABC': 1,\n",
       " 'Adi karnataka (sc)': 1,\n",
       " 'Christain': 1,\n",
       " 'Singh': 1,\n",
       " 'Lingayat  Vani': 1,\n",
       " '48': 1,\n",
       " 'Ganigashetty': 1,\n",
       " 'Schedule Caste': 1,\n",
       " 'BRAMAN': 1,\n",
       " 'Muslimm': 1,\n",
       " 'Nhavi': 1,\n",
       " 'V.J.N.T.': 1,\n",
       " 'Banjara': 1,\n",
       " 'Aachari': 1,\n",
       " 'Veerashyva': 1}"
      ]
     },
     "execution_count": 176,
     "metadata": {},
     "output_type": "execute_result"
    }
   ],
   "source": [
    "social_frequency_map = clean_data.social_class.value_counts().to_dict()\n",
    "social_frequency_map"
   ]
  },
  {
   "cell_type": "code",
   "execution_count": 65,
   "metadata": {},
   "outputs": [
    {
     "data": {
      "text/plain": [
       "{'Tailoring': 3971,\n",
       " 'Goat rearing': 2268,\n",
       " 'Cow Rearing': 2077,\n",
       " 'Handloom Work': 2068,\n",
       " 'Vegetable cultivation': 1704,\n",
       " 'Grocery store': 1369,\n",
       " 'School': 1332,\n",
       " 'Milk business': 1310,\n",
       " 'Vegetable vendor': 1174,\n",
       " 'Weaver': 1157,\n",
       " 'Saree business': 1000,\n",
       " 'Embroidery work': 942,\n",
       " 'Fish rearing': 735,\n",
       " 'Poultry farm': 726,\n",
       " 'Rice business': 678,\n",
       " 'General store': 661,\n",
       " 'Cloth business': 609,\n",
       " 'Paddy cultivation': 594,\n",
       " 'Education Loan': 557,\n",
       " 'Buffalo rearing': 500,\n",
       " 'Beedi rolling business': 479,\n",
       " 'Gram cultivation': 416,\n",
       " 'Paddy processing': 402,\n",
       " 'Cattle rearing': 346,\n",
       " 'Thread making': 338,\n",
       " 'Petty shop': 331,\n",
       " 'Betel shop': 326,\n",
       " 'Tea stall': 320,\n",
       " 'Fruits business': 314,\n",
       " 'Cash crops': 311,\n",
       " 'Tiffin center': 302,\n",
       " 'Snacks business': 281,\n",
       " 'Mess Work': 280,\n",
       " 'Wet grinding': 257,\n",
       " 'Readymade Garments': 250,\n",
       " 'Bangles business': 243,\n",
       " 'Artificial Flower Making': 238,\n",
       " 'Carpenter/Wood business': 224,\n",
       " 'Artificial Jewellery Business': 221,\n",
       " 'Fish vendor': 211,\n",
       " 'Basket making business': 203,\n",
       " 'Broom and basket making': 179,\n",
       " '11th and 12th': 174,\n",
       " 'Puffed rice business': 169,\n",
       " 'Banana Cultivation': 167,\n",
       " 'Auto Rickshaw': 155,\n",
       " 'Pottery making': 154,\n",
       " 'Mini hotel': 149,\n",
       " 'Fast Food Stall': 147,\n",
       " 'Spices and condiments business': 125,\n",
       " 'Beauty parlour': 122,\n",
       " 'Stationery Shop': 122,\n",
       " 'Natural Fiber Crafts': 120,\n",
       " 'Centering Work': 119,\n",
       " 'Papad business': 112,\n",
       " 'Utensils selling': 110,\n",
       " 'Bamboo craft': 108,\n",
       " 'Flower Business': 108,\n",
       " 'Agarbatti sales': 105,\n",
       " 'Brick manufacturing unit': 105,\n",
       " 'Flour mill': 101,\n",
       " 'Sanitation': 100,\n",
       " 'Sweets shop': 100,\n",
       " 'Eggs selling': 99,\n",
       " 'Leaf plate making': 99,\n",
       " 'Paper Item Making': 99,\n",
       " 'Footwear business': 97,\n",
       " 'Provision store': 94,\n",
       " 'Accessories Vendor': 90,\n",
       " 'Laundry': 89,\n",
       " 'Applique work': 89,\n",
       " 'Fancy Store': 88,\n",
       " 'Mats business': 86,\n",
       " 'Fire Wood Business': 83,\n",
       " 'Cycle repair shop': 83,\n",
       " 'Coconut Business': 82,\n",
       " 'Electronic goods shop': 81,\n",
       " 'Bakery': 81,\n",
       " 'Beauty salon': 81,\n",
       " 'Decoration items sale': 78,\n",
       " 'Broom selling': 78,\n",
       " 'Leaf Weaving': 77,\n",
       " 'Coir work': 77,\n",
       " 'Cosmetic Shop': 76,\n",
       " 'Village level service centre': 73,\n",
       " 'Furniture Business': 72,\n",
       " 'Ironing Shop': 70,\n",
       " 'Mason': 69,\n",
       " 'Pattachitra': 65,\n",
       " 'Scrap business': 65,\n",
       " 'Chicken & mutton shop': 64,\n",
       " 'Processed food business': 63,\n",
       " 'Bandhni work': 62,\n",
       " 'Milk products': 60,\n",
       " 'Construction material leasing': 59,\n",
       " 'Mobile Accessories': 59,\n",
       " 'Black smith': 58,\n",
       " 'Mutton shop': 57,\n",
       " 'Bag Making': 57,\n",
       " 'Dry fish selling': 56,\n",
       " 'Sheep rearing': 49,\n",
       " 'Pig rearing': 49,\n",
       " 'Wicks making': 47,\n",
       " 'Cotton Business': 46,\n",
       " 'Gram Selling': 45,\n",
       " 'Vocational Loans': 40,\n",
       " 'Electronic items repair': 39,\n",
       " 'Wooden toys business': 39,\n",
       " 'Mechanic': 39,\n",
       " 'Duck rearing': 39,\n",
       " 'Tobacco business': 38,\n",
       " 'College': 37,\n",
       " 'Envelope making': 36,\n",
       " 'Electrician': 36,\n",
       " 'Stone Crushing': 36,\n",
       " 'Welding shop': 36,\n",
       " 'Rickshaw pulling': 35,\n",
       " 'Plastic wares': 35,\n",
       " 'Hosiery Business': 33,\n",
       " 'Artisan': 31,\n",
       " 'Knitting work': 31,\n",
       " 'Fishing net business': 30,\n",
       " 'Candy Business': 29,\n",
       " 'Worship Material Making': 28,\n",
       " 'Ice cream sales': 28,\n",
       " 'Dona plate making': 28,\n",
       " 'Mushroom cultivation': 27,\n",
       " 'Variety Store': 27,\n",
       " 'Leather Business': 27,\n",
       " 'Groundnuts business': 26,\n",
       " 'Cool drinks shop': 26,\n",
       " 'Bird Selling': 24,\n",
       " 'Training': 23,\n",
       " 'Medical shop': 23,\n",
       " 'Women accessories': 23,\n",
       " 'Betel Farm': 23,\n",
       " 'Tent House': 23,\n",
       " 'Hardware Work': 22,\n",
       " 'Plastic recycling': 22,\n",
       " 'Rakhi making': 22,\n",
       " 'Photo studio': 21,\n",
       " 'Home appliances business': 21,\n",
       " 'Crown Making': 21,\n",
       " 'Painting': 21,\n",
       " 'Grain Selling': 20,\n",
       " 'Printing press': 20,\n",
       " 'Xerox shop': 19,\n",
       " 'Labour': 19,\n",
       " 'Transport business': 19,\n",
       " 'Wooden Apple Beads Making': 18,\n",
       " 'Rope making': 18,\n",
       " 'Hardware Store': 17,\n",
       " 'Leaf Selling': 17,\n",
       " 'Gold polishing work': 17,\n",
       " 'Hand cart puller': 17,\n",
       " 'Tapioca Cultivation': 16,\n",
       " 'Carpet Weaving': 16,\n",
       " 'Contract work': 16,\n",
       " 'Jute Work': 16,\n",
       " 'Cobbler': 16,\n",
       " 'Non-Timber Forest Products': 15,\n",
       " 'Toy Store': 15,\n",
       " 'Fodder business': 15,\n",
       " 'Book store': 14,\n",
       " 'Dusting brush making': 14,\n",
       " 'Surgical instruments making': 14,\n",
       " 'Dolls making': 14,\n",
       " 'Ayurvedic herb business': 13,\n",
       " 'Goldsmith': 13,\n",
       " 'Plastic bag making': 12,\n",
       " 'Forest products selling': 12,\n",
       " 'Catering business': 12,\n",
       " 'Fruit juice Shop': 12,\n",
       " 'Solar Ovens Selling': 12,\n",
       " 'Old clothes business': 12,\n",
       " 'Gunny bag sales': 12,\n",
       " 'Bicylces': 12,\n",
       " 'Detergent Powder Business': 12,\n",
       " 'Automobiles': 12,\n",
       " 'Pan shop Business': 11,\n",
       " 'Seeds Business': 11,\n",
       " 'Tamarind Selling Business': 11,\n",
       " 'Umbrella making': 11,\n",
       " 'Ration shop': 10,\n",
       " 'Bedspread selling': 10,\n",
       " 'Stone carving': 10,\n",
       " 'Charcoal Business': 9,\n",
       " 'Juice stall': 9,\n",
       " 'Oil Manufacturing': 9,\n",
       " 'Mosquito net selling': 9,\n",
       " 'Oil Vendor': 9,\n",
       " 'Daily Needs': 9,\n",
       " 'Fireworks making': 9,\n",
       " 'Soap selling': 9,\n",
       " 'Solid Waste Management': 8,\n",
       " 'Kite making business': 8,\n",
       " 'Plumbing': 8,\n",
       " 'Betal Nut Seller': 8,\n",
       " 'CD/DVD Seller': 7,\n",
       " 'Photo Framing': 7,\n",
       " 'Phenol Business': 7,\n",
       " 'Cashew de-shelling': 7,\n",
       " 'Sattu business': 7,\n",
       " 'Milk Business': 7,\n",
       " 'Rabbit rearing': 7,\n",
       " 'Home Appliance Repairs': 7,\n",
       " 'Paint shop': 7,\n",
       " 'Bussiness': 7,\n",
       " 'Silver Ornaments': 7,\n",
       " 'Polythene Making': 6,\n",
       " 'Candle Making': 6,\n",
       " 'Box making': 6,\n",
       " 'Smithy work': 6,\n",
       " 'Dry Fruit Selling': 6,\n",
       " 'Tea powder business': 6,\n",
       " 'Newspaper Agent': 6,\n",
       " 'Pen making': 6,\n",
       " 'PA systems for rent': 6,\n",
       " 'Wheat Selling': 6,\n",
       " 'Chat Center': 5,\n",
       " 'Ice cream stick making': 5,\n",
       " 'Coconut Art': 5,\n",
       " 'Bearing Work': 5,\n",
       " 'Farmer': 5,\n",
       " 'Turmeric Business': 5,\n",
       " 'Palm leaf business': 4,\n",
       " 'Fire wood': 4,\n",
       " 'Drummer': 4,\n",
       " 'Daily waste collection centre': 4,\n",
       " 'Paper cover': 4,\n",
       " 'Bags manufacturing': 4,\n",
       " 'Religious material': 4,\n",
       " 'Cyber cafe': 4,\n",
       " 'SHOE BUSINESS': 4,\n",
       " 'Compost business': 4,\n",
       " 'Jewellery box making': 4,\n",
       " 'Rangoli color business': 4,\n",
       " 'Driver': 4,\n",
       " 'PCO booth': 4,\n",
       " 'Tiles making': 4,\n",
       " 'Rubber Stamp Making': 4,\n",
       " 'Fertilisers business': 3,\n",
       " 'Lottery Store': 3,\n",
       " 'Pigeon Rearing': 3,\n",
       " 'Screen Painting': 3,\n",
       " 'Optician Store': 3,\n",
       " 'Cow rearing': 3,\n",
       " 'Tin Clip Selling': 3,\n",
       " 'Tin box making': 3,\n",
       " 'Ki': 3,\n",
       " 'Making the Cotton Wick': 3,\n",
       " 'Diamond cutting': 3,\n",
       " 'Private Job': 3,\n",
       " 'Cushion Work': 3,\n",
       " 'Shoe Business': 3,\n",
       " 'Firewood': 3,\n",
       " 'Professional': 3,\n",
       " 'Ginger vendor': 2,\n",
       " 'Rice Mill': 2,\n",
       " 'Collective of small farmers from tribal communities': 2,\n",
       " 'Daily needs': 2,\n",
       " 'chat center': 2,\n",
       " 'Kirana Shop': 2,\n",
       " 'Quilt Making': 2,\n",
       " 'Fabrication': 2,\n",
       " 'Cotton wick work': 2,\n",
       " 'Upholstery': 2,\n",
       " 'Daily wages': 2,\n",
       " 'Producer Group (Artisans)': 2,\n",
       " 'Petty Shop': 2,\n",
       " 'computer work': 2,\n",
       " 'Silversmith': 2,\n",
       " 'Jaggery selling': 2,\n",
       " 'WOOD SELLING': 2,\n",
       " 'agriculture tools': 2,\n",
       " 'Business': 2,\n",
       " 'stiched the gunnybag': 2,\n",
       " 'Coir making': 2,\n",
       " 'Leaf weaving': 2,\n",
       " 'Rice mill': 2,\n",
       " 'Limestone Business': 2,\n",
       " 'Wallet making': 2,\n",
       " 'Water Caltrop Farming': 2,\n",
       " 'Waste Cotton Business': 2,\n",
       " 'Mosaic work': 2,\n",
       " 'Hampered work': 2,\n",
       " 'Fire wood business': 2,\n",
       " 'Motor binding': 2,\n",
       " 'Pump set for watering': 2,\n",
       " 'Farmar': 1,\n",
       " 'Cable operating business': 1,\n",
       " 'ICECREAM BUSINESS': 1,\n",
       " 'Band Baja shop': 1,\n",
       " 'labour work': 1,\n",
       " 'Wicks making(wick of lamp)': 1,\n",
       " 'Saree knitting works': 1,\n",
       " 'Sticker on shoe': 1,\n",
       " 'Computer training centre': 1,\n",
       " 'Helath & Personal Care Products Sales': 1,\n",
       " 'Cow Feed Selling': 1,\n",
       " 'Ledies Garment': 1,\n",
       " 'Rangoli sale': 1,\n",
       " 'welding work': 1,\n",
       " 'Making jewellery purse pouch': 1,\n",
       " 'Balloon Business.': 1,\n",
       " 'Distilled water processer': 1,\n",
       " 'Chumki stiching': 1,\n",
       " 'Welding work': 1,\n",
       " 'Boat making': 1,\n",
       " 'Studio': 1,\n",
       " 'Photo Studio': 1,\n",
       " 'Handy craft work': 1,\n",
       " 'Ginder': 1,\n",
       " 'Fish food Business': 1,\n",
       " 'Mandap Decoration': 1,\n",
       " 'Water Caltrop Trader': 1,\n",
       " 'FUNNEL TOOL MAKING': 1,\n",
       " 'cable operator for TV': 1,\n",
       " 'Tea Packet Making': 1,\n",
       " 'thimber work': 1,\n",
       " 'Mandap Decoratinon': 1,\n",
       " 'Shewai Noodle Making': 1,\n",
       " 'Xerox Shop': 1,\n",
       " 'JEWELRY WORK': 1,\n",
       " 'Cycle Shop': 1,\n",
       " 'FUEL OIL SELLING': 1,\n",
       " 'Selling milk': 1,\n",
       " 'Emergency Light making': 1,\n",
       " 'For making the furniture in coaching center': 1,\n",
       " 'Rice Selling': 1,\n",
       " 'cassete library': 1,\n",
       " 'Cable connection operator for TV': 1,\n",
       " 'Agarbati making and selling': 1,\n",
       " 'Helmets selling': 1,\n",
       " 'BLANKET WEAVING BUSINESS': 1,\n",
       " 'Bentex Jwelary': 1,\n",
       " 'Coffee Business': 1,\n",
       " 'Chat center': 1,\n",
       " 'Generator Hiring': 1,\n",
       " 'Sugarcane': 1,\n",
       " 'Travel Business': 1,\n",
       " 'Red sugar processing': 1,\n",
       " 'Cashew Deshelling': 1,\n",
       " 'Leaf Carpet Making': 1,\n",
       " 'BREAK FAST SHOP': 1,\n",
       " 'Centing work': 1,\n",
       " 'Creche': 1,\n",
       " 'Mixture-Moorhi Lorry': 1,\n",
       " 'Vegitable vending': 1,\n",
       " 'Light Fitting Work': 1,\n",
       " 'Cable operator': 1,\n",
       " 'News paper': 1,\n",
       " 'Plastic items vendor': 1,\n",
       " 'Bicycle Repair Shop': 1,\n",
       " 'Door mats business': 1,\n",
       " 'Fisher woman': 1,\n",
       " 'Mandapa/ Pendal Decoration': 1,\n",
       " 'MAKING THE IDENTITY CARD BUSINESS': 1,\n",
       " 'Poultry feed center': 1,\n",
       " 'Dog selling business': 1,\n",
       " 'Coaching Center': 1,\n",
       " 'Owner of small grocery shop': 1,\n",
       " 'Flour Mill': 1,\n",
       " 'Disposal utensil selling shop': 1,\n",
       " 'Teacher': 1,\n",
       " 'Manufacturing unit': 1,\n",
       " 'SATOO BUSINESS': 1,\n",
       " 'rent of Vibrate machine': 1,\n",
       " 'Tiffin Stall': 1,\n",
       " 'Betel Shop': 1,\n",
       " 'Leather work': 1,\n",
       " 'Firewood Business': 1,\n",
       " 'Screen printing': 1,\n",
       " 'kirana Shop': 1,\n",
       " 'Shoes center': 1,\n",
       " 'Agarbati Making': 1,\n",
       " 'sanitation': 1,\n",
       " 'sari&cloth': 1,\n",
       " 'Easy recharge of Mobile Phone': 1,\n",
       " 'CLINIC SHOP': 1,\n",
       " 'Sunglasses selling': 1,\n",
       " 'making candyfloss': 1,\n",
       " 'Labor work': 1,\n",
       " 'Stove Making': 1,\n",
       " 'Pickle Making': 1,\n",
       " 'loading Rickshaw': 1,\n",
       " 'Mandap Decorating': 1,\n",
       " 'Kerosine': 1,\n",
       " 'Battery shop': 1,\n",
       " 'Tea Powder business': 1,\n",
       " 'cotton business': 1,\n",
       " 'Cluster level service centre': 1,\n",
       " 'Ironing clothes': 1,\n",
       " 'Decoration Work': 1,\n",
       " 'PAN BISNESS': 1,\n",
       " 'Dry Waste Management': 1,\n",
       " 'Hair saloon': 1,\n",
       " 'Rent of Decoration Items': 1,\n",
       " 'MOTOR BINDING BUSINESS': 1,\n",
       " 'cable oparater': 1,\n",
       " 'Agricultural inputs to small and marginal farmers': 1,\n",
       " 'Plastic Spoon Paking': 1,\n",
       " 'china items.': 1,\n",
       " 'Refile making': 1,\n",
       " 'Manufacturing Unit': 1,\n",
       " 'cow selling': 1,\n",
       " 'Marbel Cutting Business': 1,\n",
       " 'Retailing of energy saving & health product in rural area': 1,\n",
       " 'Wool Knitting': 1,\n",
       " 'Leaf plate Making': 1,\n",
       " 'Distilled water business': 1,\n",
       " 'Sellver Smith': 1,\n",
       " 'COW BUSINESS': 1,\n",
       " 'Hotel': 1,\n",
       " 'DRY CLEANING BUSINESS': 1,\n",
       " 'Ration Shop': 1,\n",
       " 'Ginger selling': 1,\n",
       " 'Flower cultivation': 1,\n",
       " 'Fabrication Business': 1,\n",
       " 'tamarind business': 1,\n",
       " 'Bag Business': 1,\n",
       " 'Mandap decoration': 1,\n",
       " 'Leaf plate makin': 1,\n",
       " 'Spare parts manufacturers': 1,\n",
       " 'Boots Buisness': 1,\n",
       " 'Sugercane': 1,\n",
       " 'Mat Making': 1,\n",
       " 'CD Library Shop': 1,\n",
       " 'Cycle Repairing Shop': 1,\n",
       " 'stationery and xerox machine': 1,\n",
       " 'Pushcart Business': 1,\n",
       " 'Rubber stamp': 1,\n",
       " 'Plant nursery': 1,\n",
       " 'Religious': 1,\n",
       " 'Sugar Processing': 1,\n",
       " 'Screen printing Business': 1,\n",
       " 'Community Organization': 1,\n",
       " 'Vestige Product Selling': 1,\n",
       " 'BREAKFAST STALL': 1,\n",
       " 'Pickles Business': 1,\n",
       " 'Mediciene': 1}"
      ]
     },
     "execution_count": 65,
     "metadata": {},
     "output_type": "execute_result"
    }
   ],
   "source": [
    "primary_business_frequency_map = clean_data.primary_business.value_counts().to_dict()\n",
    "primary_business_frequency_map"
   ]
  },
  {
   "cell_type": "code",
   "execution_count": 66,
   "metadata": {},
   "outputs": [
    {
     "data": {
      "text/plain": [
       "{'Apparels': 7064,\n",
       " 'Agro Based Businesses': 4729,\n",
       " 'Animal husbandry': 4421,\n",
       " 'Meat Businesses': 4302,\n",
       " 'Handicrafts': 4230,\n",
       " 'Farming/ Agriculture': 3284,\n",
       " 'Education Loan': 2100,\n",
       " 'Retail Store': 1963,\n",
       " 'Eateries': 1831,\n",
       " 'Business Services - II': 854,\n",
       " 'Tobacco Related Activities': 853,\n",
       " 'Construction Related Activities': 661,\n",
       " 'Retail Sale': 614,\n",
       " 'Artifical Jewellry Selling': 556,\n",
       " 'Carpentery work': 299,\n",
       " 'Food Items': 285,\n",
       " 'Business Services - I': 276,\n",
       " 'Transportation Services': 245,\n",
       " 'Flower Business': 238,\n",
       " 'Beauty Salon': 204,\n",
       " 'Repair Services': 192,\n",
       " 'Laundry Services': 162,\n",
       " 'Agarbatti Business': 107,\n",
       " 'Utensil Selling': 104,\n",
       " 'Sanitation': 101,\n",
       " 'Recycling/ Waste Management': 100,\n",
       " 'Others': 62,\n",
       " 'Vocational Loans': 40,\n",
       " 'Jewellry Shop': 30,\n",
       " 'Training': 23,\n",
       " 'Miscellaneous': 19,\n",
       " 'Cyber Caf_': 7,\n",
       " 'Tent Services': 6,\n",
       " 'Cable TV Services': 5,\n",
       " 'Tuition Centre': 3,\n",
       " 'Professional': 3,\n",
       " 'Manufacturing': 1}"
      ]
     },
     "execution_count": 66,
     "metadata": {},
     "output_type": "execute_result"
    }
   ],
   "source": [
    "loan_purpose_frequency_map = clean_data.loan_purpose.value_counts().to_dict()\n",
    "loan_purpose_frequency_map"
   ]
  },
  {
   "cell_type": "code",
   "execution_count": 67,
   "metadata": {},
   "outputs": [
    {
     "data": {
      "text/html": [
       "<div>\n",
       "<style scoped>\n",
       "    .dataframe tbody tr th:only-of-type {\n",
       "        vertical-align: middle;\n",
       "    }\n",
       "\n",
       "    .dataframe tbody tr th {\n",
       "        vertical-align: top;\n",
       "    }\n",
       "\n",
       "    .dataframe thead th {\n",
       "        text-align: right;\n",
       "    }\n",
       "</style>\n",
       "<table border=\"1\" class=\"dataframe\">\n",
       "  <thead>\n",
       "    <tr style=\"text-align: right;\">\n",
       "      <th></th>\n",
       "      <th>age</th>\n",
       "      <th>sex</th>\n",
       "      <th>social_class</th>\n",
       "      <th>primary_business</th>\n",
       "      <th>annual_income</th>\n",
       "      <th>monthly_expenses</th>\n",
       "      <th>old_dependents</th>\n",
       "      <th>young_dependents</th>\n",
       "      <th>home_ownership</th>\n",
       "      <th>occupants_count</th>\n",
       "      <th>house_area</th>\n",
       "      <th>sanitary_availability</th>\n",
       "      <th>water_availabity</th>\n",
       "      <th>loan_purpose</th>\n",
       "      <th>loan_tenure</th>\n",
       "      <th>loan_installments</th>\n",
       "      <th>loan_amount</th>\n",
       "    </tr>\n",
       "  </thead>\n",
       "  <tbody>\n",
       "    <tr>\n",
       "      <th>0</th>\n",
       "      <td>22</td>\n",
       "      <td>F</td>\n",
       "      <td>11</td>\n",
       "      <td>3971</td>\n",
       "      <td>36000</td>\n",
       "      <td>5000.0</td>\n",
       "      <td>0</td>\n",
       "      <td>2</td>\n",
       "      <td>1.0</td>\n",
       "      <td>4</td>\n",
       "      <td>70</td>\n",
       "      <td>1.0</td>\n",
       "      <td>0.5</td>\n",
       "      <td>7064</td>\n",
       "      <td>12</td>\n",
       "      <td>12</td>\n",
       "      <td>5000</td>\n",
       "    </tr>\n",
       "    <tr>\n",
       "      <th>1</th>\n",
       "      <td>21</td>\n",
       "      <td>F</td>\n",
       "      <td>15933</td>\n",
       "      <td>3971</td>\n",
       "      <td>94000</td>\n",
       "      <td>3600.0</td>\n",
       "      <td>1</td>\n",
       "      <td>1</td>\n",
       "      <td>1.0</td>\n",
       "      <td>4</td>\n",
       "      <td>80</td>\n",
       "      <td>1.0</td>\n",
       "      <td>0.5</td>\n",
       "      <td>7064</td>\n",
       "      <td>12</td>\n",
       "      <td>50</td>\n",
       "      <td>7500</td>\n",
       "    </tr>\n",
       "    <tr>\n",
       "      <th>2</th>\n",
       "      <td>24</td>\n",
       "      <td>M</td>\n",
       "      <td>5</td>\n",
       "      <td>81</td>\n",
       "      <td>48000</td>\n",
       "      <td>4000.0</td>\n",
       "      <td>0</td>\n",
       "      <td>2</td>\n",
       "      <td>1.0</td>\n",
       "      <td>4</td>\n",
       "      <td>50</td>\n",
       "      <td>1.0</td>\n",
       "      <td>0.5</td>\n",
       "      <td>204</td>\n",
       "      <td>12</td>\n",
       "      <td>12</td>\n",
       "      <td>5000</td>\n",
       "    </tr>\n",
       "    <tr>\n",
       "      <th>3</th>\n",
       "      <td>26</td>\n",
       "      <td>F</td>\n",
       "      <td>15933</td>\n",
       "      <td>3971</td>\n",
       "      <td>7000</td>\n",
       "      <td>5000.0</td>\n",
       "      <td>0</td>\n",
       "      <td>2</td>\n",
       "      <td>1.0</td>\n",
       "      <td>5</td>\n",
       "      <td>50</td>\n",
       "      <td>1.0</td>\n",
       "      <td>0.5</td>\n",
       "      <td>7064</td>\n",
       "      <td>12</td>\n",
       "      <td>50</td>\n",
       "      <td>7500</td>\n",
       "    </tr>\n",
       "    <tr>\n",
       "      <th>4</th>\n",
       "      <td>23</td>\n",
       "      <td>F</td>\n",
       "      <td>15933</td>\n",
       "      <td>661</td>\n",
       "      <td>36000</td>\n",
       "      <td>3500.0</td>\n",
       "      <td>0</td>\n",
       "      <td>0</td>\n",
       "      <td>1.0</td>\n",
       "      <td>1</td>\n",
       "      <td>112</td>\n",
       "      <td>1.0</td>\n",
       "      <td>0.5</td>\n",
       "      <td>1963</td>\n",
       "      <td>12</td>\n",
       "      <td>12</td>\n",
       "      <td>5000</td>\n",
       "    </tr>\n",
       "  </tbody>\n",
       "</table>\n",
       "</div>"
      ],
      "text/plain": [
       "   age sex  social_class  primary_business  annual_income  monthly_expenses  \\\n",
       "0   22   F            11              3971          36000            5000.0   \n",
       "1   21   F         15933              3971          94000            3600.0   \n",
       "2   24   M             5                81          48000            4000.0   \n",
       "3   26   F         15933              3971           7000            5000.0   \n",
       "4   23   F         15933               661          36000            3500.0   \n",
       "\n",
       "   old_dependents  young_dependents  home_ownership  occupants_count  \\\n",
       "0               0                 2             1.0                4   \n",
       "1               1                 1             1.0                4   \n",
       "2               0                 2             1.0                4   \n",
       "3               0                 2             1.0                5   \n",
       "4               0                 0             1.0                1   \n",
       "\n",
       "   house_area  sanitary_availability  water_availabity  loan_purpose  \\\n",
       "0          70                    1.0               0.5          7064   \n",
       "1          80                    1.0               0.5          7064   \n",
       "2          50                    1.0               0.5           204   \n",
       "3          50                    1.0               0.5          7064   \n",
       "4         112                    1.0               0.5          1963   \n",
       "\n",
       "   loan_tenure  loan_installments  loan_amount  \n",
       "0           12                 12         5000  \n",
       "1           12                 50         7500  \n",
       "2           12                 12         5000  \n",
       "3           12                 50         7500  \n",
       "4           12                 12         5000  "
      ]
     },
     "execution_count": 67,
     "metadata": {},
     "output_type": "execute_result"
    }
   ],
   "source": [
    "clean_data.social_class = clean_data.social_class.map(social_frequency_map)\n",
    "clean_data.primary_business = clean_data.primary_business.map(primary_business_frequency_map)\n",
    "clean_data.loan_purpose = clean_data.loan_purpose.map(loan_purpose_frequency_map)\n",
    "clean_data.head()"
   ]
  },
  {
   "cell_type": "markdown",
   "metadata": {},
   "source": [
    "    Last remaininng feature to be encoded is the 'Gender'. Ordinal encoding cannot be used as it will create rankings according to our will. One hot encoding will be used instead."
   ]
  },
  {
   "cell_type": "markdown",
   "metadata": {},
   "source": [
    "###### Checking for unique values of 'Gender'"
   ]
  },
  {
   "cell_type": "code",
   "execution_count": 68,
   "metadata": {},
   "outputs": [
    {
     "data": {
      "text/plain": [
       "array(['F', 'M', 'TG'], dtype=object)"
      ]
     },
     "execution_count": 68,
     "metadata": {},
     "output_type": "execute_result"
    }
   ],
   "source": [
    "clean_data.sex.unique()"
   ]
  },
  {
   "cell_type": "code",
   "execution_count": 69,
   "metadata": {
    "scrolled": true
   },
   "outputs": [
    {
     "data": {
      "text/html": [
       "<div>\n",
       "<style scoped>\n",
       "    .dataframe tbody tr th:only-of-type {\n",
       "        vertical-align: middle;\n",
       "    }\n",
       "\n",
       "    .dataframe tbody tr th {\n",
       "        vertical-align: top;\n",
       "    }\n",
       "\n",
       "    .dataframe thead th {\n",
       "        text-align: right;\n",
       "    }\n",
       "</style>\n",
       "<table border=\"1\" class=\"dataframe\">\n",
       "  <thead>\n",
       "    <tr style=\"text-align: right;\">\n",
       "      <th></th>\n",
       "      <th>age</th>\n",
       "      <th>sex</th>\n",
       "      <th>social_class</th>\n",
       "      <th>primary_business</th>\n",
       "      <th>annual_income</th>\n",
       "      <th>monthly_expenses</th>\n",
       "      <th>old_dependents</th>\n",
       "      <th>young_dependents</th>\n",
       "      <th>home_ownership</th>\n",
       "      <th>occupants_count</th>\n",
       "      <th>house_area</th>\n",
       "      <th>sanitary_availability</th>\n",
       "      <th>water_availabity</th>\n",
       "      <th>loan_purpose</th>\n",
       "      <th>loan_tenure</th>\n",
       "      <th>loan_installments</th>\n",
       "      <th>loan_amount</th>\n",
       "    </tr>\n",
       "  </thead>\n",
       "  <tbody>\n",
       "    <tr>\n",
       "      <th>6157</th>\n",
       "      <td>26</td>\n",
       "      <td>TG</td>\n",
       "      <td>801</td>\n",
       "      <td>726</td>\n",
       "      <td>14400</td>\n",
       "      <td>4100.0</td>\n",
       "      <td>0</td>\n",
       "      <td>2</td>\n",
       "      <td>1.0</td>\n",
       "      <td>4</td>\n",
       "      <td>300</td>\n",
       "      <td>1.0</td>\n",
       "      <td>0.5</td>\n",
       "      <td>4302</td>\n",
       "      <td>12</td>\n",
       "      <td>50</td>\n",
       "      <td>8000</td>\n",
       "    </tr>\n",
       "    <tr>\n",
       "      <th>7034</th>\n",
       "      <td>22</td>\n",
       "      <td>TG</td>\n",
       "      <td>801</td>\n",
       "      <td>942</td>\n",
       "      <td>12000</td>\n",
       "      <td>4300.0</td>\n",
       "      <td>0</td>\n",
       "      <td>1</td>\n",
       "      <td>1.0</td>\n",
       "      <td>3</td>\n",
       "      <td>300</td>\n",
       "      <td>1.0</td>\n",
       "      <td>0.5</td>\n",
       "      <td>4230</td>\n",
       "      <td>12</td>\n",
       "      <td>50</td>\n",
       "      <td>5000</td>\n",
       "    </tr>\n",
       "    <tr>\n",
       "      <th>24358</th>\n",
       "      <td>21</td>\n",
       "      <td>TG</td>\n",
       "      <td>2616</td>\n",
       "      <td>735</td>\n",
       "      <td>60000</td>\n",
       "      <td>4200.0</td>\n",
       "      <td>0</td>\n",
       "      <td>2</td>\n",
       "      <td>1.0</td>\n",
       "      <td>4</td>\n",
       "      <td>900</td>\n",
       "      <td>1.0</td>\n",
       "      <td>1.0</td>\n",
       "      <td>4302</td>\n",
       "      <td>12</td>\n",
       "      <td>12</td>\n",
       "      <td>5000</td>\n",
       "    </tr>\n",
       "    <tr>\n",
       "      <th>29899</th>\n",
       "      <td>38</td>\n",
       "      <td>TG</td>\n",
       "      <td>1739</td>\n",
       "      <td>211</td>\n",
       "      <td>50000</td>\n",
       "      <td>3500.0</td>\n",
       "      <td>0</td>\n",
       "      <td>3</td>\n",
       "      <td>1.0</td>\n",
       "      <td>6</td>\n",
       "      <td>120</td>\n",
       "      <td>0.0</td>\n",
       "      <td>1.0</td>\n",
       "      <td>4302</td>\n",
       "      <td>12</td>\n",
       "      <td>12</td>\n",
       "      <td>12000</td>\n",
       "    </tr>\n",
       "    <tr>\n",
       "      <th>34763</th>\n",
       "      <td>41</td>\n",
       "      <td>TG</td>\n",
       "      <td>1</td>\n",
       "      <td>1</td>\n",
       "      <td>108000</td>\n",
       "      <td>6000.0</td>\n",
       "      <td>0</td>\n",
       "      <td>1</td>\n",
       "      <td>1.0</td>\n",
       "      <td>2</td>\n",
       "      <td>500000</td>\n",
       "      <td>1.0</td>\n",
       "      <td>0.5</td>\n",
       "      <td>1963</td>\n",
       "      <td>12</td>\n",
       "      <td>12</td>\n",
       "      <td>8000</td>\n",
       "    </tr>\n",
       "    <tr>\n",
       "      <th>38203</th>\n",
       "      <td>19</td>\n",
       "      <td>TG</td>\n",
       "      <td>21</td>\n",
       "      <td>557</td>\n",
       "      <td>36000</td>\n",
       "      <td>4000.0</td>\n",
       "      <td>0</td>\n",
       "      <td>0</td>\n",
       "      <td>1.0</td>\n",
       "      <td>3</td>\n",
       "      <td>900</td>\n",
       "      <td>1.0</td>\n",
       "      <td>1.0</td>\n",
       "      <td>2100</td>\n",
       "      <td>12</td>\n",
       "      <td>2</td>\n",
       "      <td>10000</td>\n",
       "    </tr>\n",
       "    <tr>\n",
       "      <th>38794</th>\n",
       "      <td>20</td>\n",
       "      <td>TG</td>\n",
       "      <td>15933</td>\n",
       "      <td>2077</td>\n",
       "      <td>52000</td>\n",
       "      <td>2000.0</td>\n",
       "      <td>0</td>\n",
       "      <td>1</td>\n",
       "      <td>1.0</td>\n",
       "      <td>3</td>\n",
       "      <td>600</td>\n",
       "      <td>1.0</td>\n",
       "      <td>1.0</td>\n",
       "      <td>4421</td>\n",
       "      <td>12</td>\n",
       "      <td>12</td>\n",
       "      <td>15000</td>\n",
       "    </tr>\n",
       "  </tbody>\n",
       "</table>\n",
       "</div>"
      ],
      "text/plain": [
       "       age sex  social_class  primary_business  annual_income  \\\n",
       "6157    26  TG           801               726          14400   \n",
       "7034    22  TG           801               942          12000   \n",
       "24358   21  TG          2616               735          60000   \n",
       "29899   38  TG          1739               211          50000   \n",
       "34763   41  TG             1                 1         108000   \n",
       "38203   19  TG            21               557          36000   \n",
       "38794   20  TG         15933              2077          52000   \n",
       "\n",
       "       monthly_expenses  old_dependents  young_dependents  home_ownership  \\\n",
       "6157             4100.0               0                 2             1.0   \n",
       "7034             4300.0               0                 1             1.0   \n",
       "24358            4200.0               0                 2             1.0   \n",
       "29899            3500.0               0                 3             1.0   \n",
       "34763            6000.0               0                 1             1.0   \n",
       "38203            4000.0               0                 0             1.0   \n",
       "38794            2000.0               0                 1             1.0   \n",
       "\n",
       "       occupants_count  house_area  sanitary_availability  water_availabity  \\\n",
       "6157                 4         300                    1.0               0.5   \n",
       "7034                 3         300                    1.0               0.5   \n",
       "24358                4         900                    1.0               1.0   \n",
       "29899                6         120                    0.0               1.0   \n",
       "34763                2      500000                    1.0               0.5   \n",
       "38203                3         900                    1.0               1.0   \n",
       "38794                3         600                    1.0               1.0   \n",
       "\n",
       "       loan_purpose  loan_tenure  loan_installments  loan_amount  \n",
       "6157           4302           12                 50         8000  \n",
       "7034           4230           12                 50         5000  \n",
       "24358          4302           12                 12         5000  \n",
       "29899          4302           12                 12        12000  \n",
       "34763          1963           12                 12         8000  \n",
       "38203          2100           12                  2        10000  \n",
       "38794          4421           12                 12        15000  "
      ]
     },
     "execution_count": 69,
     "metadata": {},
     "output_type": "execute_result"
    }
   ],
   "source": [
    "clean_data[clean_data['sex'] == 'TG']"
   ]
  },
  {
   "cell_type": "code",
   "execution_count": 70,
   "metadata": {},
   "outputs": [
    {
     "data": {
      "text/html": [
       "<div>\n",
       "<style scoped>\n",
       "    .dataframe tbody tr th:only-of-type {\n",
       "        vertical-align: middle;\n",
       "    }\n",
       "\n",
       "    .dataframe tbody tr th {\n",
       "        vertical-align: top;\n",
       "    }\n",
       "\n",
       "    .dataframe thead th {\n",
       "        text-align: right;\n",
       "    }\n",
       "</style>\n",
       "<table border=\"1\" class=\"dataframe\">\n",
       "  <thead>\n",
       "    <tr style=\"text-align: right;\">\n",
       "      <th></th>\n",
       "      <th>age</th>\n",
       "      <th>social_class</th>\n",
       "      <th>primary_business</th>\n",
       "      <th>annual_income</th>\n",
       "      <th>monthly_expenses</th>\n",
       "      <th>old_dependents</th>\n",
       "      <th>young_dependents</th>\n",
       "      <th>home_ownership</th>\n",
       "      <th>occupants_count</th>\n",
       "      <th>house_area</th>\n",
       "      <th>sanitary_availability</th>\n",
       "      <th>water_availabity</th>\n",
       "      <th>loan_purpose</th>\n",
       "      <th>loan_tenure</th>\n",
       "      <th>loan_installments</th>\n",
       "      <th>loan_amount</th>\n",
       "      <th>sex_F</th>\n",
       "      <th>sex_M</th>\n",
       "      <th>sex_TG</th>\n",
       "    </tr>\n",
       "  </thead>\n",
       "  <tbody>\n",
       "    <tr>\n",
       "      <th>0</th>\n",
       "      <td>22</td>\n",
       "      <td>11</td>\n",
       "      <td>3971</td>\n",
       "      <td>36000</td>\n",
       "      <td>5000.0</td>\n",
       "      <td>0</td>\n",
       "      <td>2</td>\n",
       "      <td>1.0</td>\n",
       "      <td>4</td>\n",
       "      <td>70</td>\n",
       "      <td>1.0</td>\n",
       "      <td>0.5</td>\n",
       "      <td>7064</td>\n",
       "      <td>12</td>\n",
       "      <td>12</td>\n",
       "      <td>5000</td>\n",
       "      <td>1</td>\n",
       "      <td>0</td>\n",
       "      <td>0</td>\n",
       "    </tr>\n",
       "    <tr>\n",
       "      <th>1</th>\n",
       "      <td>21</td>\n",
       "      <td>15933</td>\n",
       "      <td>3971</td>\n",
       "      <td>94000</td>\n",
       "      <td>3600.0</td>\n",
       "      <td>1</td>\n",
       "      <td>1</td>\n",
       "      <td>1.0</td>\n",
       "      <td>4</td>\n",
       "      <td>80</td>\n",
       "      <td>1.0</td>\n",
       "      <td>0.5</td>\n",
       "      <td>7064</td>\n",
       "      <td>12</td>\n",
       "      <td>50</td>\n",
       "      <td>7500</td>\n",
       "      <td>1</td>\n",
       "      <td>0</td>\n",
       "      <td>0</td>\n",
       "    </tr>\n",
       "    <tr>\n",
       "      <th>2</th>\n",
       "      <td>24</td>\n",
       "      <td>5</td>\n",
       "      <td>81</td>\n",
       "      <td>48000</td>\n",
       "      <td>4000.0</td>\n",
       "      <td>0</td>\n",
       "      <td>2</td>\n",
       "      <td>1.0</td>\n",
       "      <td>4</td>\n",
       "      <td>50</td>\n",
       "      <td>1.0</td>\n",
       "      <td>0.5</td>\n",
       "      <td>204</td>\n",
       "      <td>12</td>\n",
       "      <td>12</td>\n",
       "      <td>5000</td>\n",
       "      <td>0</td>\n",
       "      <td>1</td>\n",
       "      <td>0</td>\n",
       "    </tr>\n",
       "    <tr>\n",
       "      <th>3</th>\n",
       "      <td>26</td>\n",
       "      <td>15933</td>\n",
       "      <td>3971</td>\n",
       "      <td>7000</td>\n",
       "      <td>5000.0</td>\n",
       "      <td>0</td>\n",
       "      <td>2</td>\n",
       "      <td>1.0</td>\n",
       "      <td>5</td>\n",
       "      <td>50</td>\n",
       "      <td>1.0</td>\n",
       "      <td>0.5</td>\n",
       "      <td>7064</td>\n",
       "      <td>12</td>\n",
       "      <td>50</td>\n",
       "      <td>7500</td>\n",
       "      <td>1</td>\n",
       "      <td>0</td>\n",
       "      <td>0</td>\n",
       "    </tr>\n",
       "    <tr>\n",
       "      <th>4</th>\n",
       "      <td>23</td>\n",
       "      <td>15933</td>\n",
       "      <td>661</td>\n",
       "      <td>36000</td>\n",
       "      <td>3500.0</td>\n",
       "      <td>0</td>\n",
       "      <td>0</td>\n",
       "      <td>1.0</td>\n",
       "      <td>1</td>\n",
       "      <td>112</td>\n",
       "      <td>1.0</td>\n",
       "      <td>0.5</td>\n",
       "      <td>1963</td>\n",
       "      <td>12</td>\n",
       "      <td>12</td>\n",
       "      <td>5000</td>\n",
       "      <td>1</td>\n",
       "      <td>0</td>\n",
       "      <td>0</td>\n",
       "    </tr>\n",
       "    <tr>\n",
       "      <th>...</th>\n",
       "      <td>...</td>\n",
       "      <td>...</td>\n",
       "      <td>...</td>\n",
       "      <td>...</td>\n",
       "      <td>...</td>\n",
       "      <td>...</td>\n",
       "      <td>...</td>\n",
       "      <td>...</td>\n",
       "      <td>...</td>\n",
       "      <td>...</td>\n",
       "      <td>...</td>\n",
       "      <td>...</td>\n",
       "      <td>...</td>\n",
       "      <td>...</td>\n",
       "      <td>...</td>\n",
       "      <td>...</td>\n",
       "      <td>...</td>\n",
       "      <td>...</td>\n",
       "      <td>...</td>\n",
       "    </tr>\n",
       "    <tr>\n",
       "      <th>39995</th>\n",
       "      <td>45</td>\n",
       "      <td>1739</td>\n",
       "      <td>500</td>\n",
       "      <td>78000</td>\n",
       "      <td>4000.0</td>\n",
       "      <td>0</td>\n",
       "      <td>0</td>\n",
       "      <td>1.0</td>\n",
       "      <td>2</td>\n",
       "      <td>600</td>\n",
       "      <td>1.0</td>\n",
       "      <td>1.0</td>\n",
       "      <td>4421</td>\n",
       "      <td>12</td>\n",
       "      <td>12</td>\n",
       "      <td>8000</td>\n",
       "      <td>1</td>\n",
       "      <td>0</td>\n",
       "      <td>0</td>\n",
       "    </tr>\n",
       "    <tr>\n",
       "      <th>39996</th>\n",
       "      <td>35</td>\n",
       "      <td>2616</td>\n",
       "      <td>3971</td>\n",
       "      <td>48000</td>\n",
       "      <td>4000.0</td>\n",
       "      <td>0</td>\n",
       "      <td>3</td>\n",
       "      <td>1.0</td>\n",
       "      <td>4</td>\n",
       "      <td>800</td>\n",
       "      <td>1.0</td>\n",
       "      <td>1.0</td>\n",
       "      <td>7064</td>\n",
       "      <td>12</td>\n",
       "      <td>12</td>\n",
       "      <td>8000</td>\n",
       "      <td>1</td>\n",
       "      <td>0</td>\n",
       "      <td>0</td>\n",
       "    </tr>\n",
       "    <tr>\n",
       "      <th>39997</th>\n",
       "      <td>35</td>\n",
       "      <td>432</td>\n",
       "      <td>2268</td>\n",
       "      <td>48000</td>\n",
       "      <td>3500.0</td>\n",
       "      <td>0</td>\n",
       "      <td>2</td>\n",
       "      <td>1.0</td>\n",
       "      <td>3</td>\n",
       "      <td>600</td>\n",
       "      <td>1.0</td>\n",
       "      <td>1.0</td>\n",
       "      <td>4302</td>\n",
       "      <td>12</td>\n",
       "      <td>12</td>\n",
       "      <td>8000</td>\n",
       "      <td>1</td>\n",
       "      <td>0</td>\n",
       "      <td>0</td>\n",
       "    </tr>\n",
       "    <tr>\n",
       "      <th>39998</th>\n",
       "      <td>28</td>\n",
       "      <td>432</td>\n",
       "      <td>2268</td>\n",
       "      <td>48000</td>\n",
       "      <td>4000.0</td>\n",
       "      <td>0</td>\n",
       "      <td>3</td>\n",
       "      <td>1.0</td>\n",
       "      <td>4</td>\n",
       "      <td>600</td>\n",
       "      <td>1.0</td>\n",
       "      <td>1.0</td>\n",
       "      <td>4302</td>\n",
       "      <td>12</td>\n",
       "      <td>12</td>\n",
       "      <td>8000</td>\n",
       "      <td>1</td>\n",
       "      <td>0</td>\n",
       "      <td>0</td>\n",
       "    </tr>\n",
       "    <tr>\n",
       "      <th>39999</th>\n",
       "      <td>32</td>\n",
       "      <td>432</td>\n",
       "      <td>2268</td>\n",
       "      <td>72000</td>\n",
       "      <td>4500.0</td>\n",
       "      <td>0</td>\n",
       "      <td>2</td>\n",
       "      <td>1.0</td>\n",
       "      <td>4</td>\n",
       "      <td>600</td>\n",
       "      <td>1.0</td>\n",
       "      <td>1.0</td>\n",
       "      <td>4302</td>\n",
       "      <td>12</td>\n",
       "      <td>12</td>\n",
       "      <td>8000</td>\n",
       "      <td>1</td>\n",
       "      <td>0</td>\n",
       "      <td>0</td>\n",
       "    </tr>\n",
       "  </tbody>\n",
       "</table>\n",
       "<p>39974 rows × 19 columns</p>\n",
       "</div>"
      ],
      "text/plain": [
       "       age  social_class  primary_business  annual_income  monthly_expenses  \\\n",
       "0       22            11              3971          36000            5000.0   \n",
       "1       21         15933              3971          94000            3600.0   \n",
       "2       24             5                81          48000            4000.0   \n",
       "3       26         15933              3971           7000            5000.0   \n",
       "4       23         15933               661          36000            3500.0   \n",
       "...    ...           ...               ...            ...               ...   \n",
       "39995   45          1739               500          78000            4000.0   \n",
       "39996   35          2616              3971          48000            4000.0   \n",
       "39997   35           432              2268          48000            3500.0   \n",
       "39998   28           432              2268          48000            4000.0   \n",
       "39999   32           432              2268          72000            4500.0   \n",
       "\n",
       "       old_dependents  young_dependents  home_ownership  occupants_count  \\\n",
       "0                   0                 2             1.0                4   \n",
       "1                   1                 1             1.0                4   \n",
       "2                   0                 2             1.0                4   \n",
       "3                   0                 2             1.0                5   \n",
       "4                   0                 0             1.0                1   \n",
       "...               ...               ...             ...              ...   \n",
       "39995               0                 0             1.0                2   \n",
       "39996               0                 3             1.0                4   \n",
       "39997               0                 2             1.0                3   \n",
       "39998               0                 3             1.0                4   \n",
       "39999               0                 2             1.0                4   \n",
       "\n",
       "       house_area  sanitary_availability  water_availabity  loan_purpose  \\\n",
       "0              70                    1.0               0.5          7064   \n",
       "1              80                    1.0               0.5          7064   \n",
       "2              50                    1.0               0.5           204   \n",
       "3              50                    1.0               0.5          7064   \n",
       "4             112                    1.0               0.5          1963   \n",
       "...           ...                    ...               ...           ...   \n",
       "39995         600                    1.0               1.0          4421   \n",
       "39996         800                    1.0               1.0          7064   \n",
       "39997         600                    1.0               1.0          4302   \n",
       "39998         600                    1.0               1.0          4302   \n",
       "39999         600                    1.0               1.0          4302   \n",
       "\n",
       "       loan_tenure  loan_installments  loan_amount  sex_F  sex_M  sex_TG  \n",
       "0               12                 12         5000      1      0       0  \n",
       "1               12                 50         7500      1      0       0  \n",
       "2               12                 12         5000      0      1       0  \n",
       "3               12                 50         7500      1      0       0  \n",
       "4               12                 12         5000      1      0       0  \n",
       "...            ...                ...          ...    ...    ...     ...  \n",
       "39995           12                 12         8000      1      0       0  \n",
       "39996           12                 12         8000      1      0       0  \n",
       "39997           12                 12         8000      1      0       0  \n",
       "39998           12                 12         8000      1      0       0  \n",
       "39999           12                 12         8000      1      0       0  \n",
       "\n",
       "[39974 rows x 19 columns]"
      ]
     },
     "execution_count": 70,
     "metadata": {},
     "output_type": "execute_result"
    }
   ],
   "source": [
    "final_data = pd.get_dummies(clean_data, columns = ['sex'])\n",
    "final_data"
   ]
  },
  {
   "cell_type": "markdown",
   "metadata": {},
   "source": [
    "    The 'sex' column has been replaced by 3 different columns i.e. 'sex_F', 'sex_M', 'sex_TG' "
   ]
  },
  {
   "cell_type": "markdown",
   "metadata": {},
   "source": [
    "### ---------------------------------"
   ]
  },
  {
   "cell_type": "markdown",
   "metadata": {},
   "source": [
    "### Outlier Detection"
   ]
  },
  {
   "cell_type": "markdown",
   "metadata": {},
   "source": [
    "#### Boxplot - Loan amount"
   ]
  },
  {
   "cell_type": "code",
   "execution_count": 160,
   "metadata": {},
   "outputs": [
    {
     "data": {
      "text/plain": [
       "<AxesSubplot:ylabel='loan_amount'>"
      ]
     },
     "execution_count": 160,
     "metadata": {},
     "output_type": "execute_result"
    },
    {
     "data": {
      "image/png": "[encoded data removed]",
      "text/plain": [
       "<Figure size 1080x720 with 1 Axes>"
      ]
     },
     "metadata": {
      "needs_background": "light"
     },
     "output_type": "display_data"
    }
   ],
   "source": [
    "plt.figure(figsize=(15,10))\n",
    "sns.boxplot(y=final_data.loan_amount)"
   ]
  },
  {
   "cell_type": "markdown",
   "metadata": {},
   "source": [
    "#### InterQuartile - Loan amount"
   ]
  },
  {
   "cell_type": "code",
   "execution_count": 161,
   "metadata": {},
   "outputs": [
    {
     "name": "stdout",
     "output_type": "stream",
     "text": [
      "Q1 25 percentile of the given data is,  5000.0\n",
      "Q1 50 percentile of the given data is,  8000.0\n",
      "Q1 75 percentile of the given data is,  10000.0\n",
      "Interquartile range is 5000.0\n"
     ]
    }
   ],
   "source": [
    "Quartile1 = np.percentile(final_data['loan_amount'], 25, interpolation = 'midpoint') \n",
    "Quartile2 = np.percentile(final_data['loan_amount'], 50, interpolation = 'midpoint') \n",
    "Quartile3 = np.percentile(final_data['loan_amount'], 75, interpolation = 'midpoint') \n",
    "  \n",
    "print('Q1 25 percentile of the given data is, ', Quartile1)\n",
    "print('Q1 50 percentile of the given data is, ', Quartile2)\n",
    "print('Q1 75 percentile of the given data is, ', Quartile3)\n",
    "  \n",
    "IQR_loan = Quartile3 - Quartile1 \n",
    "print('Interquartile range is', IQR_loan)"
   ]
  },
  {
   "cell_type": "code",
   "execution_count": 177,
   "metadata": {},
   "outputs": [
    {
     "name": "stdout",
     "output_type": "stream",
     "text": [
      "Lower limit is -2500.0\n",
      "Upper limit is 17500.0\n"
     ]
    }
   ],
   "source": [
    "lower_limit = Quartile1 - 1.5 * IQR_loan\n",
    "upper_limit = Quartile3 + 1.5 * IQR_loan\n",
    "print('Lower limit is', lower_limit)\n",
    "print('Upper limit is', upper_limit)"
   ]
  },
  {
   "cell_type": "code",
   "execution_count": 163,
   "metadata": {},
   "outputs": [
    {
     "name": "stdout",
     "output_type": "stream",
     "text": [
      " Outliers in Loan amount are:  \n",
      " [19000, 19000, 19000, 19000, 19000, 19000, 30000, 19000, 19000, 19000, 19000, 62000, 63000, 63000, 31000, 34000, 19000, 50000, 50000, 140000, 105000, 140000, 140000, 140000, 20000, 20000, 20000, 20000, 20000, 20000, 20000, 20000, 20000, 20000, 20000, 20000, 35000, 35000, 35000, 35000, 35000, 35000, 35000, 100000, 18000, 30000, 30000, 30000, 30000, 30000, 20000, 30000, 30000, 50000, 50000, 19000, 500000, 500000, 18000, 1000000, 500000, 563000, 500000, 500000, 40000, 40000, 41200, 408800, 40000, 30000, 340000, 540000, 30000, 40000, 30000, 50000, 40000, 500000, 30000, 19000, 20000, 150000, 1000000, 20000, 20000, 20000, 20000, 20000, 20000, 100000, 50000, 50000, 50000, 50000, 50000, 40000, 40000, 40000, 20000, 20000, 20000, 20000, 20000, 500000, 18000, 20000, 20000, 20000, 20000, 20000, 20000, 20000, 20000, 20000, 20000, 20000, 20000, 20000, 20000, 20000, 20000, 20000, 20000, 20000, 20000, 20000, 20000, 120000, 40000, 20000, 20000, 50000, 50000, 20000, 50000, 50000, 20000, 20000, 20000, 50000, 20000, 20000, 20000, 20000, 20000, 20000, 20000, 20000, 20000, 20000, 20000, 20000, 20000, 20000, 20000, 20000, 20000, 20000, 20000, 20000, 20000, 20000, 20000, 20000, 20000, 20000, 20000, 20000, 20000, 20000, 20000, 20000, 20000, 20000, 20000, 20000, 20000, 20000, 20000, 20000, 20000, 20000, 20000, 20000, 20000, 1343000, 427600, 157000, 292400, 500000, 18000, 18000, 18000, 18000, 18000, 18000, 18000, 18000, 18000, 18000, 18000, 103000, 103000]\n"
     ]
    }
   ],
   "source": [
    "outlier_loan = []\n",
    "for i in final_data['loan_amount']:\n",
    "    if (( i > upper_limit ) or ( i < lower_limit )):\n",
    "         outlier_loan.append(i)\n",
    "print(' Outliers in Loan amount are: ', \"\\n\",outlier_loan)"
   ]
  },
  {
   "cell_type": "code",
   "execution_count": 170,
   "metadata": {},
   "outputs": [
    {
     "data": {
      "text/plain": [
       "39974"
      ]
     },
     "execution_count": 170,
     "metadata": {},
     "output_type": "execute_result"
    }
   ],
   "source": [
    "len(final_data.loan_amount)"
   ]
  },
  {
   "cell_type": "code",
   "execution_count": 171,
   "metadata": {},
   "outputs": [
    {
     "data": {
      "text/plain": [
       "203"
      ]
     },
     "execution_count": 171,
     "metadata": {},
     "output_type": "execute_result"
    }
   ],
   "source": [
    "len(outlier_loan)"
   ]
  },
  {
   "cell_type": "markdown",
   "metadata": {},
   "source": [
    "#### Boxplot - Annual Income"
   ]
  },
  {
   "cell_type": "code",
   "execution_count": 164,
   "metadata": {},
   "outputs": [
    {
     "data": {
      "text/plain": [
       "<AxesSubplot:ylabel='annual_income'>"
      ]
     },
     "execution_count": 164,
     "metadata": {},
     "output_type": "execute_result"
    },
    {
     "data": {
      "image/png": "[encoded data removed]",
      "text/plain": [
       "<Figure size 1080x1440 with 1 Axes>"
      ]
     },
     "metadata": {
      "needs_background": "light"
     },
     "output_type": "display_data"
    }
   ],
   "source": [
    "plt.figure(figsize=(15,20))\n",
    "sns.boxplot(y=final_data.annual_income)"
   ]
  },
  {
   "cell_type": "markdown",
   "metadata": {},
   "source": [
    "##### InterQuartile - Annual Income"
   ]
  },
  {
   "cell_type": "code",
   "execution_count": 165,
   "metadata": {},
   "outputs": [
    {
     "name": "stdout",
     "output_type": "stream",
     "text": [
      "Q1 25 percentile of the given data is,  14400.0\n",
      "Q1 50 percentile of the given data is,  36000.0\n",
      "Q1 75 percentile of the given data is,  56000.0\n",
      "Interquartile range is 41600.0\n"
     ]
    }
   ],
   "source": [
    "Q1 = np.percentile(final_data['annual_income'], 25, interpolation = 'midpoint') \n",
    "Q2 = np.percentile(final_data['annual_income'], 50, interpolation = 'midpoint') \n",
    "Q3 = np.percentile(final_data['annual_income'], 75, interpolation = 'midpoint') \n",
    "  \n",
    "print('Q1 25 percentile of the given data is, ', Q1)\n",
    "print('Q1 50 percentile of the given data is, ', Q2)\n",
    "print('Q1 75 percentile of the given data is, ', Q3)\n",
    "  \n",
    "IQR = Q3 - Q1 \n",
    "print('Interquartile range is', IQR)"
   ]
  },
  {
   "cell_type": "code",
   "execution_count": 181,
   "metadata": {},
   "outputs": [
    {
     "name": "stdout",
     "output_type": "stream",
     "text": [
      "low_limit is -48000.0\n",
      "up_limit is 118400.0\n"
     ]
    }
   ],
   "source": [
    "low_lim = Q1 - 1.5 * IQR\n",
    "up_lim = Q3 + 1.5 * IQR\n",
    "print('low_limit is', low_lim)\n",
    "print('up_limit is', up_lim)"
   ]
  },
  {
   "cell_type": "code",
   "execution_count": 182,
   "metadata": {},
   "outputs": [
    {
     "name": "stdout",
     "output_type": "stream",
     "text": [
      "Outliers in Annual income are: \n",
      " [165600, 120000, 120000, 120000, 144000, 120000, 120000, 120000, 120000, 120000, 200000, 120000, 150000, 180000, 120000, 150000, 120000, 200000, 120000, 144000, 120000, 144000, 120000, 120000, 120000, 120000, 120000, 120000, 120000, 120000, 120000, 120000, 120000, 120000, 120000, 120000, 120000, 120000, 120000, 120000, 144000, 140000, 120000, 120000, 120000, 120000, 120000, 120000, 120000, 120000, 120000, 1200000, 120000, 138000, 120000, 180000, 360000, 120000, 120000, 600000, 120000, 168000, 120000, 795134, 120000, 120000, 120000, 120000, 120000, 120000, 720000, 596000, 120000, 240000, 120000, 120000, 360000, 120000, 1000000, 120000, 120000, 120000, 120000, 120000, 120000, 150000, 120000, 126000, 120000, 120000, 120000, 120000, 120000, 119000, 120000, 120000, 120000, 120000, 120000, 124000, 124000, 120000, 120000, 120000, 120000, 120000, 120000, 120000, 120000, 120000, 120000, 120000, 120000, 120000, 126000, 120000, 126000, 120000, 120000, 120000, 120000, 120000, 120000, 450000, 120000, 120000, 120000, 120000, 120000, 126000, 120000, 120000, 120000, 120000, 120000, 120000, 120000, 120000, 128000, 126000, 120000, 132000, 120000, 120000, 120000, 120000, 130000, 120000, 120000, 120000, 160800, 120000, 120000, 120000, 120000, 300000, 120000, 450000, 120000, 120000, 120000, 120000, 120000, 120000, 120000, 120000, 120000, 120000, 120000, 120000, 120000, 120000, 120000, 120000, 120000, 120000, 120000, 120000, 120000, 120000, 120000, 120000, 120000, 120000, 120000, 120000, 120000, 120000, 120000, 150000, 215000, 120000, 120000, 120000, 220000, 180000, 235000, 175000, 120000, 120000, 120000, 120000, 120000, 120000, 120000, 120000, 120000, 120000, 132000, 132000, 132000, 850000, 120000, 120000, 132000, 120000, 120000, 120000, 120000, 120000, 120000, 120000, 120000, 120000, 120000, 120000, 120000, 126000, 132000, 145200, 144000, 144000, 120000, 120000, 120000, 120000, 120000, 120000, 120000, 120000, 120000, 120000, 120000, 120000, 120000, 120000, 120000, 120000, 120000, 120000, 120000, 120000, 120000, 120000, 120000, 120000, 120000, 120000, 132000, 120000, 120000, 120000, 132000, 120000, 120000, 180000, 128000, 120000, 140000, 198000, 124000, 202800, 120000, 145000, 310000, 184000, 222000, 264000, 304000, 228000, 228000, 120000, 120000, 120000, 120000, 120000, 120000, 120000, 120000, 120000, 120000, 120000, 180000, 180000, 120000, 120000, 120000, 120000, 120000, 120000, 120000, 120000, 120000, 120000, 120000, 120000, 120000, 120000, 120000, 120000, 120000, 120000, 120000, 120000, 120000, 120000, 120000, 120000, 120000, 120000, 120000, 120000, 120000, 120000, 120000, 120000, 120000, 120000, 120000, 120000, 120000, 120000, 120000, 130000, 120000, 120000, 120000, 120000, 120000, 120000, 120000, 120000, 120000, 120000, 120000, 120000, 120000, 120000, 120000, 120000, 120000, 120000, 120000, 120000, 120000, 120000, 120000, 120000, 120000, 120000, 120000, 120000, 120000, 120000, 120000]\n"
     ]
    }
   ],
   "source": [
    "outlier =[]\n",
    "for i in clean_data['annual_income']:\n",
    "    if (( i > up_lim ) or ( i < low_lim )):\n",
    "         outlier.append(i)\n",
    "print('Outliers in Annual income are: '\"\\n\", outlier)"
   ]
  },
  {
   "cell_type": "code",
   "execution_count": 168,
   "metadata": {},
   "outputs": [
    {
     "data": {
      "text/plain": [
       "39974"
      ]
     },
     "execution_count": 168,
     "metadata": {},
     "output_type": "execute_result"
    }
   ],
   "source": [
    "len(final_data['annual_income'])"
   ]
  },
  {
   "cell_type": "code",
   "execution_count": 183,
   "metadata": {},
   "outputs": [
    {
     "data": {
      "text/plain": [
       "365"
      ]
     },
     "execution_count": 183,
     "metadata": {},
     "output_type": "execute_result"
    }
   ],
   "source": [
    "len(outlier)"
   ]
  },
  {
   "cell_type": "markdown",
   "metadata": {},
   "source": [
    "### ---------------------------------"
   ]
  },
  {
   "cell_type": "markdown",
   "metadata": {},
   "source": [
    "### Correlation Matrix"
   ]
  },
  {
   "cell_type": "code",
   "execution_count": 174,
   "metadata": {},
   "outputs": [
    {
     "data": {
      "image/png": "[encoded data removed]",
      "text/plain": [
       "<Figure size 1296x864 with 2 Axes>"
      ]
     },
     "metadata": {
      "needs_background": "light"
     },
     "output_type": "display_data"
    }
   ],
   "source": [
    "x = final_data \n",
    "f, ax = plt.subplots(figsize=(18, 12))\n",
    "sns.heatmap(x.corr(), annot=True, annot_kws={\"size\":12}, linewidths=0.1, fmt='.1f', ax = ax, square=True );"
   ]
  },
  {
   "cell_type": "markdown",
   "metadata": {},
   "source": [
    "### ---------------------------------------------------------------------------------------------------"
   ]
  },
  {
   "cell_type": "markdown",
   "metadata": {},
   "source": [
    "### Splitting data into Training and Testing"
   ]
  },
  {
   "cell_type": "code",
   "execution_count": 133,
   "metadata": {},
   "outputs": [
    {
     "data": {
      "text/plain": [
       "Index(['age', 'social_class', 'primary_business', 'annual_income',\n",
       "       'monthly_expenses', 'old_dependents', 'young_dependents',\n",
       "       'home_ownership', 'occupants_count', 'house_area',\n",
       "       'sanitary_availability', 'water_availabity', 'loan_purpose',\n",
       "       'loan_tenure', 'loan_installments', 'loan_amount', 'sex_F', 'sex_M',\n",
       "       'sex_TG'],\n",
       "      dtype='object')"
      ]
     },
     "execution_count": 133,
     "metadata": {},
     "output_type": "execute_result"
    }
   ],
   "source": [
    "final_data.columns"
   ]
  },
  {
   "cell_type": "code",
   "execution_count": 134,
   "metadata": {},
   "outputs": [],
   "source": [
    "X = final_data.drop('loan_amount', axis=1)\n",
    "y = final_data['loan_amount']"
   ]
  },
  {
   "cell_type": "code",
   "execution_count": 135,
   "metadata": {},
   "outputs": [],
   "source": [
    "X = X.values\n",
    "y = y.values"
   ]
  },
  {
   "cell_type": "code",
   "execution_count": 136,
   "metadata": {},
   "outputs": [],
   "source": [
    "from sklearn.model_selection import train_test_split\n",
    "X_train, X_test, y_train, y_test = train_test_split(X, y, test_size=0.33, random_state=42)"
   ]
  },
  {
   "cell_type": "markdown",
   "metadata": {},
   "source": [
    "### ---------------------------------"
   ]
  },
  {
   "cell_type": "markdown",
   "metadata": {},
   "source": [
    "### Linear Regression"
   ]
  },
  {
   "cell_type": "code",
   "execution_count": 83,
   "metadata": {},
   "outputs": [
    {
     "data": {
      "text/plain": [
       "LinearRegression()"
      ]
     },
     "execution_count": 83,
     "metadata": {},
     "output_type": "execute_result"
    }
   ],
   "source": [
    "#Fitting the model on training data\n",
    "from sklearn.linear_model import LinearRegression\n",
    "linearRegressor = LinearRegression()\n",
    "linearRegressor.fit(X_train, y_train)\n"
   ]
  },
  {
   "cell_type": "code",
   "execution_count": 84,
   "metadata": {},
   "outputs": [
    {
     "data": {
      "text/plain": [
       "2.0248824402260057"
      ]
     },
     "execution_count": 84,
     "metadata": {},
     "output_type": "execute_result"
    }
   ],
   "source": [
    "linearRegressor.score(X_train, y_train)*100"
   ]
  },
  {
   "cell_type": "code",
   "execution_count": 85,
   "metadata": {},
   "outputs": [
    {
     "data": {
      "text/plain": [
       "LinearRegression()"
      ]
     },
     "execution_count": 85,
     "metadata": {},
     "output_type": "execute_result"
    }
   ],
   "source": [
    "#Fitting the model on testing data\n",
    "linearRegressor.fit(X_test, y_test)"
   ]
  },
  {
   "cell_type": "code",
   "execution_count": 86,
   "metadata": {},
   "outputs": [
    {
     "data": {
      "text/plain": [
       "2.278892439409941"
      ]
     },
     "execution_count": 86,
     "metadata": {},
     "output_type": "execute_result"
    }
   ],
   "source": [
    "linearRegressor.score(X_test, y_test)*100"
   ]
  },
  {
   "cell_type": "markdown",
   "metadata": {},
   "source": [
    "### ---------------------------------"
   ]
  },
  {
   "cell_type": "markdown",
   "metadata": {},
   "source": [
    "### Support Vector Regressor"
   ]
  },
  {
   "cell_type": "code",
   "execution_count": 137,
   "metadata": {},
   "outputs": [],
   "source": [
    "from sklearn import svm\n",
    "svr = svm.SVR()"
   ]
  },
  {
   "cell_type": "code",
   "execution_count": 138,
   "metadata": {},
   "outputs": [
    {
     "data": {
      "text/plain": [
       "SVR()"
      ]
     },
     "execution_count": 138,
     "metadata": {},
     "output_type": "execute_result"
    }
   ],
   "source": [
    "svr.fit(X_train, y_train)"
   ]
  },
  {
   "cell_type": "code",
   "execution_count": 139,
   "metadata": {},
   "outputs": [
    {
     "data": {
      "text/plain": [
       "array([8072.44443898, 7629.36617765, 7189.81359821, ..., 7783.34133165,\n",
       "       7950.16352165, 8000.76932904])"
      ]
     },
     "execution_count": 139,
     "metadata": {},
     "output_type": "execute_result"
    }
   ],
   "source": [
    "y_pred_svr = svr.predict(X_train)\n",
    "y_pred_svr"
   ]
  },
  {
   "cell_type": "code",
   "execution_count": 140,
   "metadata": {},
   "outputs": [
    {
     "data": {
      "text/plain": [
       "0.2742348396788885"
      ]
     },
     "execution_count": 140,
     "metadata": {},
     "output_type": "execute_result"
    }
   ],
   "source": [
    "svr.score(X_train, y_train)*100"
   ]
  },
  {
   "cell_type": "code",
   "execution_count": 145,
   "metadata": {},
   "outputs": [
    {
     "data": {
      "text/plain": [
       "SVR()"
      ]
     },
     "execution_count": 145,
     "metadata": {},
     "output_type": "execute_result"
    }
   ],
   "source": [
    "svr.fit(X_test, y_test)"
   ]
  },
  {
   "cell_type": "code",
   "execution_count": 147,
   "metadata": {},
   "outputs": [
    {
     "data": {
      "text/plain": [
       "array([7568.26811407, 7791.93133487, 6941.35233565, ..., 7526.85278069,\n",
       "       7335.46259985, 8013.33341703])"
      ]
     },
     "execution_count": 147,
     "metadata": {},
     "output_type": "execute_result"
    }
   ],
   "source": [
    "y_pred_svr_test = svr.predict(X_test)\n",
    "y_pred_svr_test"
   ]
  },
  {
   "cell_type": "code",
   "execution_count": 148,
   "metadata": {},
   "outputs": [
    {
     "data": {
      "text/plain": [
       "0.2078621746646303"
      ]
     },
     "execution_count": 148,
     "metadata": {},
     "output_type": "execute_result"
    }
   ],
   "source": [
    "svr.score(X_test, y_test)*100"
   ]
  },
  {
   "cell_type": "markdown",
   "metadata": {},
   "source": [
    "### ---------------------------------"
   ]
  },
  {
   "cell_type": "markdown",
   "metadata": {},
   "source": [
    "### Decision Tree Regressor"
   ]
  },
  {
   "cell_type": "code",
   "execution_count": 87,
   "metadata": {},
   "outputs": [],
   "source": [
    "#Fitting the model on training data\n",
    "from sklearn.tree import DecisionTreeRegressor \n",
    "decisionTree = DecisionTreeRegressor(random_state = 0) "
   ]
  },
  {
   "cell_type": "code",
   "execution_count": 88,
   "metadata": {},
   "outputs": [
    {
     "data": {
      "text/plain": [
       "DecisionTreeRegressor(random_state=0)"
      ]
     },
     "execution_count": 88,
     "metadata": {},
     "output_type": "execute_result"
    }
   ],
   "source": [
    "# fit the model with X and Y data\n",
    "decisionTree.fit(X_train, y_train)"
   ]
  },
  {
   "cell_type": "code",
   "execution_count": 89,
   "metadata": {},
   "outputs": [],
   "source": [
    "# predicting a new value\n",
    "y_pred_dt = decisionTree.predict(X_train)"
   ]
  },
  {
   "cell_type": "code",
   "execution_count": 90,
   "metadata": {},
   "outputs": [
    {
     "data": {
      "text/plain": [
       "99.96420907799765"
      ]
     },
     "execution_count": 90,
     "metadata": {},
     "output_type": "execute_result"
    }
   ],
   "source": [
    "decisionTree.score(X_train, y_train)*100"
   ]
  },
  {
   "cell_type": "code",
   "execution_count": 91,
   "metadata": {},
   "outputs": [
    {
     "data": {
      "text/plain": [
       "DecisionTreeRegressor(random_state=0)"
      ]
     },
     "execution_count": 91,
     "metadata": {},
     "output_type": "execute_result"
    }
   ],
   "source": [
    "decisionTree.fit(X_test, y_test)"
   ]
  },
  {
   "cell_type": "code",
   "execution_count": 92,
   "metadata": {},
   "outputs": [],
   "source": [
    "y_pred_dt = decisionTree.predict(X_test)"
   ]
  },
  {
   "cell_type": "code",
   "execution_count": 93,
   "metadata": {},
   "outputs": [
    {
     "data": {
      "text/plain": [
       "99.98141257783746"
      ]
     },
     "execution_count": 93,
     "metadata": {},
     "output_type": "execute_result"
    }
   ],
   "source": [
    "decisionTree.score(X_test, y_test)*100"
   ]
  },
  {
   "cell_type": "markdown",
   "metadata": {},
   "source": [
    "    It seems that Decision Tree is Overfitting. Using Bagging avoid overfitting."
   ]
  },
  {
   "cell_type": "markdown",
   "metadata": {},
   "source": [
    "### Bagging using Decision Tree"
   ]
  },
  {
   "cell_type": "markdown",
   "metadata": {},
   "source": [
    "    The idea behind Bagging or Bootstrapping is combining the results of multiple models to get a generalized result. Bootstrapping is a sampling technique in which we create subsets of observations from the original dataset, with replacement. The size of the subsets is the same as the size of the original set."
   ]
  },
  {
   "cell_type": "code",
   "execution_count": 97,
   "metadata": {},
   "outputs": [
    {
     "data": {
      "text/plain": [
       "array([11925., 10000., 10200., ..., 10000.,  6300.,  9500.])"
      ]
     },
     "execution_count": 97,
     "metadata": {},
     "output_type": "execute_result"
    }
   ],
   "source": [
    "from sklearn.ensemble import BaggingRegressor\n",
    "from sklearn.datasets import make_regression\n",
    "X, y = make_regression(n_samples=100, n_features=4,\n",
    "                       n_informative=2, n_targets=1,\n",
    "                       random_state=0, shuffle=False)\n",
    "bagReg = BaggingRegressor(base_estimator=DecisionTreeRegressor(),\n",
    "                        n_estimators=10, random_state=0).fit(X_train, y_train)\n",
    "y_predict_train = bagReg.predict(X_train)\n",
    "y_predict_train"
   ]
  },
  {
   "cell_type": "code",
   "execution_count": 98,
   "metadata": {},
   "outputs": [
    {
     "data": {
      "text/plain": [
       "83.9800780993603"
      ]
     },
     "execution_count": 98,
     "metadata": {},
     "output_type": "execute_result"
    }
   ],
   "source": [
    "bagReg.score(X_train, y_train)*100"
   ]
  },
  {
   "cell_type": "code",
   "execution_count": 99,
   "metadata": {},
   "outputs": [
    {
     "data": {
      "text/plain": [
       "array([ 5500.,  5900.,  5000., ...,  5300.,  9800., 13000.])"
      ]
     },
     "execution_count": 99,
     "metadata": {},
     "output_type": "execute_result"
    }
   ],
   "source": [
    "bagReg = BaggingRegressor(base_estimator=DecisionTreeRegressor(),\n",
    "                        n_estimators=10, random_state=0).fit(X_test, y_test)\n",
    "y_pred_test = bagReg.predict(X_test)\n",
    "y_pred_test"
   ]
  },
  {
   "cell_type": "code",
   "execution_count": 100,
   "metadata": {},
   "outputs": [
    {
     "data": {
      "text/plain": [
       "94.51291545971138"
      ]
     },
     "execution_count": 100,
     "metadata": {},
     "output_type": "execute_result"
    }
   ],
   "source": [
    "bagReg.score(X_test, y_test)*100"
   ]
  },
  {
   "cell_type": "markdown",
   "metadata": {},
   "source": [
    "### ---------------------------------"
   ]
  },
  {
   "cell_type": "markdown",
   "metadata": {},
   "source": [
    "### Random Forest Regressor"
   ]
  },
  {
   "cell_type": "code",
   "execution_count": 101,
   "metadata": {},
   "outputs": [],
   "source": [
    "from sklearn.ensemble import RandomForestRegressor\n",
    "rfregressor = RandomForestRegressor(n_estimators = 100, random_state = 0)\n",
    "rfregressor.fit(X_train, y_train) \n",
    "y_pred_rf = rfregressor.predict(X_train)"
   ]
  },
  {
   "cell_type": "code",
   "execution_count": 102,
   "metadata": {},
   "outputs": [
    {
     "data": {
      "text/plain": [
       "91.73626671884311"
      ]
     },
     "execution_count": 102,
     "metadata": {},
     "output_type": "execute_result"
    }
   ],
   "source": [
    "rfregressor.score(X_train, y_train)*100"
   ]
  },
  {
   "cell_type": "code",
   "execution_count": 104,
   "metadata": {},
   "outputs": [
    {
     "data": {
      "text/plain": [
       "array([10490.,  9909.,  9980., ...,  9853.,  6836.,  8410.])"
      ]
     },
     "execution_count": 104,
     "metadata": {},
     "output_type": "execute_result"
    }
   ],
   "source": [
    "rfregressor.fit(X_test, y_test)\n",
    "y_pred_rftest = rfregressor.predict(X_train)\n",
    "y_pred_rftest"
   ]
  },
  {
   "cell_type": "code",
   "execution_count": 105,
   "metadata": {},
   "outputs": [
    {
     "data": {
      "text/plain": [
       "88.03448106236401"
      ]
     },
     "execution_count": 105,
     "metadata": {},
     "output_type": "execute_result"
    }
   ],
   "source": [
    "rfregressor.score(X_test, y_test)*100"
   ]
  },
  {
   "cell_type": "markdown",
   "metadata": {},
   "source": [
    "### ---------------------------------"
   ]
  },
  {
   "cell_type": "markdown",
   "metadata": {},
   "source": [
    "### XGBoost"
   ]
  },
  {
   "cell_type": "code",
   "execution_count": 102,
   "metadata": {},
   "outputs": [],
   "source": [
    "import xgboost as xgb\n",
    "xgbr = xgb.XGBRegressor(verbosity=0) "
   ]
  },
  {
   "cell_type": "code",
   "execution_count": 74,
   "metadata": {},
   "outputs": [
    {
     "data": {
      "text/plain": [
       "XGBRegressor(base_score=0.5, booster='gbtree', colsample_bylevel=1,\n",
       "             colsample_bynode=1, colsample_bytree=1, enable_categorical=False,\n",
       "             gamma=0, gpu_id=-1, importance_type=None,\n",
       "             interaction_constraints='', learning_rate=0.300000012,\n",
       "             max_delta_step=0, max_depth=6, min_child_weight=1, missing=nan,\n",
       "             monotone_constraints='()', n_estimators=100, n_jobs=4,\n",
       "             num_parallel_tree=1, predictor='auto', random_state=0, reg_alpha=0,\n",
       "             reg_lambda=1, scale_pos_weight=1, subsample=1, tree_method='exact',\n",
       "             validate_parameters=1, verbosity=0)"
      ]
     },
     "execution_count": 74,
     "metadata": {},
     "output_type": "execute_result"
    }
   ],
   "source": [
    "xgbr.fit(X_train, y_train)"
   ]
  },
  {
   "cell_type": "code",
   "execution_count": 75,
   "metadata": {},
   "outputs": [
    {
     "data": {
      "text/plain": [
       "98.28336555390945"
      ]
     },
     "execution_count": 75,
     "metadata": {},
     "output_type": "execute_result"
    }
   ],
   "source": [
    "xgbr.score(X_train, y_train)*100"
   ]
  },
  {
   "cell_type": "code",
   "execution_count": 76,
   "metadata": {},
   "outputs": [
    {
     "data": {
      "text/plain": [
       "XGBRegressor(base_score=0.5, booster='gbtree', colsample_bylevel=1,\n",
       "             colsample_bynode=1, colsample_bytree=1, enable_categorical=False,\n",
       "             gamma=0, gpu_id=-1, importance_type=None,\n",
       "             interaction_constraints='', learning_rate=0.300000012,\n",
       "             max_delta_step=0, max_depth=6, min_child_weight=1, missing=nan,\n",
       "             monotone_constraints='()', n_estimators=100, n_jobs=4,\n",
       "             num_parallel_tree=1, predictor='auto', random_state=0, reg_alpha=0,\n",
       "             reg_lambda=1, scale_pos_weight=1, subsample=1, tree_method='exact',\n",
       "             validate_parameters=1, verbosity=0)"
      ]
     },
     "execution_count": 76,
     "metadata": {},
     "output_type": "execute_result"
    }
   ],
   "source": [
    "xgbr.fit(X_test, y_test)"
   ]
  },
  {
   "cell_type": "code",
   "execution_count": 77,
   "metadata": {},
   "outputs": [
    {
     "data": {
      "text/plain": [
       "98.76087658883701"
      ]
     },
     "execution_count": 77,
     "metadata": {},
     "output_type": "execute_result"
    }
   ],
   "source": [
    "xgbr.score(X_test, y_test)*100"
   ]
  },
  {
   "cell_type": "markdown",
   "metadata": {},
   "source": [
    "### ---------------------------------"
   ]
  },
  {
   "cell_type": "markdown",
   "metadata": {},
   "source": [
    "### Ensemble using Stacking"
   ]
  },
  {
   "cell_type": "code",
   "execution_count": 109,
   "metadata": {},
   "outputs": [
    {
     "name": "stdout",
     "output_type": "stream",
     "text": [
      ">rfr -6.904 (1.930)\n",
      ">cart -10.087 (2.758)\n",
      ">linear -0.000 (0.000)\n"
     ]
    },
    {
     "data": {
      "image/png": "[encoded data removed]",
      "text/plain": [
       "<Figure size 720x720 with 1 Axes>"
      ]
     },
     "metadata": {
      "needs_background": "light"
     },
     "output_type": "display_data"
    }
   ],
   "source": [
    "from numpy import mean\n",
    "from numpy import std\n",
    "from sklearn.datasets import make_regression\n",
    "from sklearn.model_selection import cross_val_score\n",
    "from sklearn.model_selection import RepeatedKFold\n",
    "from sklearn.tree import DecisionTreeRegressor\n",
    "from sklearn.svm import SVR\n",
    "from matplotlib import pyplot\n",
    "\n",
    "# Models to be used\n",
    "def get_models():\n",
    "    models = dict()\n",
    "    models['rfr'] = RandomForestRegressor()\n",
    "    models['cart'] = DecisionTreeRegressor()\n",
    "    models['linear'] = LinearRegression()\n",
    "    return models\n",
    "\n",
    "#  Cross Validation\n",
    "def evaluate_model(model, X, y):\n",
    "    cv = RepeatedKFold(n_splits=10, n_repeats=3, random_state=1)\n",
    "    scores = cross_val_score(model, X, y, scoring='neg_mean_absolute_error', cv=cv, n_jobs=-1, error_score='raise')\n",
    "    return scores\n",
    "\n",
    "models = get_models()\n",
    "results = list()\n",
    "names = list()\n",
    "\n",
    "for name, model in models.items():\n",
    "    scores = evaluate_model(model, X, y)\n",
    "    results.append(scores)\n",
    "    names.append(name)\n",
    "    print('>%s %.3f (%.3f)' % (name, mean(scores), std(scores)))\n",
    "\n",
    "plt.figure(figsize=(10,10))\n",
    "pyplot.boxplot(results, labels=names, showmeans=True)\n",
    "pyplot.show()"
   ]
  },
  {
   "cell_type": "code",
   "execution_count": 110,
   "metadata": {},
   "outputs": [],
   "source": [
    "# get a stacking ensemble of models\n",
    "def get_stacking():\n",
    "    # base models\n",
    "    level0 = list()\n",
    "    level0.append(('rfr', RandomForestRegressor()))\n",
    "    level0.append(('cart', DecisionTreeRegressor()))\n",
    "    level0.append(('linear', LinearRegression()))\n",
    "    # meta learner model\n",
    "    level1 = SVR()\n",
    "    # stacking ensemble\n",
    "    model = StackingRegressor(estimators=level0, final_estimator=level1, cv=5)\n",
    "    return model"
   ]
  },
  {
   "cell_type": "code",
   "execution_count": 111,
   "metadata": {},
   "outputs": [],
   "source": [
    "# get a list of models to evaluate\n",
    "def get_models():\n",
    "    models = dict()\n",
    "    models['rfr'] = RandomForestRegressor()\n",
    "    models['cart'] = DecisionTreeRegressor()\n",
    "    models['linear'] = LinearRegression()\n",
    "    models['stacking'] = get_stacking()\n",
    "    return models"
   ]
  },
  {
   "cell_type": "code",
   "execution_count": 113,
   "metadata": {},
   "outputs": [
    {
     "name": "stdout",
     "output_type": "stream",
     "text": [
      ">rfr -6.856 (1.847)\n",
      ">cart -10.080 (2.839)\n",
      ">linear -0.000 (0.000)\n",
      ">stacking -17.327 (5.830)\n"
     ]
    },
    {
     "data": {
      "image/png": "[encoded data removed]",
      "text/plain": [
       "<Figure size 720x720 with 1 Axes>"
      ]
     },
     "metadata": {
      "needs_background": "light"
     },
     "output_type": "display_data"
    }
   ],
   "source": [
    "# compare ensemble to each standalone models for regression\n",
    "from numpy import mean\n",
    "from numpy import std\n",
    "from sklearn.datasets import make_regression\n",
    "from sklearn.model_selection import cross_val_score\n",
    "from sklearn.model_selection import RepeatedKFold\n",
    "from sklearn.linear_model import LinearRegression\n",
    "from sklearn.neighbors import KNeighborsRegressor\n",
    "from sklearn.tree import DecisionTreeRegressor\n",
    "from sklearn.svm import SVR\n",
    "from sklearn.ensemble import StackingRegressor\n",
    "from matplotlib import pyplot\n",
    "\n",
    "# stacking ensemble of models\n",
    "def get_stacking():\n",
    "    # base models\n",
    "    level0 = list()\n",
    "    level0.append(('rfr', RandomForestRegressor()))\n",
    "    level0.append(('cart', DecisionTreeRegressor()))\n",
    "    level0.append(('linear', LinearRegression()))\n",
    "    # meta learner model\n",
    "    level1 = SVR()\n",
    "    # stacking ensemble\n",
    "    model = StackingRegressor(estimators=level0, final_estimator=level1, cv=5)\n",
    "    return model\n",
    "\n",
    "# get a list of models to evaluate\n",
    "def get_models():\n",
    "    models = dict()\n",
    "    models['rfr'] = RandomForestRegressor()\n",
    "    models['cart'] = DecisionTreeRegressor()\n",
    "    models['linear'] = LinearRegression()\n",
    "    models['stacking'] = get_stacking()\n",
    "    return models\n",
    "\n",
    "# Cross Validation\n",
    "def evaluate_model(model, X, y):\n",
    "    cv = RepeatedKFold(n_splits=10, n_repeats=3, random_state=1)\n",
    "    scores = cross_val_score(model, X, y, scoring='neg_mean_absolute_error', cv=cv, n_jobs=-1, error_score='raise')\n",
    "    return scores\n",
    "\n",
    "models = get_models()\n",
    "\n",
    "results = list()\n",
    "names = list()\n",
    "    \n",
    "for name, model in models.items():\n",
    "    scores = evaluate_model(model, X, y)\n",
    "    results.append(scores)\n",
    "    names.append(name)\n",
    "    print('>%s %.3f (%.3f)' % (name, mean(scores), std(scores)))\n",
    "    \n",
    "plt.figure(figsize=(10,10))\n",
    "pyplot.boxplot(results, labels=names, showmeans=True)\n",
    "pyplot.show()"
   ]
  },
  {
   "cell_type": "markdown",
   "metadata": {},
   "source": [
    "##### "
   ]
  },
  {
   "cell_type": "markdown",
   "metadata": {},
   "source": [
    "### Ensemble 2"
   ]
  },
  {
   "cell_type": "code",
   "execution_count": 114,
   "metadata": {},
   "outputs": [
    {
     "name": "stdout",
     "output_type": "stream",
     "text": [
      ">knn -10.749 (2.637)\n",
      ">cart -9.806 (2.790)\n",
      ">rfr -6.965 (2.085)\n",
      ">svm -26.601 (5.895)\n"
     ]
    },
    {
     "data": {
      "image/png": "[encoded data removed]",
      "text/plain": [
       "<Figure size 720x720 with 1 Axes>"
      ]
     },
     "metadata": {
      "needs_background": "light"
     },
     "output_type": "display_data"
    }
   ],
   "source": [
    "from numpy import mean\n",
    "from numpy import std\n",
    "from sklearn.datasets import make_regression\n",
    "from sklearn.model_selection import cross_val_score\n",
    "from sklearn.model_selection import RepeatedKFold\n",
    "from sklearn.linear_model import LinearRegression\n",
    "from sklearn.neighbors import KNeighborsRegressor\n",
    "from sklearn.tree import DecisionTreeRegressor\n",
    "from sklearn.ensemble import RandomForestRegressor\n",
    "from sklearn.svm import SVR\n",
    "from matplotlib import pyplot\n",
    "\n",
    "# Models\n",
    "def get_models():\n",
    "    models = dict()\n",
    "    models['knn'] = KNeighborsRegressor()\n",
    "    models['cart'] = DecisionTreeRegressor()\n",
    "    models['rfr'] = RandomForestRegressor()\n",
    "    models['svm'] = SVR()\n",
    "    return models\n",
    "\n",
    "# Cross Validation\n",
    "def evaluate_model(model, X, y):\n",
    "    cv = RepeatedKFold(n_splits=10, n_repeats=3, random_state=1)\n",
    "    scores = cross_val_score(model, X, y, scoring='neg_mean_absolute_error', cv=cv, n_jobs=-1, error_score='raise')\n",
    "    return scores\n",
    "\n",
    "models = get_models()\n",
    "results = list()\n",
    "names = list()\n",
    "\n",
    "for name, model in models.items():\n",
    "    scores = evaluate_model(model, X, y)\n",
    "    results.append(scores)\n",
    "    names.append(name)\n",
    "    print('>%s %.3f (%.3f)' % (name, mean(scores), std(scores)))\n",
    "\n",
    "plt.figure(figsize=(10,10))\n",
    "pyplot.boxplot(results, labels=names, showmeans=True)\n",
    "pyplot.show()"
   ]
  },
  {
   "cell_type": "code",
   "execution_count": 115,
   "metadata": {},
   "outputs": [],
   "source": [
    "# get a stacking ensemble of models\n",
    "def get_stacking():\n",
    "    # base models\n",
    "    level0 = list()\n",
    "    level0.append(('knn', KNeighborsRegressor()))\n",
    "    level0.append(('cart', DecisionTreeRegressor()))\n",
    "    level0.append(('svm', SVR()))\n",
    "    # meta learner model\n",
    "    level1 = LinearRegression()\n",
    "    # stacking ensemble\n",
    "    model = StackingRegressor(estimators=level0, final_estimator=level1, cv=5)\n",
    "    return model"
   ]
  },
  {
   "cell_type": "code",
   "execution_count": 118,
   "metadata": {},
   "outputs": [],
   "source": [
    "# get a list of models to evaluate\n",
    "def get_models():\n",
    "    models = dict()\n",
    "    models['knn'] = KNeighborsRegressor()\n",
    "    models['cart'] = DecisionTreeRegressor()\n",
    "    models['svm'] = SVR()\n",
    "    models['stacking'] = get_stacking()\n",
    "    return models"
   ]
  },
  {
   "cell_type": "code",
   "execution_count": 119,
   "metadata": {},
   "outputs": [
    {
     "name": "stdout",
     "output_type": "stream",
     "text": [
      ">knn -10.749 (2.637)\n",
      ">cart -10.253 (2.820)\n",
      ">svm -26.601 (5.895)\n",
      ">stacking -7.962 (1.872)\n"
     ]
    },
    {
     "data": {
      "image/png": "[encoded data removed]",
      "text/plain": [
       "<Figure size 720x720 with 1 Axes>"
      ]
     },
     "metadata": {
      "needs_background": "light"
     },
     "output_type": "display_data"
    }
   ],
   "source": [
    "# compare ensemble to each standalone models for regression\n",
    "from numpy import mean\n",
    "from numpy import std\n",
    "from sklearn.datasets import make_regression\n",
    "from sklearn.model_selection import cross_val_score\n",
    "from sklearn.model_selection import RepeatedKFold\n",
    "from sklearn.linear_model import LinearRegression\n",
    "from sklearn.neighbors import KNeighborsRegressor\n",
    "from sklearn.tree import DecisionTreeRegressor\n",
    "from sklearn.svm import SVR\n",
    "from sklearn.ensemble import StackingRegressor\n",
    "from matplotlib import pyplot\n",
    "\n",
    "\n",
    "# Stacking ensemble of models\n",
    "def get_stacking():\n",
    "    # Base models\n",
    "    level0 = list()\n",
    "    level0.append(('knn', KNeighborsRegressor()))\n",
    "    level0.append(('cart', DecisionTreeRegressor()))\n",
    "    level0.append(('svm', SVR()))\n",
    "    # Meta learner model\n",
    "    level1 = LinearRegression()\n",
    "    # Stacking ensemble\n",
    "    model = StackingRegressor(estimators=level0, final_estimator=level1, cv=5)\n",
    "    return model\n",
    "\n",
    "# Models\n",
    "def get_models():\n",
    "    models = dict()\n",
    "    models['knn'] = KNeighborsRegressor()\n",
    "    models['cart'] = DecisionTreeRegressor()\n",
    "    models['svm'] = SVR()\n",
    "    models['stacking'] = get_stacking()\n",
    "    return models\n",
    "\n",
    "# Cross Validation\n",
    "def evaluate_model(model, X, y):\n",
    "    cv = RepeatedKFold(n_splits=10, n_repeats=3, random_state=1)\n",
    "    scores = cross_val_score(model, X, y, scoring='neg_mean_absolute_error', cv=cv, n_jobs=-1, error_score='raise')\n",
    "    return scores\n",
    "\n",
    "models = get_models()\n",
    "\n",
    "results = list()\n",
    "names = list()\n",
    "\n",
    "for name, model in models.items():\n",
    "    scores = evaluate_model(model, X, y)\n",
    "    results.append(scores)\n",
    "    names.append(name)\n",
    "    print('>%s %.3f (%.3f)' % (name, mean(scores), std(scores)))\n",
    "    \n",
    "plt.figure(figsize=(10,10))\n",
    "pyplot.boxplot(results, labels=names, showmeans=True)\n",
    "pyplot.show()"
   ]
  },
  {
   "cell_type": "code",
   "execution_count": null,
   "metadata": {},
   "outputs": [],
   "source": []
  }
 ],
 "metadata": {
  "kernelspec": {
   "display_name": "Python 3",
   "language": "python",
   "name": "python3"
  },
  "language_info": {
   "codemirror_mode": {
    "name": "ipython",
    "version": 3
   },
   "file_extension": ".py",
   "mimetype": "text/x-python",
   "name": "python",
   "nbconvert_exporter": "python",
   "pygments_lexer": "ipython3",
   "version": "3.8.5"
  }
 },
 "nbformat": 4,
 "nbformat_minor": 4
}
